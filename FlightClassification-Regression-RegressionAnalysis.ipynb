{
 "cells": [
  {
   "cell_type": "code",
   "execution_count": 1,
   "id": "530bdca2",
   "metadata": {},
   "outputs": [],
   "source": [
    "import pandas as pd\n",
    "import numpy as np\n",
    "import os\n",
    "from sklearn.model_selection import train_test_split\n",
    "import seaborn as sns\n",
    "import matplotlib.pyplot as plt\n",
    "from sklearn.linear_model import LogisticRegression\n",
    "from sklearn.metrics import classification_report\n",
    "from imblearn.over_sampling import SMOTE\n",
    "from sklearn.tree import DecisionTreeClassifier\n",
    "from sklearn.ensemble import RandomForestClassifier\n",
    "from xgboost import XGBClassifier\n",
    "from imblearn.under_sampling import NearMiss\n",
    "from imblearn.under_sampling import RandomUnderSampler\n",
    "from sklearn.ensemble import ExtraTreesClassifier\n",
    "from sklearn.linear_model import LinearRegression\n",
    "from sklearn.ensemble import ExtraTreesRegressor\n",
    "from sklearn.ensemble import RandomForestRegressor\n",
    "import xgboost as xg\n",
    "from sklearn.metrics import mean_absolute_error\n",
    "from sklearn.metrics import r2_score\n",
    "from sklearn.metrics import mean_squared_error\n",
    "import pickle "
   ]
  },
  {
   "cell_type": "code",
   "execution_count": 2,
   "id": "ea902598",
   "metadata": {},
   "outputs": [],
   "source": [
    "df1 = pd.read_csv('./Weather dataset/final_merged.csv')\n",
    "df1 = df1.drop(['Unnamed: 0'] , axis=1)"
   ]
  },
  {
   "cell_type": "code",
   "execution_count": 3,
   "id": "532bf66c",
   "metadata": {},
   "outputs": [
    {
     "data": {
      "text/plain": [
       "Index(['Year', 'Quarter', 'Month', 'DayofMonth', 'FlightDate',\n",
       "       'OriginAirportID', 'Origin', 'DestAirportID', 'Dest', 'CRSDepTime',\n",
       "       'DepTime', 'DepDelayMinutes', 'DepDel15', 'CRSArrTime', 'ArrTime',\n",
       "       'ArrDelayMinutes', 'ArrDel15', 'time', 'windspeedKmph', 'DewPointF',\n",
       "       'cloudcover', 'precipMM', 'pressure', 'WindGustKmph', 'visibility',\n",
       "       'weatherCode', 'tempF', 'WindChillF', 'winddirDegree', 'humidity',\n",
       "       'date', 'airport'],\n",
       "      dtype='object')"
      ]
     },
     "execution_count": 3,
     "metadata": {},
     "output_type": "execute_result"
    }
   ],
   "source": [
    "df1.columns"
   ]
  },
  {
   "cell_type": "code",
   "execution_count": 4,
   "id": "5fc58198",
   "metadata": {},
   "outputs": [
    {
     "data": {
      "text/plain": [
       "(1877296, 32)"
      ]
     },
     "execution_count": 4,
     "metadata": {},
     "output_type": "execute_result"
    }
   ],
   "source": [
    "df1.shape"
   ]
  },
  {
   "cell_type": "code",
   "execution_count": 5,
   "id": "1e8d13fd",
   "metadata": {},
   "outputs": [
    {
     "data": {
      "text/plain": [
       "Year                   0\n",
       "Quarter                0\n",
       "Month                  0\n",
       "DayofMonth             0\n",
       "FlightDate             0\n",
       "OriginAirportID        0\n",
       "Origin                 0\n",
       "DestAirportID          0\n",
       "Dest                   0\n",
       "CRSDepTime             0\n",
       "DepTime            20980\n",
       "DepDelayMinutes    20987\n",
       "DepDel15           20987\n",
       "CRSArrTime             0\n",
       "ArrTime            22080\n",
       "ArrDelayMinutes    25860\n",
       "ArrDel15           25860\n",
       "time                   0\n",
       "windspeedKmph          0\n",
       "DewPointF              0\n",
       "cloudcover             0\n",
       "precipMM               0\n",
       "pressure               0\n",
       "WindGustKmph           0\n",
       "visibility             0\n",
       "weatherCode            0\n",
       "tempF                  0\n",
       "WindChillF             0\n",
       "winddirDegree          0\n",
       "humidity               0\n",
       "date                   0\n",
       "airport                0\n",
       "dtype: int64"
      ]
     },
     "execution_count": 5,
     "metadata": {},
     "output_type": "execute_result"
    }
   ],
   "source": [
    "df1.isnull().sum()"
   ]
  },
  {
   "cell_type": "code",
   "execution_count": 6,
   "id": "929ee473",
   "metadata": {},
   "outputs": [],
   "source": [
    "df1=df1.dropna()"
   ]
  },
  {
   "cell_type": "code",
   "execution_count": 7,
   "id": "25f38799",
   "metadata": {},
   "outputs": [
    {
     "data": {
      "text/plain": [
       "(1851436, 32)"
      ]
     },
     "execution_count": 7,
     "metadata": {},
     "output_type": "execute_result"
    }
   ],
   "source": [
    "df1.shape"
   ]
  },
  {
   "cell_type": "code",
   "execution_count": 8,
   "id": "e7ddbd18",
   "metadata": {},
   "outputs": [],
   "source": [
    "df1 = df1.drop(['FlightDate','Origin','Dest','time','date','airport','ArrTime','ArrDel15','ArrDelayMinutes',\n",
    "       'DepTime'],axis=1)"
   ]
  },
  {
   "cell_type": "code",
   "execution_count": 9,
   "id": "09a134ec",
   "metadata": {},
   "outputs": [
    {
     "data": {
      "text/plain": [
       "Year               0\n",
       "Quarter            0\n",
       "Month              0\n",
       "DayofMonth         0\n",
       "OriginAirportID    0\n",
       "DestAirportID      0\n",
       "CRSDepTime         0\n",
       "DepDelayMinutes    0\n",
       "DepDel15           0\n",
       "CRSArrTime         0\n",
       "windspeedKmph      0\n",
       "DewPointF          0\n",
       "cloudcover         0\n",
       "precipMM           0\n",
       "pressure           0\n",
       "WindGustKmph       0\n",
       "visibility         0\n",
       "weatherCode        0\n",
       "tempF              0\n",
       "WindChillF         0\n",
       "winddirDegree      0\n",
       "humidity           0\n",
       "dtype: int64"
      ]
     },
     "execution_count": 9,
     "metadata": {},
     "output_type": "execute_result"
    }
   ],
   "source": [
    "df1.isnull().sum()"
   ]
  },
  {
   "cell_type": "code",
   "execution_count": 10,
   "id": "c5a1eacc",
   "metadata": {},
   "outputs": [
    {
     "data": {
      "text/html": [
       "<div>\n",
       "<style scoped>\n",
       "    .dataframe tbody tr th:only-of-type {\n",
       "        vertical-align: middle;\n",
       "    }\n",
       "\n",
       "    .dataframe tbody tr th {\n",
       "        vertical-align: top;\n",
       "    }\n",
       "\n",
       "    .dataframe thead th {\n",
       "        text-align: right;\n",
       "    }\n",
       "</style>\n",
       "<table border=\"1\" class=\"dataframe\">\n",
       "  <thead>\n",
       "    <tr style=\"text-align: right;\">\n",
       "      <th></th>\n",
       "      <th>Year</th>\n",
       "      <th>Quarter</th>\n",
       "      <th>Month</th>\n",
       "      <th>DayofMonth</th>\n",
       "      <th>OriginAirportID</th>\n",
       "      <th>DestAirportID</th>\n",
       "      <th>CRSDepTime</th>\n",
       "      <th>DepDelayMinutes</th>\n",
       "      <th>DepDel15</th>\n",
       "      <th>CRSArrTime</th>\n",
       "      <th>...</th>\n",
       "      <th>cloudcover</th>\n",
       "      <th>precipMM</th>\n",
       "      <th>pressure</th>\n",
       "      <th>WindGustKmph</th>\n",
       "      <th>visibility</th>\n",
       "      <th>weatherCode</th>\n",
       "      <th>tempF</th>\n",
       "      <th>WindChillF</th>\n",
       "      <th>winddirDegree</th>\n",
       "      <th>humidity</th>\n",
       "    </tr>\n",
       "  </thead>\n",
       "  <tbody>\n",
       "    <tr>\n",
       "      <th>Year</th>\n",
       "      <td>1.000000</td>\n",
       "      <td>-0.001637</td>\n",
       "      <td>-0.002259</td>\n",
       "      <td>0.000282</td>\n",
       "      <td>0.000417</td>\n",
       "      <td>0.000467</td>\n",
       "      <td>0.001652</td>\n",
       "      <td>0.003559</td>\n",
       "      <td>0.005343</td>\n",
       "      <td>0.000132</td>\n",
       "      <td>...</td>\n",
       "      <td>-0.090776</td>\n",
       "      <td>0.009011</td>\n",
       "      <td>-0.044014</td>\n",
       "      <td>0.040500</td>\n",
       "      <td>0.058149</td>\n",
       "      <td>-0.022875</td>\n",
       "      <td>-0.010559</td>\n",
       "      <td>0.004334</td>\n",
       "      <td>0.000652</td>\n",
       "      <td>-0.044481</td>\n",
       "    </tr>\n",
       "    <tr>\n",
       "      <th>Quarter</th>\n",
       "      <td>-0.001637</td>\n",
       "      <td>1.000000</td>\n",
       "      <td>0.970563</td>\n",
       "      <td>0.010774</td>\n",
       "      <td>0.003222</td>\n",
       "      <td>0.003261</td>\n",
       "      <td>-0.002041</td>\n",
       "      <td>-0.015958</td>\n",
       "      <td>-0.020260</td>\n",
       "      <td>-0.004034</td>\n",
       "      <td>...</td>\n",
       "      <td>-0.086989</td>\n",
       "      <td>-0.038045</td>\n",
       "      <td>0.037480</td>\n",
       "      <td>-0.093063</td>\n",
       "      <td>0.119824</td>\n",
       "      <td>-0.088188</td>\n",
       "      <td>0.153255</td>\n",
       "      <td>0.149327</td>\n",
       "      <td>-0.046110</td>\n",
       "      <td>-0.055307</td>\n",
       "    </tr>\n",
       "    <tr>\n",
       "      <th>Month</th>\n",
       "      <td>-0.002259</td>\n",
       "      <td>0.970563</td>\n",
       "      <td>1.000000</td>\n",
       "      <td>0.010626</td>\n",
       "      <td>0.003303</td>\n",
       "      <td>0.003313</td>\n",
       "      <td>-0.001571</td>\n",
       "      <td>-0.017639</td>\n",
       "      <td>-0.021118</td>\n",
       "      <td>-0.004775</td>\n",
       "      <td>...</td>\n",
       "      <td>-0.084364</td>\n",
       "      <td>-0.040742</td>\n",
       "      <td>0.042694</td>\n",
       "      <td>-0.090313</td>\n",
       "      <td>0.120989</td>\n",
       "      <td>-0.088740</td>\n",
       "      <td>0.142800</td>\n",
       "      <td>0.138441</td>\n",
       "      <td>-0.047460</td>\n",
       "      <td>-0.054493</td>\n",
       "    </tr>\n",
       "    <tr>\n",
       "      <th>DayofMonth</th>\n",
       "      <td>0.000282</td>\n",
       "      <td>0.010774</td>\n",
       "      <td>0.010626</td>\n",
       "      <td>1.000000</td>\n",
       "      <td>0.000392</td>\n",
       "      <td>0.000320</td>\n",
       "      <td>0.000285</td>\n",
       "      <td>-0.006648</td>\n",
       "      <td>-0.007052</td>\n",
       "      <td>-0.001930</td>\n",
       "      <td>...</td>\n",
       "      <td>-0.015740</td>\n",
       "      <td>-0.002263</td>\n",
       "      <td>-0.033245</td>\n",
       "      <td>0.006162</td>\n",
       "      <td>0.025409</td>\n",
       "      <td>-0.009805</td>\n",
       "      <td>0.016599</td>\n",
       "      <td>0.016145</td>\n",
       "      <td>0.001128</td>\n",
       "      <td>-0.001509</td>\n",
       "    </tr>\n",
       "    <tr>\n",
       "      <th>OriginAirportID</th>\n",
       "      <td>0.000417</td>\n",
       "      <td>0.003222</td>\n",
       "      <td>0.003303</td>\n",
       "      <td>0.000392</td>\n",
       "      <td>1.000000</td>\n",
       "      <td>-0.026566</td>\n",
       "      <td>-0.045762</td>\n",
       "      <td>0.006846</td>\n",
       "      <td>0.012226</td>\n",
       "      <td>-0.025247</td>\n",
       "      <td>...</td>\n",
       "      <td>0.074219</td>\n",
       "      <td>-0.029379</td>\n",
       "      <td>-0.057899</td>\n",
       "      <td>-0.047123</td>\n",
       "      <td>-0.020389</td>\n",
       "      <td>-0.026796</td>\n",
       "      <td>-0.050504</td>\n",
       "      <td>-0.046602</td>\n",
       "      <td>0.010839</td>\n",
       "      <td>0.099604</td>\n",
       "    </tr>\n",
       "    <tr>\n",
       "      <th>DestAirportID</th>\n",
       "      <td>0.000467</td>\n",
       "      <td>0.003261</td>\n",
       "      <td>0.003313</td>\n",
       "      <td>0.000320</td>\n",
       "      <td>-0.026566</td>\n",
       "      <td>1.000000</td>\n",
       "      <td>0.062883</td>\n",
       "      <td>0.016703</td>\n",
       "      <td>0.031402</td>\n",
       "      <td>0.010083</td>\n",
       "      <td>...</td>\n",
       "      <td>-0.013905</td>\n",
       "      <td>-0.010247</td>\n",
       "      <td>-0.028681</td>\n",
       "      <td>0.001860</td>\n",
       "      <td>0.014033</td>\n",
       "      <td>-0.018037</td>\n",
       "      <td>-0.029387</td>\n",
       "      <td>-0.028154</td>\n",
       "      <td>0.029198</td>\n",
       "      <td>-0.024454</td>\n",
       "    </tr>\n",
       "    <tr>\n",
       "      <th>CRSDepTime</th>\n",
       "      <td>0.001652</td>\n",
       "      <td>-0.002041</td>\n",
       "      <td>-0.001571</td>\n",
       "      <td>0.000285</td>\n",
       "      <td>-0.045762</td>\n",
       "      <td>0.062883</td>\n",
       "      <td>1.000000</td>\n",
       "      <td>0.104758</td>\n",
       "      <td>0.154992</td>\n",
       "      <td>0.487311</td>\n",
       "      <td>...</td>\n",
       "      <td>-0.059504</td>\n",
       "      <td>0.033394</td>\n",
       "      <td>-0.077750</td>\n",
       "      <td>0.116873</td>\n",
       "      <td>0.110844</td>\n",
       "      <td>0.012179</td>\n",
       "      <td>0.154128</td>\n",
       "      <td>0.154103</td>\n",
       "      <td>0.054804</td>\n",
       "      <td>-0.199771</td>\n",
       "    </tr>\n",
       "    <tr>\n",
       "      <th>DepDelayMinutes</th>\n",
       "      <td>0.003559</td>\n",
       "      <td>-0.015958</td>\n",
       "      <td>-0.017639</td>\n",
       "      <td>-0.006648</td>\n",
       "      <td>0.006846</td>\n",
       "      <td>0.016703</td>\n",
       "      <td>0.104758</td>\n",
       "      <td>1.000000</td>\n",
       "      <td>0.608084</td>\n",
       "      <td>0.086946</td>\n",
       "      <td>...</td>\n",
       "      <td>0.031201</td>\n",
       "      <td>0.081763</td>\n",
       "      <td>-0.052153</td>\n",
       "      <td>0.070939</td>\n",
       "      <td>-0.018663</td>\n",
       "      <td>0.079147</td>\n",
       "      <td>0.030272</td>\n",
       "      <td>0.027964</td>\n",
       "      <td>0.012528</td>\n",
       "      <td>0.003518</td>\n",
       "    </tr>\n",
       "    <tr>\n",
       "      <th>DepDel15</th>\n",
       "      <td>0.005343</td>\n",
       "      <td>-0.020260</td>\n",
       "      <td>-0.021118</td>\n",
       "      <td>-0.007052</td>\n",
       "      <td>0.012226</td>\n",
       "      <td>0.031402</td>\n",
       "      <td>0.154992</td>\n",
       "      <td>0.608084</td>\n",
       "      <td>1.000000</td>\n",
       "      <td>0.118576</td>\n",
       "      <td>...</td>\n",
       "      <td>0.029287</td>\n",
       "      <td>0.080590</td>\n",
       "      <td>-0.060166</td>\n",
       "      <td>0.072145</td>\n",
       "      <td>-0.012012</td>\n",
       "      <td>0.080379</td>\n",
       "      <td>0.036996</td>\n",
       "      <td>0.033870</td>\n",
       "      <td>0.022263</td>\n",
       "      <td>-0.006679</td>\n",
       "    </tr>\n",
       "    <tr>\n",
       "      <th>CRSArrTime</th>\n",
       "      <td>0.000132</td>\n",
       "      <td>-0.004034</td>\n",
       "      <td>-0.004775</td>\n",
       "      <td>-0.001930</td>\n",
       "      <td>-0.025247</td>\n",
       "      <td>0.010083</td>\n",
       "      <td>0.487311</td>\n",
       "      <td>0.086946</td>\n",
       "      <td>0.118576</td>\n",
       "      <td>1.000000</td>\n",
       "      <td>...</td>\n",
       "      <td>-0.033264</td>\n",
       "      <td>0.030831</td>\n",
       "      <td>-0.060223</td>\n",
       "      <td>0.090936</td>\n",
       "      <td>0.093813</td>\n",
       "      <td>0.014077</td>\n",
       "      <td>0.146131</td>\n",
       "      <td>0.135804</td>\n",
       "      <td>0.018510</td>\n",
       "      <td>-0.210311</td>\n",
       "    </tr>\n",
       "    <tr>\n",
       "      <th>windspeedKmph</th>\n",
       "      <td>0.027909</td>\n",
       "      <td>-0.098039</td>\n",
       "      <td>-0.094669</td>\n",
       "      <td>0.009237</td>\n",
       "      <td>-0.041628</td>\n",
       "      <td>0.006845</td>\n",
       "      <td>0.161623</td>\n",
       "      <td>0.071990</td>\n",
       "      <td>0.080829</td>\n",
       "      <td>0.163756</td>\n",
       "      <td>...</td>\n",
       "      <td>0.089832</td>\n",
       "      <td>0.130473</td>\n",
       "      <td>-0.202895</td>\n",
       "      <td>0.910532</td>\n",
       "      <td>0.035568</td>\n",
       "      <td>0.117827</td>\n",
       "      <td>-0.095747</td>\n",
       "      <td>-0.126498</td>\n",
       "      <td>0.120042</td>\n",
       "      <td>0.012439</td>\n",
       "    </tr>\n",
       "    <tr>\n",
       "      <th>DewPointF</th>\n",
       "      <td>-0.017621</td>\n",
       "      <td>0.133644</td>\n",
       "      <td>0.122947</td>\n",
       "      <td>0.018134</td>\n",
       "      <td>-0.016804</td>\n",
       "      <td>-0.055653</td>\n",
       "      <td>0.030662</td>\n",
       "      <td>0.038103</td>\n",
       "      <td>0.036997</td>\n",
       "      <td>0.006675</td>\n",
       "      <td>...</td>\n",
       "      <td>0.137197</td>\n",
       "      <td>0.141747</td>\n",
       "      <td>-0.198823</td>\n",
       "      <td>-0.068952</td>\n",
       "      <td>-0.077328</td>\n",
       "      <td>0.207837</td>\n",
       "      <td>0.650551</td>\n",
       "      <td>0.660908</td>\n",
       "      <td>-0.080035</td>\n",
       "      <td>0.351643</td>\n",
       "    </tr>\n",
       "    <tr>\n",
       "      <th>cloudcover</th>\n",
       "      <td>-0.090776</td>\n",
       "      <td>-0.086989</td>\n",
       "      <td>-0.084364</td>\n",
       "      <td>-0.015740</td>\n",
       "      <td>0.074219</td>\n",
       "      <td>-0.013905</td>\n",
       "      <td>-0.059504</td>\n",
       "      <td>0.031201</td>\n",
       "      <td>0.029287</td>\n",
       "      <td>-0.033264</td>\n",
       "      <td>...</td>\n",
       "      <td>1.000000</td>\n",
       "      <td>0.263872</td>\n",
       "      <td>-0.042877</td>\n",
       "      <td>0.128860</td>\n",
       "      <td>-0.361066</td>\n",
       "      <td>0.452089</td>\n",
       "      <td>-0.245964</td>\n",
       "      <td>-0.242382</td>\n",
       "      <td>-0.077765</td>\n",
       "      <td>0.529379</td>\n",
       "    </tr>\n",
       "    <tr>\n",
       "      <th>precipMM</th>\n",
       "      <td>0.009011</td>\n",
       "      <td>-0.038045</td>\n",
       "      <td>-0.040742</td>\n",
       "      <td>-0.002263</td>\n",
       "      <td>-0.029379</td>\n",
       "      <td>-0.010247</td>\n",
       "      <td>0.033394</td>\n",
       "      <td>0.081763</td>\n",
       "      <td>0.080590</td>\n",
       "      <td>0.030831</td>\n",
       "      <td>...</td>\n",
       "      <td>0.263872</td>\n",
       "      <td>1.000000</td>\n",
       "      <td>-0.141538</td>\n",
       "      <td>0.204529</td>\n",
       "      <td>-0.269208</td>\n",
       "      <td>0.546550</td>\n",
       "      <td>-0.004731</td>\n",
       "      <td>-0.005993</td>\n",
       "      <td>-0.061085</td>\n",
       "      <td>0.200850</td>\n",
       "    </tr>\n",
       "    <tr>\n",
       "      <th>pressure</th>\n",
       "      <td>-0.044014</td>\n",
       "      <td>0.037480</td>\n",
       "      <td>0.042694</td>\n",
       "      <td>-0.033245</td>\n",
       "      <td>-0.057899</td>\n",
       "      <td>-0.028681</td>\n",
       "      <td>-0.077750</td>\n",
       "      <td>-0.052153</td>\n",
       "      <td>-0.060166</td>\n",
       "      <td>-0.060223</td>\n",
       "      <td>...</td>\n",
       "      <td>-0.042877</td>\n",
       "      <td>-0.141538</td>\n",
       "      <td>1.000000</td>\n",
       "      <td>-0.211742</td>\n",
       "      <td>0.022488</td>\n",
       "      <td>-0.145522</td>\n",
       "      <td>-0.346159</td>\n",
       "      <td>-0.343930</td>\n",
       "      <td>-0.134840</td>\n",
       "      <td>0.132829</td>\n",
       "    </tr>\n",
       "    <tr>\n",
       "      <th>WindGustKmph</th>\n",
       "      <td>0.040500</td>\n",
       "      <td>-0.093063</td>\n",
       "      <td>-0.090313</td>\n",
       "      <td>0.006162</td>\n",
       "      <td>-0.047123</td>\n",
       "      <td>0.001860</td>\n",
       "      <td>0.116873</td>\n",
       "      <td>0.070939</td>\n",
       "      <td>0.072145</td>\n",
       "      <td>0.090936</td>\n",
       "      <td>...</td>\n",
       "      <td>0.128860</td>\n",
       "      <td>0.204529</td>\n",
       "      <td>-0.211742</td>\n",
       "      <td>1.000000</td>\n",
       "      <td>-0.013502</td>\n",
       "      <td>0.185810</td>\n",
       "      <td>-0.144206</td>\n",
       "      <td>-0.171213</td>\n",
       "      <td>0.085857</td>\n",
       "      <td>0.071130</td>\n",
       "    </tr>\n",
       "    <tr>\n",
       "      <th>visibility</th>\n",
       "      <td>0.058149</td>\n",
       "      <td>0.119824</td>\n",
       "      <td>0.120989</td>\n",
       "      <td>0.025409</td>\n",
       "      <td>-0.020389</td>\n",
       "      <td>0.014033</td>\n",
       "      <td>0.110844</td>\n",
       "      <td>-0.018663</td>\n",
       "      <td>-0.012012</td>\n",
       "      <td>0.093813</td>\n",
       "      <td>...</td>\n",
       "      <td>-0.361066</td>\n",
       "      <td>-0.269208</td>\n",
       "      <td>0.022488</td>\n",
       "      <td>-0.013502</td>\n",
       "      <td>1.000000</td>\n",
       "      <td>-0.374665</td>\n",
       "      <td>0.150434</td>\n",
       "      <td>0.143440</td>\n",
       "      <td>0.050106</td>\n",
       "      <td>-0.358548</td>\n",
       "    </tr>\n",
       "    <tr>\n",
       "      <th>weatherCode</th>\n",
       "      <td>-0.022875</td>\n",
       "      <td>-0.088188</td>\n",
       "      <td>-0.088740</td>\n",
       "      <td>-0.009805</td>\n",
       "      <td>-0.026796</td>\n",
       "      <td>-0.018037</td>\n",
       "      <td>0.012179</td>\n",
       "      <td>0.079147</td>\n",
       "      <td>0.080379</td>\n",
       "      <td>0.014077</td>\n",
       "      <td>...</td>\n",
       "      <td>0.452089</td>\n",
       "      <td>0.546550</td>\n",
       "      <td>-0.145522</td>\n",
       "      <td>0.185810</td>\n",
       "      <td>-0.374665</td>\n",
       "      <td>1.000000</td>\n",
       "      <td>-0.014381</td>\n",
       "      <td>-0.012876</td>\n",
       "      <td>-0.079315</td>\n",
       "      <td>0.288466</td>\n",
       "    </tr>\n",
       "    <tr>\n",
       "      <th>tempF</th>\n",
       "      <td>-0.010559</td>\n",
       "      <td>0.153255</td>\n",
       "      <td>0.142800</td>\n",
       "      <td>0.016599</td>\n",
       "      <td>-0.050504</td>\n",
       "      <td>-0.029387</td>\n",
       "      <td>0.154128</td>\n",
       "      <td>0.030272</td>\n",
       "      <td>0.036996</td>\n",
       "      <td>0.146131</td>\n",
       "      <td>...</td>\n",
       "      <td>-0.245964</td>\n",
       "      <td>-0.004731</td>\n",
       "      <td>-0.346159</td>\n",
       "      <td>-0.144206</td>\n",
       "      <td>0.150434</td>\n",
       "      <td>-0.014381</td>\n",
       "      <td>1.000000</td>\n",
       "      <td>0.993131</td>\n",
       "      <td>-0.081828</td>\n",
       "      <td>-0.426197</td>\n",
       "    </tr>\n",
       "    <tr>\n",
       "      <th>WindChillF</th>\n",
       "      <td>0.004334</td>\n",
       "      <td>0.149327</td>\n",
       "      <td>0.138441</td>\n",
       "      <td>0.016145</td>\n",
       "      <td>-0.046602</td>\n",
       "      <td>-0.028154</td>\n",
       "      <td>0.154103</td>\n",
       "      <td>0.027964</td>\n",
       "      <td>0.033870</td>\n",
       "      <td>0.135804</td>\n",
       "      <td>...</td>\n",
       "      <td>-0.242382</td>\n",
       "      <td>-0.005993</td>\n",
       "      <td>-0.343930</td>\n",
       "      <td>-0.171213</td>\n",
       "      <td>0.143440</td>\n",
       "      <td>-0.012876</td>\n",
       "      <td>0.993131</td>\n",
       "      <td>1.000000</td>\n",
       "      <td>-0.090815</td>\n",
       "      <td>-0.413501</td>\n",
       "    </tr>\n",
       "    <tr>\n",
       "      <th>winddirDegree</th>\n",
       "      <td>0.000652</td>\n",
       "      <td>-0.046110</td>\n",
       "      <td>-0.047460</td>\n",
       "      <td>0.001128</td>\n",
       "      <td>0.010839</td>\n",
       "      <td>0.029198</td>\n",
       "      <td>0.054804</td>\n",
       "      <td>0.012528</td>\n",
       "      <td>0.022263</td>\n",
       "      <td>0.018510</td>\n",
       "      <td>...</td>\n",
       "      <td>-0.077765</td>\n",
       "      <td>-0.061085</td>\n",
       "      <td>-0.134840</td>\n",
       "      <td>0.085857</td>\n",
       "      <td>0.050106</td>\n",
       "      <td>-0.079315</td>\n",
       "      <td>-0.081828</td>\n",
       "      <td>-0.090815</td>\n",
       "      <td>1.000000</td>\n",
       "      <td>0.008260</td>\n",
       "    </tr>\n",
       "    <tr>\n",
       "      <th>humidity</th>\n",
       "      <td>-0.044481</td>\n",
       "      <td>-0.055307</td>\n",
       "      <td>-0.054493</td>\n",
       "      <td>-0.001509</td>\n",
       "      <td>0.099604</td>\n",
       "      <td>-0.024454</td>\n",
       "      <td>-0.199771</td>\n",
       "      <td>0.003518</td>\n",
       "      <td>-0.006679</td>\n",
       "      <td>-0.210311</td>\n",
       "      <td>...</td>\n",
       "      <td>0.529379</td>\n",
       "      <td>0.200850</td>\n",
       "      <td>0.132829</td>\n",
       "      <td>0.071130</td>\n",
       "      <td>-0.358548</td>\n",
       "      <td>0.288466</td>\n",
       "      <td>-0.426197</td>\n",
       "      <td>-0.413501</td>\n",
       "      <td>0.008260</td>\n",
       "      <td>1.000000</td>\n",
       "    </tr>\n",
       "  </tbody>\n",
       "</table>\n",
       "<p>22 rows × 22 columns</p>\n",
       "</div>"
      ],
      "text/plain": [
       "                     Year   Quarter     Month  DayofMonth  OriginAirportID  \\\n",
       "Year             1.000000 -0.001637 -0.002259    0.000282         0.000417   \n",
       "Quarter         -0.001637  1.000000  0.970563    0.010774         0.003222   \n",
       "Month           -0.002259  0.970563  1.000000    0.010626         0.003303   \n",
       "DayofMonth       0.000282  0.010774  0.010626    1.000000         0.000392   \n",
       "OriginAirportID  0.000417  0.003222  0.003303    0.000392         1.000000   \n",
       "DestAirportID    0.000467  0.003261  0.003313    0.000320        -0.026566   \n",
       "CRSDepTime       0.001652 -0.002041 -0.001571    0.000285        -0.045762   \n",
       "DepDelayMinutes  0.003559 -0.015958 -0.017639   -0.006648         0.006846   \n",
       "DepDel15         0.005343 -0.020260 -0.021118   -0.007052         0.012226   \n",
       "CRSArrTime       0.000132 -0.004034 -0.004775   -0.001930        -0.025247   \n",
       "windspeedKmph    0.027909 -0.098039 -0.094669    0.009237        -0.041628   \n",
       "DewPointF       -0.017621  0.133644  0.122947    0.018134        -0.016804   \n",
       "cloudcover      -0.090776 -0.086989 -0.084364   -0.015740         0.074219   \n",
       "precipMM         0.009011 -0.038045 -0.040742   -0.002263        -0.029379   \n",
       "pressure        -0.044014  0.037480  0.042694   -0.033245        -0.057899   \n",
       "WindGustKmph     0.040500 -0.093063 -0.090313    0.006162        -0.047123   \n",
       "visibility       0.058149  0.119824  0.120989    0.025409        -0.020389   \n",
       "weatherCode     -0.022875 -0.088188 -0.088740   -0.009805        -0.026796   \n",
       "tempF           -0.010559  0.153255  0.142800    0.016599        -0.050504   \n",
       "WindChillF       0.004334  0.149327  0.138441    0.016145        -0.046602   \n",
       "winddirDegree    0.000652 -0.046110 -0.047460    0.001128         0.010839   \n",
       "humidity        -0.044481 -0.055307 -0.054493   -0.001509         0.099604   \n",
       "\n",
       "                 DestAirportID  CRSDepTime  DepDelayMinutes  DepDel15  \\\n",
       "Year                  0.000467    0.001652         0.003559  0.005343   \n",
       "Quarter               0.003261   -0.002041        -0.015958 -0.020260   \n",
       "Month                 0.003313   -0.001571        -0.017639 -0.021118   \n",
       "DayofMonth            0.000320    0.000285        -0.006648 -0.007052   \n",
       "OriginAirportID      -0.026566   -0.045762         0.006846  0.012226   \n",
       "DestAirportID         1.000000    0.062883         0.016703  0.031402   \n",
       "CRSDepTime            0.062883    1.000000         0.104758  0.154992   \n",
       "DepDelayMinutes       0.016703    0.104758         1.000000  0.608084   \n",
       "DepDel15              0.031402    0.154992         0.608084  1.000000   \n",
       "CRSArrTime            0.010083    0.487311         0.086946  0.118576   \n",
       "windspeedKmph         0.006845    0.161623         0.071990  0.080829   \n",
       "DewPointF            -0.055653    0.030662         0.038103  0.036997   \n",
       "cloudcover           -0.013905   -0.059504         0.031201  0.029287   \n",
       "precipMM             -0.010247    0.033394         0.081763  0.080590   \n",
       "pressure             -0.028681   -0.077750        -0.052153 -0.060166   \n",
       "WindGustKmph          0.001860    0.116873         0.070939  0.072145   \n",
       "visibility            0.014033    0.110844        -0.018663 -0.012012   \n",
       "weatherCode          -0.018037    0.012179         0.079147  0.080379   \n",
       "tempF                -0.029387    0.154128         0.030272  0.036996   \n",
       "WindChillF           -0.028154    0.154103         0.027964  0.033870   \n",
       "winddirDegree         0.029198    0.054804         0.012528  0.022263   \n",
       "humidity             -0.024454   -0.199771         0.003518 -0.006679   \n",
       "\n",
       "                 CRSArrTime  ...  cloudcover  precipMM  pressure  \\\n",
       "Year               0.000132  ...   -0.090776  0.009011 -0.044014   \n",
       "Quarter           -0.004034  ...   -0.086989 -0.038045  0.037480   \n",
       "Month             -0.004775  ...   -0.084364 -0.040742  0.042694   \n",
       "DayofMonth        -0.001930  ...   -0.015740 -0.002263 -0.033245   \n",
       "OriginAirportID   -0.025247  ...    0.074219 -0.029379 -0.057899   \n",
       "DestAirportID      0.010083  ...   -0.013905 -0.010247 -0.028681   \n",
       "CRSDepTime         0.487311  ...   -0.059504  0.033394 -0.077750   \n",
       "DepDelayMinutes    0.086946  ...    0.031201  0.081763 -0.052153   \n",
       "DepDel15           0.118576  ...    0.029287  0.080590 -0.060166   \n",
       "CRSArrTime         1.000000  ...   -0.033264  0.030831 -0.060223   \n",
       "windspeedKmph      0.163756  ...    0.089832  0.130473 -0.202895   \n",
       "DewPointF          0.006675  ...    0.137197  0.141747 -0.198823   \n",
       "cloudcover        -0.033264  ...    1.000000  0.263872 -0.042877   \n",
       "precipMM           0.030831  ...    0.263872  1.000000 -0.141538   \n",
       "pressure          -0.060223  ...   -0.042877 -0.141538  1.000000   \n",
       "WindGustKmph       0.090936  ...    0.128860  0.204529 -0.211742   \n",
       "visibility         0.093813  ...   -0.361066 -0.269208  0.022488   \n",
       "weatherCode        0.014077  ...    0.452089  0.546550 -0.145522   \n",
       "tempF              0.146131  ...   -0.245964 -0.004731 -0.346159   \n",
       "WindChillF         0.135804  ...   -0.242382 -0.005993 -0.343930   \n",
       "winddirDegree      0.018510  ...   -0.077765 -0.061085 -0.134840   \n",
       "humidity          -0.210311  ...    0.529379  0.200850  0.132829   \n",
       "\n",
       "                 WindGustKmph  visibility  weatherCode     tempF  WindChillF  \\\n",
       "Year                 0.040500    0.058149    -0.022875 -0.010559    0.004334   \n",
       "Quarter             -0.093063    0.119824    -0.088188  0.153255    0.149327   \n",
       "Month               -0.090313    0.120989    -0.088740  0.142800    0.138441   \n",
       "DayofMonth           0.006162    0.025409    -0.009805  0.016599    0.016145   \n",
       "OriginAirportID     -0.047123   -0.020389    -0.026796 -0.050504   -0.046602   \n",
       "DestAirportID        0.001860    0.014033    -0.018037 -0.029387   -0.028154   \n",
       "CRSDepTime           0.116873    0.110844     0.012179  0.154128    0.154103   \n",
       "DepDelayMinutes      0.070939   -0.018663     0.079147  0.030272    0.027964   \n",
       "DepDel15             0.072145   -0.012012     0.080379  0.036996    0.033870   \n",
       "CRSArrTime           0.090936    0.093813     0.014077  0.146131    0.135804   \n",
       "windspeedKmph        0.910532    0.035568     0.117827 -0.095747   -0.126498   \n",
       "DewPointF           -0.068952   -0.077328     0.207837  0.650551    0.660908   \n",
       "cloudcover           0.128860   -0.361066     0.452089 -0.245964   -0.242382   \n",
       "precipMM             0.204529   -0.269208     0.546550 -0.004731   -0.005993   \n",
       "pressure            -0.211742    0.022488    -0.145522 -0.346159   -0.343930   \n",
       "WindGustKmph         1.000000   -0.013502     0.185810 -0.144206   -0.171213   \n",
       "visibility          -0.013502    1.000000    -0.374665  0.150434    0.143440   \n",
       "weatherCode          0.185810   -0.374665     1.000000 -0.014381   -0.012876   \n",
       "tempF               -0.144206    0.150434    -0.014381  1.000000    0.993131   \n",
       "WindChillF          -0.171213    0.143440    -0.012876  0.993131    1.000000   \n",
       "winddirDegree        0.085857    0.050106    -0.079315 -0.081828   -0.090815   \n",
       "humidity             0.071130   -0.358548     0.288466 -0.426197   -0.413501   \n",
       "\n",
       "                 winddirDegree  humidity  \n",
       "Year                  0.000652 -0.044481  \n",
       "Quarter              -0.046110 -0.055307  \n",
       "Month                -0.047460 -0.054493  \n",
       "DayofMonth            0.001128 -0.001509  \n",
       "OriginAirportID       0.010839  0.099604  \n",
       "DestAirportID         0.029198 -0.024454  \n",
       "CRSDepTime            0.054804 -0.199771  \n",
       "DepDelayMinutes       0.012528  0.003518  \n",
       "DepDel15              0.022263 -0.006679  \n",
       "CRSArrTime            0.018510 -0.210311  \n",
       "windspeedKmph         0.120042  0.012439  \n",
       "DewPointF            -0.080035  0.351643  \n",
       "cloudcover           -0.077765  0.529379  \n",
       "precipMM             -0.061085  0.200850  \n",
       "pressure             -0.134840  0.132829  \n",
       "WindGustKmph          0.085857  0.071130  \n",
       "visibility            0.050106 -0.358548  \n",
       "weatherCode          -0.079315  0.288466  \n",
       "tempF                -0.081828 -0.426197  \n",
       "WindChillF           -0.090815 -0.413501  \n",
       "winddirDegree         1.000000  0.008260  \n",
       "humidity              0.008260  1.000000  \n",
       "\n",
       "[22 rows x 22 columns]"
      ]
     },
     "execution_count": 10,
     "metadata": {},
     "output_type": "execute_result"
    }
   ],
   "source": [
    "cor= df1.corr() \n",
    "cor"
   ]
  },
  {
   "cell_type": "code",
   "execution_count": 11,
   "id": "899ee6c7",
   "metadata": {},
   "outputs": [
    {
     "data": {
      "text/plain": [
       "<AxesSubplot: >"
      ]
     },
     "execution_count": 11,
     "metadata": {},
     "output_type": "execute_result"
    },
    {
     "data": {
      "image/png": "[encoded data removed]",
      "text/plain": [
       "<Figure size 1080x1080 with 2 Axes>"
      ]
     },
     "metadata": {
      "needs_background": "light"
     },
     "output_type": "display_data"
    }
   ],
   "source": [
    "plt.figure(figsize=(15,15))\n",
    "sns.heatmap(cor,annot=True)"
   ]
  },
  {
   "cell_type": "code",
   "execution_count": 12,
   "id": "67435ff9",
   "metadata": {},
   "outputs": [],
   "source": [
    "#month and quarter are positivly correlated\n",
    "#windspeedkmph and windGustKmph are positivly correlated\n",
    "#WindChillF and tempF are positivly correlated\n",
    "df1 = df1.drop(['Quarter','WindGustKmph','WindChillF','DepDelayMinutes'],axis=1)"
   ]
  },
  {
   "cell_type": "code",
   "execution_count": 13,
   "id": "8f493c52",
   "metadata": {
    "scrolled": true
   },
   "outputs": [
    {
     "data": {
      "text/html": [
       "<div>\n",
       "<style scoped>\n",
       "    .dataframe tbody tr th:only-of-type {\n",
       "        vertical-align: middle;\n",
       "    }\n",
       "\n",
       "    .dataframe tbody tr th {\n",
       "        vertical-align: top;\n",
       "    }\n",
       "\n",
       "    .dataframe thead th {\n",
       "        text-align: right;\n",
       "    }\n",
       "</style>\n",
       "<table border=\"1\" class=\"dataframe\">\n",
       "  <thead>\n",
       "    <tr style=\"text-align: right;\">\n",
       "      <th></th>\n",
       "      <th>Year</th>\n",
       "      <th>Month</th>\n",
       "      <th>DayofMonth</th>\n",
       "      <th>OriginAirportID</th>\n",
       "      <th>DestAirportID</th>\n",
       "      <th>CRSDepTime</th>\n",
       "      <th>DepDel15</th>\n",
       "      <th>CRSArrTime</th>\n",
       "      <th>windspeedKmph</th>\n",
       "      <th>DewPointF</th>\n",
       "      <th>cloudcover</th>\n",
       "      <th>precipMM</th>\n",
       "      <th>pressure</th>\n",
       "      <th>visibility</th>\n",
       "      <th>weatherCode</th>\n",
       "      <th>tempF</th>\n",
       "      <th>winddirDegree</th>\n",
       "      <th>humidity</th>\n",
       "    </tr>\n",
       "  </thead>\n",
       "  <tbody>\n",
       "    <tr>\n",
       "      <th>0</th>\n",
       "      <td>2017</td>\n",
       "      <td>9</td>\n",
       "      <td>25</td>\n",
       "      <td>12478</td>\n",
       "      <td>13204</td>\n",
       "      <td>1346</td>\n",
       "      <td>0.0</td>\n",
       "      <td>1642</td>\n",
       "      <td>12</td>\n",
       "      <td>67</td>\n",
       "      <td>39</td>\n",
       "      <td>0.0</td>\n",
       "      <td>1017</td>\n",
       "      <td>10</td>\n",
       "      <td>116</td>\n",
       "      <td>76</td>\n",
       "      <td>117</td>\n",
       "      <td>74</td>\n",
       "    </tr>\n",
       "    <tr>\n",
       "      <th>1</th>\n",
       "      <td>2017</td>\n",
       "      <td>9</td>\n",
       "      <td>25</td>\n",
       "      <td>12478</td>\n",
       "      <td>13930</td>\n",
       "      <td>902</td>\n",
       "      <td>0.0</td>\n",
       "      <td>1045</td>\n",
       "      <td>6</td>\n",
       "      <td>66</td>\n",
       "      <td>55</td>\n",
       "      <td>0.0</td>\n",
       "      <td>1018</td>\n",
       "      <td>10</td>\n",
       "      <td>116</td>\n",
       "      <td>70</td>\n",
       "      <td>145</td>\n",
       "      <td>90</td>\n",
       "    </tr>\n",
       "    <tr>\n",
       "      <th>2</th>\n",
       "      <td>2017</td>\n",
       "      <td>9</td>\n",
       "      <td>25</td>\n",
       "      <td>13930</td>\n",
       "      <td>12478</td>\n",
       "      <td>2044</td>\n",
       "      <td>0.0</td>\n",
       "      <td>2359</td>\n",
       "      <td>10</td>\n",
       "      <td>63</td>\n",
       "      <td>5</td>\n",
       "      <td>0.0</td>\n",
       "      <td>1013</td>\n",
       "      <td>10</td>\n",
       "      <td>113</td>\n",
       "      <td>85</td>\n",
       "      <td>151</td>\n",
       "      <td>48</td>\n",
       "    </tr>\n",
       "    <tr>\n",
       "      <th>3</th>\n",
       "      <td>2017</td>\n",
       "      <td>9</td>\n",
       "      <td>25</td>\n",
       "      <td>11057</td>\n",
       "      <td>12478</td>\n",
       "      <td>1952</td>\n",
       "      <td>0.0</td>\n",
       "      <td>2157</td>\n",
       "      <td>11</td>\n",
       "      <td>64</td>\n",
       "      <td>32</td>\n",
       "      <td>0.0</td>\n",
       "      <td>1013</td>\n",
       "      <td>10</td>\n",
       "      <td>116</td>\n",
       "      <td>80</td>\n",
       "      <td>41</td>\n",
       "      <td>59</td>\n",
       "    </tr>\n",
       "    <tr>\n",
       "      <th>4</th>\n",
       "      <td>2017</td>\n",
       "      <td>9</td>\n",
       "      <td>25</td>\n",
       "      <td>12478</td>\n",
       "      <td>11057</td>\n",
       "      <td>1658</td>\n",
       "      <td>0.0</td>\n",
       "      <td>1914</td>\n",
       "      <td>14</td>\n",
       "      <td>66</td>\n",
       "      <td>47</td>\n",
       "      <td>0.0</td>\n",
       "      <td>1017</td>\n",
       "      <td>10</td>\n",
       "      <td>143</td>\n",
       "      <td>72</td>\n",
       "      <td>134</td>\n",
       "      <td>82</td>\n",
       "    </tr>\n",
       "    <tr>\n",
       "      <th>...</th>\n",
       "      <td>...</td>\n",
       "      <td>...</td>\n",
       "      <td>...</td>\n",
       "      <td>...</td>\n",
       "      <td>...</td>\n",
       "      <td>...</td>\n",
       "      <td>...</td>\n",
       "      <td>...</td>\n",
       "      <td>...</td>\n",
       "      <td>...</td>\n",
       "      <td>...</td>\n",
       "      <td>...</td>\n",
       "      <td>...</td>\n",
       "      <td>...</td>\n",
       "      <td>...</td>\n",
       "      <td>...</td>\n",
       "      <td>...</td>\n",
       "      <td>...</td>\n",
       "    </tr>\n",
       "    <tr>\n",
       "      <th>1877291</th>\n",
       "      <td>2016</td>\n",
       "      <td>1</td>\n",
       "      <td>3</td>\n",
       "      <td>13204</td>\n",
       "      <td>13930</td>\n",
       "      <td>1130</td>\n",
       "      <td>0.0</td>\n",
       "      <td>1330</td>\n",
       "      <td>16</td>\n",
       "      <td>56</td>\n",
       "      <td>100</td>\n",
       "      <td>1.9</td>\n",
       "      <td>1017</td>\n",
       "      <td>6</td>\n",
       "      <td>302</td>\n",
       "      <td>61</td>\n",
       "      <td>331</td>\n",
       "      <td>87</td>\n",
       "    </tr>\n",
       "    <tr>\n",
       "      <th>1877292</th>\n",
       "      <td>2016</td>\n",
       "      <td>1</td>\n",
       "      <td>3</td>\n",
       "      <td>14107</td>\n",
       "      <td>11292</td>\n",
       "      <td>2110</td>\n",
       "      <td>1.0</td>\n",
       "      <td>2259</td>\n",
       "      <td>17</td>\n",
       "      <td>38</td>\n",
       "      <td>99</td>\n",
       "      <td>0.0</td>\n",
       "      <td>1013</td>\n",
       "      <td>10</td>\n",
       "      <td>122</td>\n",
       "      <td>62</td>\n",
       "      <td>76</td>\n",
       "      <td>42</td>\n",
       "    </tr>\n",
       "    <tr>\n",
       "      <th>1877293</th>\n",
       "      <td>2016</td>\n",
       "      <td>1</td>\n",
       "      <td>3</td>\n",
       "      <td>11292</td>\n",
       "      <td>14107</td>\n",
       "      <td>1830</td>\n",
       "      <td>1.0</td>\n",
       "      <td>2024</td>\n",
       "      <td>4</td>\n",
       "      <td>26</td>\n",
       "      <td>100</td>\n",
       "      <td>0.0</td>\n",
       "      <td>1029</td>\n",
       "      <td>0</td>\n",
       "      <td>260</td>\n",
       "      <td>26</td>\n",
       "      <td>158</td>\n",
       "      <td>100</td>\n",
       "    </tr>\n",
       "    <tr>\n",
       "      <th>1877294</th>\n",
       "      <td>2016</td>\n",
       "      <td>1</td>\n",
       "      <td>3</td>\n",
       "      <td>13930</td>\n",
       "      <td>13204</td>\n",
       "      <td>925</td>\n",
       "      <td>1.0</td>\n",
       "      <td>1312</td>\n",
       "      <td>19</td>\n",
       "      <td>21</td>\n",
       "      <td>100</td>\n",
       "      <td>0.0</td>\n",
       "      <td>1022</td>\n",
       "      <td>10</td>\n",
       "      <td>122</td>\n",
       "      <td>24</td>\n",
       "      <td>333</td>\n",
       "      <td>89</td>\n",
       "    </tr>\n",
       "    <tr>\n",
       "      <th>1877295</th>\n",
       "      <td>2016</td>\n",
       "      <td>1</td>\n",
       "      <td>3</td>\n",
       "      <td>13204</td>\n",
       "      <td>13930</td>\n",
       "      <td>630</td>\n",
       "      <td>0.0</td>\n",
       "      <td>835</td>\n",
       "      <td>17</td>\n",
       "      <td>58</td>\n",
       "      <td>100</td>\n",
       "      <td>0.1</td>\n",
       "      <td>1016</td>\n",
       "      <td>7</td>\n",
       "      <td>122</td>\n",
       "      <td>64</td>\n",
       "      <td>344</td>\n",
       "      <td>82</td>\n",
       "    </tr>\n",
       "  </tbody>\n",
       "</table>\n",
       "<p>1851436 rows × 18 columns</p>\n",
       "</div>"
      ],
      "text/plain": [
       "         Year  Month  DayofMonth  OriginAirportID  DestAirportID  CRSDepTime  \\\n",
       "0        2017      9          25            12478          13204        1346   \n",
       "1        2017      9          25            12478          13930         902   \n",
       "2        2017      9          25            13930          12478        2044   \n",
       "3        2017      9          25            11057          12478        1952   \n",
       "4        2017      9          25            12478          11057        1658   \n",
       "...       ...    ...         ...              ...            ...         ...   \n",
       "1877291  2016      1           3            13204          13930        1130   \n",
       "1877292  2016      1           3            14107          11292        2110   \n",
       "1877293  2016      1           3            11292          14107        1830   \n",
       "1877294  2016      1           3            13930          13204         925   \n",
       "1877295  2016      1           3            13204          13930         630   \n",
       "\n",
       "         DepDel15  CRSArrTime  windspeedKmph  DewPointF  cloudcover  precipMM  \\\n",
       "0             0.0        1642             12         67          39       0.0   \n",
       "1             0.0        1045              6         66          55       0.0   \n",
       "2             0.0        2359             10         63           5       0.0   \n",
       "3             0.0        2157             11         64          32       0.0   \n",
       "4             0.0        1914             14         66          47       0.0   \n",
       "...           ...         ...            ...        ...         ...       ...   \n",
       "1877291       0.0        1330             16         56         100       1.9   \n",
       "1877292       1.0        2259             17         38          99       0.0   \n",
       "1877293       1.0        2024              4         26         100       0.0   \n",
       "1877294       1.0        1312             19         21         100       0.0   \n",
       "1877295       0.0         835             17         58         100       0.1   \n",
       "\n",
       "         pressure  visibility  weatherCode  tempF  winddirDegree  humidity  \n",
       "0            1017          10          116     76            117        74  \n",
       "1            1018          10          116     70            145        90  \n",
       "2            1013          10          113     85            151        48  \n",
       "3            1013          10          116     80             41        59  \n",
       "4            1017          10          143     72            134        82  \n",
       "...           ...         ...          ...    ...            ...       ...  \n",
       "1877291      1017           6          302     61            331        87  \n",
       "1877292      1013          10          122     62             76        42  \n",
       "1877293      1029           0          260     26            158       100  \n",
       "1877294      1022          10          122     24            333        89  \n",
       "1877295      1016           7          122     64            344        82  \n",
       "\n",
       "[1851436 rows x 18 columns]"
      ]
     },
     "execution_count": 13,
     "metadata": {},
     "output_type": "execute_result"
    }
   ],
   "source": [
    "df1"
   ]
  },
  {
   "cell_type": "code",
   "execution_count": 14,
   "id": "f198df37",
   "metadata": {},
   "outputs": [],
   "source": [
    "X = df1.drop('DepDel15',axis=1)\n",
    "y = df1['DepDel15']"
   ]
  },
  {
   "cell_type": "code",
   "execution_count": 15,
   "id": "b8caa041",
   "metadata": {},
   "outputs": [
    {
     "data": {
      "text/html": [
       "<div>\n",
       "<style scoped>\n",
       "    .dataframe tbody tr th:only-of-type {\n",
       "        vertical-align: middle;\n",
       "    }\n",
       "\n",
       "    .dataframe tbody tr th {\n",
       "        vertical-align: top;\n",
       "    }\n",
       "\n",
       "    .dataframe thead th {\n",
       "        text-align: right;\n",
       "    }\n",
       "</style>\n",
       "<table border=\"1\" class=\"dataframe\">\n",
       "  <thead>\n",
       "    <tr style=\"text-align: right;\">\n",
       "      <th></th>\n",
       "      <th>Year</th>\n",
       "      <th>Month</th>\n",
       "      <th>DayofMonth</th>\n",
       "      <th>OriginAirportID</th>\n",
       "      <th>DestAirportID</th>\n",
       "      <th>CRSDepTime</th>\n",
       "      <th>CRSArrTime</th>\n",
       "      <th>windspeedKmph</th>\n",
       "      <th>DewPointF</th>\n",
       "      <th>cloudcover</th>\n",
       "      <th>precipMM</th>\n",
       "      <th>pressure</th>\n",
       "      <th>visibility</th>\n",
       "      <th>weatherCode</th>\n",
       "      <th>tempF</th>\n",
       "      <th>winddirDegree</th>\n",
       "      <th>humidity</th>\n",
       "    </tr>\n",
       "  </thead>\n",
       "  <tbody>\n",
       "    <tr>\n",
       "      <th>0</th>\n",
       "      <td>2017</td>\n",
       "      <td>9</td>\n",
       "      <td>25</td>\n",
       "      <td>12478</td>\n",
       "      <td>13204</td>\n",
       "      <td>1346</td>\n",
       "      <td>1642</td>\n",
       "      <td>12</td>\n",
       "      <td>67</td>\n",
       "      <td>39</td>\n",
       "      <td>0.0</td>\n",
       "      <td>1017</td>\n",
       "      <td>10</td>\n",
       "      <td>116</td>\n",
       "      <td>76</td>\n",
       "      <td>117</td>\n",
       "      <td>74</td>\n",
       "    </tr>\n",
       "    <tr>\n",
       "      <th>1</th>\n",
       "      <td>2017</td>\n",
       "      <td>9</td>\n",
       "      <td>25</td>\n",
       "      <td>12478</td>\n",
       "      <td>13930</td>\n",
       "      <td>902</td>\n",
       "      <td>1045</td>\n",
       "      <td>6</td>\n",
       "      <td>66</td>\n",
       "      <td>55</td>\n",
       "      <td>0.0</td>\n",
       "      <td>1018</td>\n",
       "      <td>10</td>\n",
       "      <td>116</td>\n",
       "      <td>70</td>\n",
       "      <td>145</td>\n",
       "      <td>90</td>\n",
       "    </tr>\n",
       "    <tr>\n",
       "      <th>2</th>\n",
       "      <td>2017</td>\n",
       "      <td>9</td>\n",
       "      <td>25</td>\n",
       "      <td>13930</td>\n",
       "      <td>12478</td>\n",
       "      <td>2044</td>\n",
       "      <td>2359</td>\n",
       "      <td>10</td>\n",
       "      <td>63</td>\n",
       "      <td>5</td>\n",
       "      <td>0.0</td>\n",
       "      <td>1013</td>\n",
       "      <td>10</td>\n",
       "      <td>113</td>\n",
       "      <td>85</td>\n",
       "      <td>151</td>\n",
       "      <td>48</td>\n",
       "    </tr>\n",
       "    <tr>\n",
       "      <th>3</th>\n",
       "      <td>2017</td>\n",
       "      <td>9</td>\n",
       "      <td>25</td>\n",
       "      <td>11057</td>\n",
       "      <td>12478</td>\n",
       "      <td>1952</td>\n",
       "      <td>2157</td>\n",
       "      <td>11</td>\n",
       "      <td>64</td>\n",
       "      <td>32</td>\n",
       "      <td>0.0</td>\n",
       "      <td>1013</td>\n",
       "      <td>10</td>\n",
       "      <td>116</td>\n",
       "      <td>80</td>\n",
       "      <td>41</td>\n",
       "      <td>59</td>\n",
       "    </tr>\n",
       "    <tr>\n",
       "      <th>4</th>\n",
       "      <td>2017</td>\n",
       "      <td>9</td>\n",
       "      <td>25</td>\n",
       "      <td>12478</td>\n",
       "      <td>11057</td>\n",
       "      <td>1658</td>\n",
       "      <td>1914</td>\n",
       "      <td>14</td>\n",
       "      <td>66</td>\n",
       "      <td>47</td>\n",
       "      <td>0.0</td>\n",
       "      <td>1017</td>\n",
       "      <td>10</td>\n",
       "      <td>143</td>\n",
       "      <td>72</td>\n",
       "      <td>134</td>\n",
       "      <td>82</td>\n",
       "    </tr>\n",
       "    <tr>\n",
       "      <th>...</th>\n",
       "      <td>...</td>\n",
       "      <td>...</td>\n",
       "      <td>...</td>\n",
       "      <td>...</td>\n",
       "      <td>...</td>\n",
       "      <td>...</td>\n",
       "      <td>...</td>\n",
       "      <td>...</td>\n",
       "      <td>...</td>\n",
       "      <td>...</td>\n",
       "      <td>...</td>\n",
       "      <td>...</td>\n",
       "      <td>...</td>\n",
       "      <td>...</td>\n",
       "      <td>...</td>\n",
       "      <td>...</td>\n",
       "      <td>...</td>\n",
       "    </tr>\n",
       "    <tr>\n",
       "      <th>1877291</th>\n",
       "      <td>2016</td>\n",
       "      <td>1</td>\n",
       "      <td>3</td>\n",
       "      <td>13204</td>\n",
       "      <td>13930</td>\n",
       "      <td>1130</td>\n",
       "      <td>1330</td>\n",
       "      <td>16</td>\n",
       "      <td>56</td>\n",
       "      <td>100</td>\n",
       "      <td>1.9</td>\n",
       "      <td>1017</td>\n",
       "      <td>6</td>\n",
       "      <td>302</td>\n",
       "      <td>61</td>\n",
       "      <td>331</td>\n",
       "      <td>87</td>\n",
       "    </tr>\n",
       "    <tr>\n",
       "      <th>1877292</th>\n",
       "      <td>2016</td>\n",
       "      <td>1</td>\n",
       "      <td>3</td>\n",
       "      <td>14107</td>\n",
       "      <td>11292</td>\n",
       "      <td>2110</td>\n",
       "      <td>2259</td>\n",
       "      <td>17</td>\n",
       "      <td>38</td>\n",
       "      <td>99</td>\n",
       "      <td>0.0</td>\n",
       "      <td>1013</td>\n",
       "      <td>10</td>\n",
       "      <td>122</td>\n",
       "      <td>62</td>\n",
       "      <td>76</td>\n",
       "      <td>42</td>\n",
       "    </tr>\n",
       "    <tr>\n",
       "      <th>1877293</th>\n",
       "      <td>2016</td>\n",
       "      <td>1</td>\n",
       "      <td>3</td>\n",
       "      <td>11292</td>\n",
       "      <td>14107</td>\n",
       "      <td>1830</td>\n",
       "      <td>2024</td>\n",
       "      <td>4</td>\n",
       "      <td>26</td>\n",
       "      <td>100</td>\n",
       "      <td>0.0</td>\n",
       "      <td>1029</td>\n",
       "      <td>0</td>\n",
       "      <td>260</td>\n",
       "      <td>26</td>\n",
       "      <td>158</td>\n",
       "      <td>100</td>\n",
       "    </tr>\n",
       "    <tr>\n",
       "      <th>1877294</th>\n",
       "      <td>2016</td>\n",
       "      <td>1</td>\n",
       "      <td>3</td>\n",
       "      <td>13930</td>\n",
       "      <td>13204</td>\n",
       "      <td>925</td>\n",
       "      <td>1312</td>\n",
       "      <td>19</td>\n",
       "      <td>21</td>\n",
       "      <td>100</td>\n",
       "      <td>0.0</td>\n",
       "      <td>1022</td>\n",
       "      <td>10</td>\n",
       "      <td>122</td>\n",
       "      <td>24</td>\n",
       "      <td>333</td>\n",
       "      <td>89</td>\n",
       "    </tr>\n",
       "    <tr>\n",
       "      <th>1877295</th>\n",
       "      <td>2016</td>\n",
       "      <td>1</td>\n",
       "      <td>3</td>\n",
       "      <td>13204</td>\n",
       "      <td>13930</td>\n",
       "      <td>630</td>\n",
       "      <td>835</td>\n",
       "      <td>17</td>\n",
       "      <td>58</td>\n",
       "      <td>100</td>\n",
       "      <td>0.1</td>\n",
       "      <td>1016</td>\n",
       "      <td>7</td>\n",
       "      <td>122</td>\n",
       "      <td>64</td>\n",
       "      <td>344</td>\n",
       "      <td>82</td>\n",
       "    </tr>\n",
       "  </tbody>\n",
       "</table>\n",
       "<p>1851436 rows × 17 columns</p>\n",
       "</div>"
      ],
      "text/plain": [
       "         Year  Month  DayofMonth  OriginAirportID  DestAirportID  CRSDepTime  \\\n",
       "0        2017      9          25            12478          13204        1346   \n",
       "1        2017      9          25            12478          13930         902   \n",
       "2        2017      9          25            13930          12478        2044   \n",
       "3        2017      9          25            11057          12478        1952   \n",
       "4        2017      9          25            12478          11057        1658   \n",
       "...       ...    ...         ...              ...            ...         ...   \n",
       "1877291  2016      1           3            13204          13930        1130   \n",
       "1877292  2016      1           3            14107          11292        2110   \n",
       "1877293  2016      1           3            11292          14107        1830   \n",
       "1877294  2016      1           3            13930          13204         925   \n",
       "1877295  2016      1           3            13204          13930         630   \n",
       "\n",
       "         CRSArrTime  windspeedKmph  DewPointF  cloudcover  precipMM  pressure  \\\n",
       "0              1642             12         67          39       0.0      1017   \n",
       "1              1045              6         66          55       0.0      1018   \n",
       "2              2359             10         63           5       0.0      1013   \n",
       "3              2157             11         64          32       0.0      1013   \n",
       "4              1914             14         66          47       0.0      1017   \n",
       "...             ...            ...        ...         ...       ...       ...   \n",
       "1877291        1330             16         56         100       1.9      1017   \n",
       "1877292        2259             17         38          99       0.0      1013   \n",
       "1877293        2024              4         26         100       0.0      1029   \n",
       "1877294        1312             19         21         100       0.0      1022   \n",
       "1877295         835             17         58         100       0.1      1016   \n",
       "\n",
       "         visibility  weatherCode  tempF  winddirDegree  humidity  \n",
       "0                10          116     76            117        74  \n",
       "1                10          116     70            145        90  \n",
       "2                10          113     85            151        48  \n",
       "3                10          116     80             41        59  \n",
       "4                10          143     72            134        82  \n",
       "...             ...          ...    ...            ...       ...  \n",
       "1877291           6          302     61            331        87  \n",
       "1877292          10          122     62             76        42  \n",
       "1877293           0          260     26            158       100  \n",
       "1877294          10          122     24            333        89  \n",
       "1877295           7          122     64            344        82  \n",
       "\n",
       "[1851436 rows x 17 columns]"
      ]
     },
     "execution_count": 15,
     "metadata": {},
     "output_type": "execute_result"
    }
   ],
   "source": [
    "X"
   ]
  },
  {
   "cell_type": "markdown",
   "id": "ee93424a",
   "metadata": {},
   "source": [
    "# FIXING CLASS IMBALANCE"
   ]
  },
  {
   "cell_type": "code",
   "execution_count": 16,
   "id": "0b4be144",
   "metadata": {},
   "outputs": [
    {
     "data": {
      "image/png": "[encoded data removed]",
      "text/plain": [
       "<Figure size 432x288 with 1 Axes>"
      ]
     },
     "metadata": {},
     "output_type": "display_data"
    }
   ],
   "source": [
    "pie_bs = np.array(y.value_counts().tolist())\n",
    "mylabels = [\"class 0(NO Delay)\", \"class 1(Delay)\"]\n",
    "plt.pie(pie_bs,labels=mylabels)\n",
    "plt.show() "
   ]
  },
  {
   "cell_type": "markdown",
   "id": "64320421",
   "metadata": {},
   "source": [
    "# oversampling using SMOTE"
   ]
  },
  {
   "cell_type": "code",
   "execution_count": 17,
   "id": "4ceef7e9",
   "metadata": {},
   "outputs": [],
   "source": [
    "sm = SMOTE(random_state=10)\n",
    "X , y = sm.fit_resample(X , y)"
   ]
  },
  {
   "cell_type": "code",
   "execution_count": 18,
   "id": "59f3804e",
   "metadata": {},
   "outputs": [
    {
     "data": {
      "text/plain": [
       "0.0    1479357\n",
       "1.0    1479357\n",
       "Name: DepDel15, dtype: int64"
      ]
     },
     "execution_count": 18,
     "metadata": {},
     "output_type": "execute_result"
    }
   ],
   "source": [
    "#after smote\n",
    "y.value_counts()"
   ]
  },
  {
   "cell_type": "code",
   "execution_count": 19,
   "id": "60d8225d",
   "metadata": {},
   "outputs": [
    {
     "data": {
      "image/png": "[encoded data removed]",
      "text/plain": [
       "<Figure size 432x288 with 1 Axes>"
      ]
     },
     "metadata": {},
     "output_type": "display_data"
    }
   ],
   "source": [
    "pie_bs = np.array(y.value_counts().tolist())\n",
    "mylabels = [\"class 0(NO Delay)\", \"class 1(Delay)\"]\n",
    "plt.pie(pie_bs,labels=mylabels)\n",
    "plt.show() "
   ]
  },
  {
   "cell_type": "code",
   "execution_count": 20,
   "id": "3d0af097",
   "metadata": {},
   "outputs": [],
   "source": [
    "X_train , X_test , y_train , y_test = train_test_split(X,y,test_size=0.2,stratify=y)"
   ]
  },
  {
   "cell_type": "markdown",
   "id": "035d0f39",
   "metadata": {},
   "source": [
    "# Logistic Regression with smote"
   ]
  },
  {
   "cell_type": "code",
   "execution_count": 19,
   "id": "8451e6c8",
   "metadata": {},
   "outputs": [
    {
     "data": {
      "text/html": [
       "<style>#sk-container-id-1 {color: black;background-color: white;}#sk-container-id-1 pre{padding: 0;}#sk-container-id-1 div.sk-toggleable {background-color: white;}#sk-container-id-1 label.sk-toggleable__label {cursor: pointer;display: block;width: 100%;margin-bottom: 0;padding: 0.3em;box-sizing: border-box;text-align: center;}#sk-container-id-1 label.sk-toggleable__label-arrow:before {content: \"▸\";float: left;margin-right: 0.25em;color: #696969;}#sk-container-id-1 label.sk-toggleable__label-arrow:hover:before {color: black;}#sk-container-id-1 div.sk-estimator:hover label.sk-toggleable__label-arrow:before {color: black;}#sk-container-id-1 div.sk-toggleable__content {max-height: 0;max-width: 0;overflow: hidden;text-align: left;background-color: #f0f8ff;}#sk-container-id-1 div.sk-toggleable__content pre {margin: 0.2em;color: black;border-radius: 0.25em;background-color: #f0f8ff;}#sk-container-id-1 input.sk-toggleable__control:checked~div.sk-toggleable__content {max-height: 200px;max-width: 100%;overflow: auto;}#sk-container-id-1 input.sk-toggleable__control:checked~label.sk-toggleable__label-arrow:before {content: \"▾\";}#sk-container-id-1 div.sk-estimator input.sk-toggleable__control:checked~label.sk-toggleable__label {background-color: #d4ebff;}#sk-container-id-1 div.sk-label input.sk-toggleable__control:checked~label.sk-toggleable__label {background-color: #d4ebff;}#sk-container-id-1 input.sk-hidden--visually {border: 0;clip: rect(1px 1px 1px 1px);clip: rect(1px, 1px, 1px, 1px);height: 1px;margin: -1px;overflow: hidden;padding: 0;position: absolute;width: 1px;}#sk-container-id-1 div.sk-estimator {font-family: monospace;background-color: #f0f8ff;border: 1px dotted black;border-radius: 0.25em;box-sizing: border-box;margin-bottom: 0.5em;}#sk-container-id-1 div.sk-estimator:hover {background-color: #d4ebff;}#sk-container-id-1 div.sk-parallel-item::after {content: \"\";width: 100%;border-bottom: 1px solid gray;flex-grow: 1;}#sk-container-id-1 div.sk-label:hover label.sk-toggleable__label {background-color: #d4ebff;}#sk-container-id-1 div.sk-serial::before {content: \"\";position: absolute;border-left: 1px solid gray;box-sizing: border-box;top: 0;bottom: 0;left: 50%;z-index: 0;}#sk-container-id-1 div.sk-serial {display: flex;flex-direction: column;align-items: center;background-color: white;padding-right: 0.2em;padding-left: 0.2em;position: relative;}#sk-container-id-1 div.sk-item {position: relative;z-index: 1;}#sk-container-id-1 div.sk-parallel {display: flex;align-items: stretch;justify-content: center;background-color: white;position: relative;}#sk-container-id-1 div.sk-item::before, #sk-container-id-1 div.sk-parallel-item::before {content: \"\";position: absolute;border-left: 1px solid gray;box-sizing: border-box;top: 0;bottom: 0;left: 50%;z-index: -1;}#sk-container-id-1 div.sk-parallel-item {display: flex;flex-direction: column;z-index: 1;position: relative;background-color: white;}#sk-container-id-1 div.sk-parallel-item:first-child::after {align-self: flex-end;width: 50%;}#sk-container-id-1 div.sk-parallel-item:last-child::after {align-self: flex-start;width: 50%;}#sk-container-id-1 div.sk-parallel-item:only-child::after {width: 0;}#sk-container-id-1 div.sk-dashed-wrapped {border: 1px dashed gray;margin: 0 0.4em 0.5em 0.4em;box-sizing: border-box;padding-bottom: 0.4em;background-color: white;}#sk-container-id-1 div.sk-label label {font-family: monospace;font-weight: bold;display: inline-block;line-height: 1.2em;}#sk-container-id-1 div.sk-label-container {text-align: center;}#sk-container-id-1 div.sk-container {/* jupyter's `normalize.less` sets `[hidden] { display: none; }` but bootstrap.min.css set `[hidden] { display: none !important; }` so we also need the `!important` here to be able to override the default hidden behavior on the sphinx rendered scikit-learn.org. See: https://github.com/scikit-learn/scikit-learn/issues/21755 */display: inline-block !important;position: relative;}#sk-container-id-1 div.sk-text-repr-fallback {display: none;}</style><div id=\"sk-container-id-1\" class=\"sk-top-container\"><div class=\"sk-text-repr-fallback\"><pre>LogisticRegression(max_iter=3000)</pre><b>In a Jupyter environment, please rerun this cell to show the HTML representation or trust the notebook. <br />On GitHub, the HTML representation is unable to render, please try loading this page with nbviewer.org.</b></div><div class=\"sk-container\" hidden><div class=\"sk-item\"><div class=\"sk-estimator sk-toggleable\"><input class=\"sk-toggleable__control sk-hidden--visually\" id=\"sk-estimator-id-1\" type=\"checkbox\" checked><label for=\"sk-estimator-id-1\" class=\"sk-toggleable__label sk-toggleable__label-arrow\">LogisticRegression</label><div class=\"sk-toggleable__content\"><pre>LogisticRegression(max_iter=3000)</pre></div></div></div></div></div>"
      ],
      "text/plain": [
       "LogisticRegression(max_iter=3000)"
      ]
     },
     "execution_count": 19,
     "metadata": {},
     "output_type": "execute_result"
    }
   ],
   "source": [
    "model_LR = LogisticRegression(solver='lbfgs', max_iter=3000)\n",
    "model_LR.fit(X_train,y_train)"
   ]
  },
  {
   "cell_type": "code",
   "execution_count": 20,
   "id": "f741f7af",
   "metadata": {},
   "outputs": [
    {
     "data": {
      "text/plain": [
       "0.6028951757773222"
      ]
     },
     "execution_count": 20,
     "metadata": {},
     "output_type": "execute_result"
    }
   ],
   "source": [
    "res = model_LR.predict(X_test)\n",
    "model_LR.score(X_test,y_test)"
   ]
  },
  {
   "cell_type": "code",
   "execution_count": 21,
   "id": "ca4825a8",
   "metadata": {},
   "outputs": [
    {
     "name": "stdout",
     "output_type": "stream",
     "text": [
      "              precision    recall  f1-score   support\n",
      "\n",
      "         0.0       0.60      0.60      0.60    295872\n",
      "         1.0       0.60      0.61      0.61    295871\n",
      "\n",
      "    accuracy                           0.60    591743\n",
      "   macro avg       0.60      0.60      0.60    591743\n",
      "weighted avg       0.60      0.60      0.60    591743\n",
      "\n"
     ]
    }
   ],
   "source": [
    "print(classification_report(y_test,res))"
   ]
  },
  {
   "cell_type": "markdown",
   "id": "9ca2c841",
   "metadata": {},
   "source": [
    "# DecisionTreeClassifier with smote"
   ]
  },
  {
   "cell_type": "code",
   "execution_count": 22,
   "id": "e01ae8db",
   "metadata": {},
   "outputs": [
    {
     "data": {
      "text/html": [
       "<style>#sk-container-id-2 {color: black;background-color: white;}#sk-container-id-2 pre{padding: 0;}#sk-container-id-2 div.sk-toggleable {background-color: white;}#sk-container-id-2 label.sk-toggleable__label {cursor: pointer;display: block;width: 100%;margin-bottom: 0;padding: 0.3em;box-sizing: border-box;text-align: center;}#sk-container-id-2 label.sk-toggleable__label-arrow:before {content: \"▸\";float: left;margin-right: 0.25em;color: #696969;}#sk-container-id-2 label.sk-toggleable__label-arrow:hover:before {color: black;}#sk-container-id-2 div.sk-estimator:hover label.sk-toggleable__label-arrow:before {color: black;}#sk-container-id-2 div.sk-toggleable__content {max-height: 0;max-width: 0;overflow: hidden;text-align: left;background-color: #f0f8ff;}#sk-container-id-2 div.sk-toggleable__content pre {margin: 0.2em;color: black;border-radius: 0.25em;background-color: #f0f8ff;}#sk-container-id-2 input.sk-toggleable__control:checked~div.sk-toggleable__content {max-height: 200px;max-width: 100%;overflow: auto;}#sk-container-id-2 input.sk-toggleable__control:checked~label.sk-toggleable__label-arrow:before {content: \"▾\";}#sk-container-id-2 div.sk-estimator input.sk-toggleable__control:checked~label.sk-toggleable__label {background-color: #d4ebff;}#sk-container-id-2 div.sk-label input.sk-toggleable__control:checked~label.sk-toggleable__label {background-color: #d4ebff;}#sk-container-id-2 input.sk-hidden--visually {border: 0;clip: rect(1px 1px 1px 1px);clip: rect(1px, 1px, 1px, 1px);height: 1px;margin: -1px;overflow: hidden;padding: 0;position: absolute;width: 1px;}#sk-container-id-2 div.sk-estimator {font-family: monospace;background-color: #f0f8ff;border: 1px dotted black;border-radius: 0.25em;box-sizing: border-box;margin-bottom: 0.5em;}#sk-container-id-2 div.sk-estimator:hover {background-color: #d4ebff;}#sk-container-id-2 div.sk-parallel-item::after {content: \"\";width: 100%;border-bottom: 1px solid gray;flex-grow: 1;}#sk-container-id-2 div.sk-label:hover label.sk-toggleable__label {background-color: #d4ebff;}#sk-container-id-2 div.sk-serial::before {content: \"\";position: absolute;border-left: 1px solid gray;box-sizing: border-box;top: 0;bottom: 0;left: 50%;z-index: 0;}#sk-container-id-2 div.sk-serial {display: flex;flex-direction: column;align-items: center;background-color: white;padding-right: 0.2em;padding-left: 0.2em;position: relative;}#sk-container-id-2 div.sk-item {position: relative;z-index: 1;}#sk-container-id-2 div.sk-parallel {display: flex;align-items: stretch;justify-content: center;background-color: white;position: relative;}#sk-container-id-2 div.sk-item::before, #sk-container-id-2 div.sk-parallel-item::before {content: \"\";position: absolute;border-left: 1px solid gray;box-sizing: border-box;top: 0;bottom: 0;left: 50%;z-index: -1;}#sk-container-id-2 div.sk-parallel-item {display: flex;flex-direction: column;z-index: 1;position: relative;background-color: white;}#sk-container-id-2 div.sk-parallel-item:first-child::after {align-self: flex-end;width: 50%;}#sk-container-id-2 div.sk-parallel-item:last-child::after {align-self: flex-start;width: 50%;}#sk-container-id-2 div.sk-parallel-item:only-child::after {width: 0;}#sk-container-id-2 div.sk-dashed-wrapped {border: 1px dashed gray;margin: 0 0.4em 0.5em 0.4em;box-sizing: border-box;padding-bottom: 0.4em;background-color: white;}#sk-container-id-2 div.sk-label label {font-family: monospace;font-weight: bold;display: inline-block;line-height: 1.2em;}#sk-container-id-2 div.sk-label-container {text-align: center;}#sk-container-id-2 div.sk-container {/* jupyter's `normalize.less` sets `[hidden] { display: none; }` but bootstrap.min.css set `[hidden] { display: none !important; }` so we also need the `!important` here to be able to override the default hidden behavior on the sphinx rendered scikit-learn.org. See: https://github.com/scikit-learn/scikit-learn/issues/21755 */display: inline-block !important;position: relative;}#sk-container-id-2 div.sk-text-repr-fallback {display: none;}</style><div id=\"sk-container-id-2\" class=\"sk-top-container\"><div class=\"sk-text-repr-fallback\"><pre>DecisionTreeClassifier()</pre><b>In a Jupyter environment, please rerun this cell to show the HTML representation or trust the notebook. <br />On GitHub, the HTML representation is unable to render, please try loading this page with nbviewer.org.</b></div><div class=\"sk-container\" hidden><div class=\"sk-item\"><div class=\"sk-estimator sk-toggleable\"><input class=\"sk-toggleable__control sk-hidden--visually\" id=\"sk-estimator-id-2\" type=\"checkbox\" checked><label for=\"sk-estimator-id-2\" class=\"sk-toggleable__label sk-toggleable__label-arrow\">DecisionTreeClassifier</label><div class=\"sk-toggleable__content\"><pre>DecisionTreeClassifier()</pre></div></div></div></div></div>"
      ],
      "text/plain": [
       "DecisionTreeClassifier()"
      ]
     },
     "execution_count": 22,
     "metadata": {},
     "output_type": "execute_result"
    }
   ],
   "source": [
    "model_DTC = DecisionTreeClassifier()\n",
    "model_DTC.fit(X_train,y_train)"
   ]
  },
  {
   "cell_type": "code",
   "execution_count": 23,
   "id": "f1bc9a9e",
   "metadata": {},
   "outputs": [
    {
     "data": {
      "text/plain": [
       "0.7982215252229431"
      ]
     },
     "execution_count": 23,
     "metadata": {},
     "output_type": "execute_result"
    }
   ],
   "source": [
    "res = model_DTC.predict(X_test)\n",
    "model_DTC.score(X_test,y_test)"
   ]
  },
  {
   "cell_type": "code",
   "execution_count": 24,
   "id": "5287b6a8",
   "metadata": {},
   "outputs": [
    {
     "name": "stdout",
     "output_type": "stream",
     "text": [
      "              precision    recall  f1-score   support\n",
      "\n",
      "         0.0       0.80      0.79      0.80    295872\n",
      "         1.0       0.80      0.80      0.80    295871\n",
      "\n",
      "    accuracy                           0.80    591743\n",
      "   macro avg       0.80      0.80      0.80    591743\n",
      "weighted avg       0.80      0.80      0.80    591743\n",
      "\n"
     ]
    }
   ],
   "source": [
    "print(classification_report(y_test,res))"
   ]
  },
  {
   "cell_type": "markdown",
   "id": "7ae74411",
   "metadata": {},
   "source": [
    "# RandomForestClassifier with smote"
   ]
  },
  {
   "cell_type": "code",
   "execution_count": 86,
   "id": "ead189d3",
   "metadata": {},
   "outputs": [
    {
     "data": {
      "text/html": [
       "<style>#sk-container-id-2 {color: black;background-color: white;}#sk-container-id-2 pre{padding: 0;}#sk-container-id-2 div.sk-toggleable {background-color: white;}#sk-container-id-2 label.sk-toggleable__label {cursor: pointer;display: block;width: 100%;margin-bottom: 0;padding: 0.3em;box-sizing: border-box;text-align: center;}#sk-container-id-2 label.sk-toggleable__label-arrow:before {content: \"▸\";float: left;margin-right: 0.25em;color: #696969;}#sk-container-id-2 label.sk-toggleable__label-arrow:hover:before {color: black;}#sk-container-id-2 div.sk-estimator:hover label.sk-toggleable__label-arrow:before {color: black;}#sk-container-id-2 div.sk-toggleable__content {max-height: 0;max-width: 0;overflow: hidden;text-align: left;background-color: #f0f8ff;}#sk-container-id-2 div.sk-toggleable__content pre {margin: 0.2em;color: black;border-radius: 0.25em;background-color: #f0f8ff;}#sk-container-id-2 input.sk-toggleable__control:checked~div.sk-toggleable__content {max-height: 200px;max-width: 100%;overflow: auto;}#sk-container-id-2 input.sk-toggleable__control:checked~label.sk-toggleable__label-arrow:before {content: \"▾\";}#sk-container-id-2 div.sk-estimator input.sk-toggleable__control:checked~label.sk-toggleable__label {background-color: #d4ebff;}#sk-container-id-2 div.sk-label input.sk-toggleable__control:checked~label.sk-toggleable__label {background-color: #d4ebff;}#sk-container-id-2 input.sk-hidden--visually {border: 0;clip: rect(1px 1px 1px 1px);clip: rect(1px, 1px, 1px, 1px);height: 1px;margin: -1px;overflow: hidden;padding: 0;position: absolute;width: 1px;}#sk-container-id-2 div.sk-estimator {font-family: monospace;background-color: #f0f8ff;border: 1px dotted black;border-radius: 0.25em;box-sizing: border-box;margin-bottom: 0.5em;}#sk-container-id-2 div.sk-estimator:hover {background-color: #d4ebff;}#sk-container-id-2 div.sk-parallel-item::after {content: \"\";width: 100%;border-bottom: 1px solid gray;flex-grow: 1;}#sk-container-id-2 div.sk-label:hover label.sk-toggleable__label {background-color: #d4ebff;}#sk-container-id-2 div.sk-serial::before {content: \"\";position: absolute;border-left: 1px solid gray;box-sizing: border-box;top: 0;bottom: 0;left: 50%;z-index: 0;}#sk-container-id-2 div.sk-serial {display: flex;flex-direction: column;align-items: center;background-color: white;padding-right: 0.2em;padding-left: 0.2em;position: relative;}#sk-container-id-2 div.sk-item {position: relative;z-index: 1;}#sk-container-id-2 div.sk-parallel {display: flex;align-items: stretch;justify-content: center;background-color: white;position: relative;}#sk-container-id-2 div.sk-item::before, #sk-container-id-2 div.sk-parallel-item::before {content: \"\";position: absolute;border-left: 1px solid gray;box-sizing: border-box;top: 0;bottom: 0;left: 50%;z-index: -1;}#sk-container-id-2 div.sk-parallel-item {display: flex;flex-direction: column;z-index: 1;position: relative;background-color: white;}#sk-container-id-2 div.sk-parallel-item:first-child::after {align-self: flex-end;width: 50%;}#sk-container-id-2 div.sk-parallel-item:last-child::after {align-self: flex-start;width: 50%;}#sk-container-id-2 div.sk-parallel-item:only-child::after {width: 0;}#sk-container-id-2 div.sk-dashed-wrapped {border: 1px dashed gray;margin: 0 0.4em 0.5em 0.4em;box-sizing: border-box;padding-bottom: 0.4em;background-color: white;}#sk-container-id-2 div.sk-label label {font-family: monospace;font-weight: bold;display: inline-block;line-height: 1.2em;}#sk-container-id-2 div.sk-label-container {text-align: center;}#sk-container-id-2 div.sk-container {/* jupyter's `normalize.less` sets `[hidden] { display: none; }` but bootstrap.min.css set `[hidden] { display: none !important; }` so we also need the `!important` here to be able to override the default hidden behavior on the sphinx rendered scikit-learn.org. See: https://github.com/scikit-learn/scikit-learn/issues/21755 */display: inline-block !important;position: relative;}#sk-container-id-2 div.sk-text-repr-fallback {display: none;}</style><div id=\"sk-container-id-2\" class=\"sk-top-container\"><div class=\"sk-text-repr-fallback\"><pre>RandomForestClassifier()</pre><b>In a Jupyter environment, please rerun this cell to show the HTML representation or trust the notebook. <br />On GitHub, the HTML representation is unable to render, please try loading this page with nbviewer.org.</b></div><div class=\"sk-container\" hidden><div class=\"sk-item\"><div class=\"sk-estimator sk-toggleable\"><input class=\"sk-toggleable__control sk-hidden--visually\" id=\"sk-estimator-id-2\" type=\"checkbox\" checked><label for=\"sk-estimator-id-2\" class=\"sk-toggleable__label sk-toggleable__label-arrow\">RandomForestClassifier</label><div class=\"sk-toggleable__content\"><pre>RandomForestClassifier()</pre></div></div></div></div></div>"
      ],
      "text/plain": [
       "RandomForestClassifier()"
      ]
     },
     "execution_count": 86,
     "metadata": {},
     "output_type": "execute_result"
    }
   ],
   "source": [
    "model_RFC = RandomForestClassifier()\n",
    "model_RFC.fit(X_train,y_train)"
   ]
  },
  {
   "cell_type": "code",
   "execution_count": 87,
   "id": "0ef7ce08",
   "metadata": {},
   "outputs": [
    {
     "data": {
      "text/plain": [
       "0.8593173049786816"
      ]
     },
     "execution_count": 87,
     "metadata": {},
     "output_type": "execute_result"
    }
   ],
   "source": [
    "res = model_RFC.predict(X_test)\n",
    "model_RFC.score(X_test,y_test)"
   ]
  },
  {
   "cell_type": "code",
   "execution_count": 88,
   "id": "2ae27bb9",
   "metadata": {},
   "outputs": [
    {
     "name": "stdout",
     "output_type": "stream",
     "text": [
      "              precision    recall  f1-score   support\n",
      "\n",
      "         0.0       0.84      0.89      0.86    295871\n",
      "         1.0       0.88      0.83      0.85    295872\n",
      "\n",
      "    accuracy                           0.86    591743\n",
      "   macro avg       0.86      0.86      0.86    591743\n",
      "weighted avg       0.86      0.86      0.86    591743\n",
      "\n"
     ]
    }
   ],
   "source": [
    "print(classification_report(y_test,res))"
   ]
  },
  {
   "cell_type": "markdown",
   "id": "972da2d7",
   "metadata": {},
   "source": [
    "# XGBOOST with smote"
   ]
  },
  {
   "cell_type": "code",
   "execution_count": 28,
   "id": "0023a844",
   "metadata": {},
   "outputs": [
    {
     "data": {
      "text/html": [
       "<style>#sk-container-id-4 {color: black;background-color: white;}#sk-container-id-4 pre{padding: 0;}#sk-container-id-4 div.sk-toggleable {background-color: white;}#sk-container-id-4 label.sk-toggleable__label {cursor: pointer;display: block;width: 100%;margin-bottom: 0;padding: 0.3em;box-sizing: border-box;text-align: center;}#sk-container-id-4 label.sk-toggleable__label-arrow:before {content: \"▸\";float: left;margin-right: 0.25em;color: #696969;}#sk-container-id-4 label.sk-toggleable__label-arrow:hover:before {color: black;}#sk-container-id-4 div.sk-estimator:hover label.sk-toggleable__label-arrow:before {color: black;}#sk-container-id-4 div.sk-toggleable__content {max-height: 0;max-width: 0;overflow: hidden;text-align: left;background-color: #f0f8ff;}#sk-container-id-4 div.sk-toggleable__content pre {margin: 0.2em;color: black;border-radius: 0.25em;background-color: #f0f8ff;}#sk-container-id-4 input.sk-toggleable__control:checked~div.sk-toggleable__content {max-height: 200px;max-width: 100%;overflow: auto;}#sk-container-id-4 input.sk-toggleable__control:checked~label.sk-toggleable__label-arrow:before {content: \"▾\";}#sk-container-id-4 div.sk-estimator input.sk-toggleable__control:checked~label.sk-toggleable__label {background-color: #d4ebff;}#sk-container-id-4 div.sk-label input.sk-toggleable__control:checked~label.sk-toggleable__label {background-color: #d4ebff;}#sk-container-id-4 input.sk-hidden--visually {border: 0;clip: rect(1px 1px 1px 1px);clip: rect(1px, 1px, 1px, 1px);height: 1px;margin: -1px;overflow: hidden;padding: 0;position: absolute;width: 1px;}#sk-container-id-4 div.sk-estimator {font-family: monospace;background-color: #f0f8ff;border: 1px dotted black;border-radius: 0.25em;box-sizing: border-box;margin-bottom: 0.5em;}#sk-container-id-4 div.sk-estimator:hover {background-color: #d4ebff;}#sk-container-id-4 div.sk-parallel-item::after {content: \"\";width: 100%;border-bottom: 1px solid gray;flex-grow: 1;}#sk-container-id-4 div.sk-label:hover label.sk-toggleable__label {background-color: #d4ebff;}#sk-container-id-4 div.sk-serial::before {content: \"\";position: absolute;border-left: 1px solid gray;box-sizing: border-box;top: 0;bottom: 0;left: 50%;z-index: 0;}#sk-container-id-4 div.sk-serial {display: flex;flex-direction: column;align-items: center;background-color: white;padding-right: 0.2em;padding-left: 0.2em;position: relative;}#sk-container-id-4 div.sk-item {position: relative;z-index: 1;}#sk-container-id-4 div.sk-parallel {display: flex;align-items: stretch;justify-content: center;background-color: white;position: relative;}#sk-container-id-4 div.sk-item::before, #sk-container-id-4 div.sk-parallel-item::before {content: \"\";position: absolute;border-left: 1px solid gray;box-sizing: border-box;top: 0;bottom: 0;left: 50%;z-index: -1;}#sk-container-id-4 div.sk-parallel-item {display: flex;flex-direction: column;z-index: 1;position: relative;background-color: white;}#sk-container-id-4 div.sk-parallel-item:first-child::after {align-self: flex-end;width: 50%;}#sk-container-id-4 div.sk-parallel-item:last-child::after {align-self: flex-start;width: 50%;}#sk-container-id-4 div.sk-parallel-item:only-child::after {width: 0;}#sk-container-id-4 div.sk-dashed-wrapped {border: 1px dashed gray;margin: 0 0.4em 0.5em 0.4em;box-sizing: border-box;padding-bottom: 0.4em;background-color: white;}#sk-container-id-4 div.sk-label label {font-family: monospace;font-weight: bold;display: inline-block;line-height: 1.2em;}#sk-container-id-4 div.sk-label-container {text-align: center;}#sk-container-id-4 div.sk-container {/* jupyter's `normalize.less` sets `[hidden] { display: none; }` but bootstrap.min.css set `[hidden] { display: none !important; }` so we also need the `!important` here to be able to override the default hidden behavior on the sphinx rendered scikit-learn.org. See: https://github.com/scikit-learn/scikit-learn/issues/21755 */display: inline-block !important;position: relative;}#sk-container-id-4 div.sk-text-repr-fallback {display: none;}</style><div id=\"sk-container-id-4\" class=\"sk-top-container\"><div class=\"sk-text-repr-fallback\"><pre>XGBClassifier(base_score=None, booster=None, callbacks=None,\n",
       "              colsample_bylevel=None, colsample_bynode=None,\n",
       "              colsample_bytree=None, early_stopping_rounds=None,\n",
       "              enable_categorical=False, eval_metric=None, feature_types=None,\n",
       "              gamma=None, gpu_id=None, grow_policy=None, importance_type=None,\n",
       "              interaction_constraints=None, learning_rate=None, max_bin=None,\n",
       "              max_cat_threshold=None, max_cat_to_onehot=None,\n",
       "              max_delta_step=None, max_depth=None, max_leaves=None,\n",
       "              min_child_weight=None, missing=nan, monotone_constraints=None,\n",
       "              n_estimators=100, n_jobs=None, num_parallel_tree=None,\n",
       "              predictor=None, random_state=None, ...)</pre><b>In a Jupyter environment, please rerun this cell to show the HTML representation or trust the notebook. <br />On GitHub, the HTML representation is unable to render, please try loading this page with nbviewer.org.</b></div><div class=\"sk-container\" hidden><div class=\"sk-item\"><div class=\"sk-estimator sk-toggleable\"><input class=\"sk-toggleable__control sk-hidden--visually\" id=\"sk-estimator-id-4\" type=\"checkbox\" checked><label for=\"sk-estimator-id-4\" class=\"sk-toggleable__label sk-toggleable__label-arrow\">XGBClassifier</label><div class=\"sk-toggleable__content\"><pre>XGBClassifier(base_score=None, booster=None, callbacks=None,\n",
       "              colsample_bylevel=None, colsample_bynode=None,\n",
       "              colsample_bytree=None, early_stopping_rounds=None,\n",
       "              enable_categorical=False, eval_metric=None, feature_types=None,\n",
       "              gamma=None, gpu_id=None, grow_policy=None, importance_type=None,\n",
       "              interaction_constraints=None, learning_rate=None, max_bin=None,\n",
       "              max_cat_threshold=None, max_cat_to_onehot=None,\n",
       "              max_delta_step=None, max_depth=None, max_leaves=None,\n",
       "              min_child_weight=None, missing=nan, monotone_constraints=None,\n",
       "              n_estimators=100, n_jobs=None, num_parallel_tree=None,\n",
       "              predictor=None, random_state=None, ...)</pre></div></div></div></div></div>"
      ],
      "text/plain": [
       "XGBClassifier(base_score=None, booster=None, callbacks=None,\n",
       "              colsample_bylevel=None, colsample_bynode=None,\n",
       "              colsample_bytree=None, early_stopping_rounds=None,\n",
       "              enable_categorical=False, eval_metric=None, feature_types=None,\n",
       "              gamma=None, gpu_id=None, grow_policy=None, importance_type=None,\n",
       "              interaction_constraints=None, learning_rate=None, max_bin=None,\n",
       "              max_cat_threshold=None, max_cat_to_onehot=None,\n",
       "              max_delta_step=None, max_depth=None, max_leaves=None,\n",
       "              min_child_weight=None, missing=nan, monotone_constraints=None,\n",
       "              n_estimators=100, n_jobs=None, num_parallel_tree=None,\n",
       "              predictor=None, random_state=None, ...)"
      ]
     },
     "execution_count": 28,
     "metadata": {},
     "output_type": "execute_result"
    }
   ],
   "source": [
    "model_XG = XGBClassifier()\n",
    "model_XG.fit(X_train,y_train)"
   ]
  },
  {
   "cell_type": "code",
   "execution_count": 29,
   "id": "e515cc3c",
   "metadata": {},
   "outputs": [
    {
     "name": "stdout",
     "output_type": "stream",
     "text": [
      "              precision    recall  f1-score   support\n",
      "\n",
      "         0.0       0.74      0.83      0.79    295872\n",
      "         1.0       0.81      0.71      0.76    295871\n",
      "\n",
      "    accuracy                           0.77    591743\n",
      "   macro avg       0.78      0.77      0.77    591743\n",
      "weighted avg       0.78      0.77      0.77    591743\n",
      "\n"
     ]
    }
   ],
   "source": [
    "res = model_XG.predict(X_test)\n",
    "print(classification_report(y_test,res))"
   ]
  },
  {
   "cell_type": "code",
   "execution_count": 30,
   "id": "7b8b44db",
   "metadata": {},
   "outputs": [
    {
     "data": {
      "text/plain": [
       "0.7731346209418616"
      ]
     },
     "execution_count": 30,
     "metadata": {},
     "output_type": "execute_result"
    }
   ],
   "source": [
    "model_XG.score(X_test,y_test)"
   ]
  },
  {
   "cell_type": "markdown",
   "id": "5a5b11a5",
   "metadata": {},
   "source": [
    "# ExtraTreesClassifier with somte"
   ]
  },
  {
   "cell_type": "code",
   "execution_count": 31,
   "id": "0113a8af",
   "metadata": {},
   "outputs": [
    {
     "data": {
      "text/html": [
       "<style>#sk-container-id-5 {color: black;background-color: white;}#sk-container-id-5 pre{padding: 0;}#sk-container-id-5 div.sk-toggleable {background-color: white;}#sk-container-id-5 label.sk-toggleable__label {cursor: pointer;display: block;width: 100%;margin-bottom: 0;padding: 0.3em;box-sizing: border-box;text-align: center;}#sk-container-id-5 label.sk-toggleable__label-arrow:before {content: \"▸\";float: left;margin-right: 0.25em;color: #696969;}#sk-container-id-5 label.sk-toggleable__label-arrow:hover:before {color: black;}#sk-container-id-5 div.sk-estimator:hover label.sk-toggleable__label-arrow:before {color: black;}#sk-container-id-5 div.sk-toggleable__content {max-height: 0;max-width: 0;overflow: hidden;text-align: left;background-color: #f0f8ff;}#sk-container-id-5 div.sk-toggleable__content pre {margin: 0.2em;color: black;border-radius: 0.25em;background-color: #f0f8ff;}#sk-container-id-5 input.sk-toggleable__control:checked~div.sk-toggleable__content {max-height: 200px;max-width: 100%;overflow: auto;}#sk-container-id-5 input.sk-toggleable__control:checked~label.sk-toggleable__label-arrow:before {content: \"▾\";}#sk-container-id-5 div.sk-estimator input.sk-toggleable__control:checked~label.sk-toggleable__label {background-color: #d4ebff;}#sk-container-id-5 div.sk-label input.sk-toggleable__control:checked~label.sk-toggleable__label {background-color: #d4ebff;}#sk-container-id-5 input.sk-hidden--visually {border: 0;clip: rect(1px 1px 1px 1px);clip: rect(1px, 1px, 1px, 1px);height: 1px;margin: -1px;overflow: hidden;padding: 0;position: absolute;width: 1px;}#sk-container-id-5 div.sk-estimator {font-family: monospace;background-color: #f0f8ff;border: 1px dotted black;border-radius: 0.25em;box-sizing: border-box;margin-bottom: 0.5em;}#sk-container-id-5 div.sk-estimator:hover {background-color: #d4ebff;}#sk-container-id-5 div.sk-parallel-item::after {content: \"\";width: 100%;border-bottom: 1px solid gray;flex-grow: 1;}#sk-container-id-5 div.sk-label:hover label.sk-toggleable__label {background-color: #d4ebff;}#sk-container-id-5 div.sk-serial::before {content: \"\";position: absolute;border-left: 1px solid gray;box-sizing: border-box;top: 0;bottom: 0;left: 50%;z-index: 0;}#sk-container-id-5 div.sk-serial {display: flex;flex-direction: column;align-items: center;background-color: white;padding-right: 0.2em;padding-left: 0.2em;position: relative;}#sk-container-id-5 div.sk-item {position: relative;z-index: 1;}#sk-container-id-5 div.sk-parallel {display: flex;align-items: stretch;justify-content: center;background-color: white;position: relative;}#sk-container-id-5 div.sk-item::before, #sk-container-id-5 div.sk-parallel-item::before {content: \"\";position: absolute;border-left: 1px solid gray;box-sizing: border-box;top: 0;bottom: 0;left: 50%;z-index: -1;}#sk-container-id-5 div.sk-parallel-item {display: flex;flex-direction: column;z-index: 1;position: relative;background-color: white;}#sk-container-id-5 div.sk-parallel-item:first-child::after {align-self: flex-end;width: 50%;}#sk-container-id-5 div.sk-parallel-item:last-child::after {align-self: flex-start;width: 50%;}#sk-container-id-5 div.sk-parallel-item:only-child::after {width: 0;}#sk-container-id-5 div.sk-dashed-wrapped {border: 1px dashed gray;margin: 0 0.4em 0.5em 0.4em;box-sizing: border-box;padding-bottom: 0.4em;background-color: white;}#sk-container-id-5 div.sk-label label {font-family: monospace;font-weight: bold;display: inline-block;line-height: 1.2em;}#sk-container-id-5 div.sk-label-container {text-align: center;}#sk-container-id-5 div.sk-container {/* jupyter's `normalize.less` sets `[hidden] { display: none; }` but bootstrap.min.css set `[hidden] { display: none !important; }` so we also need the `!important` here to be able to override the default hidden behavior on the sphinx rendered scikit-learn.org. See: https://github.com/scikit-learn/scikit-learn/issues/21755 */display: inline-block !important;position: relative;}#sk-container-id-5 div.sk-text-repr-fallback {display: none;}</style><div id=\"sk-container-id-5\" class=\"sk-top-container\"><div class=\"sk-text-repr-fallback\"><pre>ExtraTreesClassifier()</pre><b>In a Jupyter environment, please rerun this cell to show the HTML representation or trust the notebook. <br />On GitHub, the HTML representation is unable to render, please try loading this page with nbviewer.org.</b></div><div class=\"sk-container\" hidden><div class=\"sk-item\"><div class=\"sk-estimator sk-toggleable\"><input class=\"sk-toggleable__control sk-hidden--visually\" id=\"sk-estimator-id-5\" type=\"checkbox\" checked><label for=\"sk-estimator-id-5\" class=\"sk-toggleable__label sk-toggleable__label-arrow\">ExtraTreesClassifier</label><div class=\"sk-toggleable__content\"><pre>ExtraTreesClassifier()</pre></div></div></div></div></div>"
      ],
      "text/plain": [
       "ExtraTreesClassifier()"
      ]
     },
     "execution_count": 31,
     "metadata": {},
     "output_type": "execute_result"
    }
   ],
   "source": [
    "model_ETC = ExtraTreesClassifier()\n",
    "model_ETC.fit(X_train,y_train)"
   ]
  },
  {
   "cell_type": "code",
   "execution_count": 32,
   "id": "fe01f2d0",
   "metadata": {},
   "outputs": [
    {
     "name": "stdout",
     "output_type": "stream",
     "text": [
      "              precision    recall  f1-score   support\n",
      "\n",
      "         0.0       0.85      0.88      0.86    295872\n",
      "         1.0       0.87      0.84      0.86    295871\n",
      "\n",
      "    accuracy                           0.86    591743\n",
      "   macro avg       0.86      0.86      0.86    591743\n",
      "weighted avg       0.86      0.86      0.86    591743\n",
      "\n"
     ]
    }
   ],
   "source": [
    "res = model_ETC.predict(X_test)\n",
    "print(classification_report(y_test,res))"
   ]
  },
  {
   "cell_type": "code",
   "execution_count": 33,
   "id": "8d03218b",
   "metadata": {},
   "outputs": [
    {
     "data": {
      "text/plain": [
       "0.857891010117568"
      ]
     },
     "execution_count": 33,
     "metadata": {},
     "output_type": "execute_result"
    }
   ],
   "source": [
    "model_ETC.score(X_test,y_test)"
   ]
  },
  {
   "cell_type": "markdown",
   "id": "c599b49e",
   "metadata": {},
   "source": [
    "# UNDERSAMPLING"
   ]
  },
  {
   "cell_type": "code",
   "execution_count": 16,
   "id": "be9b3a3f",
   "metadata": {},
   "outputs": [],
   "source": [
    "undersample = RandomUnderSampler(sampling_strategy='majority')\n",
    "X , y = undersample.fit_resample(X, y)\n"
   ]
  },
  {
   "cell_type": "code",
   "execution_count": 17,
   "id": "49c613d6",
   "metadata": {},
   "outputs": [
    {
     "data": {
      "text/plain": [
       "0.0    372079\n",
       "1.0    372079\n",
       "Name: DepDel15, dtype: int64"
      ]
     },
     "execution_count": 17,
     "metadata": {},
     "output_type": "execute_result"
    }
   ],
   "source": [
    "y.value_counts()"
   ]
  },
  {
   "cell_type": "code",
   "execution_count": 18,
   "id": "3920a0b0",
   "metadata": {},
   "outputs": [
    {
     "data": {
      "image/png": "[encoded data removed]",
      "text/plain": [
       "<Figure size 432x288 with 1 Axes>"
      ]
     },
     "metadata": {},
     "output_type": "display_data"
    }
   ],
   "source": [
    "pie_bs = np.array(y.value_counts().tolist())\n",
    "mylabels = [\"class 0(NO Delay)\", \"class 1(Delay)\"]\n",
    "plt.pie(pie_bs,labels=mylabels)\n",
    "plt.show() "
   ]
  },
  {
   "cell_type": "code",
   "execution_count": 164,
   "id": "907a5afd",
   "metadata": {},
   "outputs": [
    {
     "data": {
      "text/plain": [
       "0          0.0\n",
       "1          0.0\n",
       "2          0.0\n",
       "3          0.0\n",
       "4          0.0\n",
       "          ... \n",
       "2958709    1.0\n",
       "2958710    1.0\n",
       "2958711    1.0\n",
       "2958712    1.0\n",
       "2958713    1.0\n",
       "Name: DepDel15, Length: 2958714, dtype: float64"
      ]
     },
     "execution_count": 164,
     "metadata": {},
     "output_type": "execute_result"
    }
   ],
   "source": [
    "y"
   ]
  },
  {
   "cell_type": "code",
   "execution_count": 19,
   "id": "57e679a9",
   "metadata": {},
   "outputs": [],
   "source": [
    "X_train , X_test , y_train , y_test = train_test_split(X,y,test_size=0.2,stratify=y)"
   ]
  },
  {
   "cell_type": "markdown",
   "id": "c6f2d0ec",
   "metadata": {},
   "source": [
    "# RandomForestClassifier with undersampling"
   ]
  },
  {
   "cell_type": "code",
   "execution_count": 20,
   "id": "f19b8a66",
   "metadata": {},
   "outputs": [
    {
     "data": {
      "text/html": [
       "<style>#sk-container-id-1 {color: black;background-color: white;}#sk-container-id-1 pre{padding: 0;}#sk-container-id-1 div.sk-toggleable {background-color: white;}#sk-container-id-1 label.sk-toggleable__label {cursor: pointer;display: block;width: 100%;margin-bottom: 0;padding: 0.3em;box-sizing: border-box;text-align: center;}#sk-container-id-1 label.sk-toggleable__label-arrow:before {content: \"▸\";float: left;margin-right: 0.25em;color: #696969;}#sk-container-id-1 label.sk-toggleable__label-arrow:hover:before {color: black;}#sk-container-id-1 div.sk-estimator:hover label.sk-toggleable__label-arrow:before {color: black;}#sk-container-id-1 div.sk-toggleable__content {max-height: 0;max-width: 0;overflow: hidden;text-align: left;background-color: #f0f8ff;}#sk-container-id-1 div.sk-toggleable__content pre {margin: 0.2em;color: black;border-radius: 0.25em;background-color: #f0f8ff;}#sk-container-id-1 input.sk-toggleable__control:checked~div.sk-toggleable__content {max-height: 200px;max-width: 100%;overflow: auto;}#sk-container-id-1 input.sk-toggleable__control:checked~label.sk-toggleable__label-arrow:before {content: \"▾\";}#sk-container-id-1 div.sk-estimator input.sk-toggleable__control:checked~label.sk-toggleable__label {background-color: #d4ebff;}#sk-container-id-1 div.sk-label input.sk-toggleable__control:checked~label.sk-toggleable__label {background-color: #d4ebff;}#sk-container-id-1 input.sk-hidden--visually {border: 0;clip: rect(1px 1px 1px 1px);clip: rect(1px, 1px, 1px, 1px);height: 1px;margin: -1px;overflow: hidden;padding: 0;position: absolute;width: 1px;}#sk-container-id-1 div.sk-estimator {font-family: monospace;background-color: #f0f8ff;border: 1px dotted black;border-radius: 0.25em;box-sizing: border-box;margin-bottom: 0.5em;}#sk-container-id-1 div.sk-estimator:hover {background-color: #d4ebff;}#sk-container-id-1 div.sk-parallel-item::after {content: \"\";width: 100%;border-bottom: 1px solid gray;flex-grow: 1;}#sk-container-id-1 div.sk-label:hover label.sk-toggleable__label {background-color: #d4ebff;}#sk-container-id-1 div.sk-serial::before {content: \"\";position: absolute;border-left: 1px solid gray;box-sizing: border-box;top: 0;bottom: 0;left: 50%;z-index: 0;}#sk-container-id-1 div.sk-serial {display: flex;flex-direction: column;align-items: center;background-color: white;padding-right: 0.2em;padding-left: 0.2em;position: relative;}#sk-container-id-1 div.sk-item {position: relative;z-index: 1;}#sk-container-id-1 div.sk-parallel {display: flex;align-items: stretch;justify-content: center;background-color: white;position: relative;}#sk-container-id-1 div.sk-item::before, #sk-container-id-1 div.sk-parallel-item::before {content: \"\";position: absolute;border-left: 1px solid gray;box-sizing: border-box;top: 0;bottom: 0;left: 50%;z-index: -1;}#sk-container-id-1 div.sk-parallel-item {display: flex;flex-direction: column;z-index: 1;position: relative;background-color: white;}#sk-container-id-1 div.sk-parallel-item:first-child::after {align-self: flex-end;width: 50%;}#sk-container-id-1 div.sk-parallel-item:last-child::after {align-self: flex-start;width: 50%;}#sk-container-id-1 div.sk-parallel-item:only-child::after {width: 0;}#sk-container-id-1 div.sk-dashed-wrapped {border: 1px dashed gray;margin: 0 0.4em 0.5em 0.4em;box-sizing: border-box;padding-bottom: 0.4em;background-color: white;}#sk-container-id-1 div.sk-label label {font-family: monospace;font-weight: bold;display: inline-block;line-height: 1.2em;}#sk-container-id-1 div.sk-label-container {text-align: center;}#sk-container-id-1 div.sk-container {/* jupyter's `normalize.less` sets `[hidden] { display: none; }` but bootstrap.min.css set `[hidden] { display: none !important; }` so we also need the `!important` here to be able to override the default hidden behavior on the sphinx rendered scikit-learn.org. See: https://github.com/scikit-learn/scikit-learn/issues/21755 */display: inline-block !important;position: relative;}#sk-container-id-1 div.sk-text-repr-fallback {display: none;}</style><div id=\"sk-container-id-1\" class=\"sk-top-container\"><div class=\"sk-text-repr-fallback\"><pre>RandomForestClassifier()</pre><b>In a Jupyter environment, please rerun this cell to show the HTML representation or trust the notebook. <br />On GitHub, the HTML representation is unable to render, please try loading this page with nbviewer.org.</b></div><div class=\"sk-container\" hidden><div class=\"sk-item\"><div class=\"sk-estimator sk-toggleable\"><input class=\"sk-toggleable__control sk-hidden--visually\" id=\"sk-estimator-id-1\" type=\"checkbox\" checked><label for=\"sk-estimator-id-1\" class=\"sk-toggleable__label sk-toggleable__label-arrow\">RandomForestClassifier</label><div class=\"sk-toggleable__content\"><pre>RandomForestClassifier()</pre></div></div></div></div></div>"
      ],
      "text/plain": [
       "RandomForestClassifier()"
      ]
     },
     "execution_count": 20,
     "metadata": {},
     "output_type": "execute_result"
    }
   ],
   "source": [
    "model_RFC = RandomForestClassifier()\n",
    "model_RFC.fit(X_train,y_train)"
   ]
  },
  {
   "cell_type": "code",
   "execution_count": 21,
   "id": "6d272103",
   "metadata": {},
   "outputs": [
    {
     "name": "stdout",
     "output_type": "stream",
     "text": [
      "              precision    recall  f1-score   support\n",
      "\n",
      "         0.0       0.64      0.66      0.65     74416\n",
      "         1.0       0.65      0.62      0.63     74416\n",
      "\n",
      "    accuracy                           0.64    148832\n",
      "   macro avg       0.64      0.64      0.64    148832\n",
      "weighted avg       0.64      0.64      0.64    148832\n",
      "\n"
     ]
    }
   ],
   "source": [
    "res = model_RFC.predict(X_test)\n",
    "print(classification_report(y_test,res))"
   ]
  },
  {
   "cell_type": "code",
   "execution_count": 22,
   "id": "fc1463b1",
   "metadata": {},
   "outputs": [
    {
     "data": {
      "text/plain": [
       "0.64104493657278"
      ]
     },
     "execution_count": 22,
     "metadata": {},
     "output_type": "execute_result"
    }
   ],
   "source": [
    "model_RFC.score(X_test,y_test)"
   ]
  },
  {
   "cell_type": "markdown",
   "id": "343a8d61",
   "metadata": {},
   "source": [
    "# Logistic regression with undersampling"
   ]
  },
  {
   "cell_type": "code",
   "execution_count": 23,
   "id": "2523d21c",
   "metadata": {},
   "outputs": [
    {
     "data": {
      "text/html": [
       "<style>#sk-container-id-2 {color: black;background-color: white;}#sk-container-id-2 pre{padding: 0;}#sk-container-id-2 div.sk-toggleable {background-color: white;}#sk-container-id-2 label.sk-toggleable__label {cursor: pointer;display: block;width: 100%;margin-bottom: 0;padding: 0.3em;box-sizing: border-box;text-align: center;}#sk-container-id-2 label.sk-toggleable__label-arrow:before {content: \"▸\";float: left;margin-right: 0.25em;color: #696969;}#sk-container-id-2 label.sk-toggleable__label-arrow:hover:before {color: black;}#sk-container-id-2 div.sk-estimator:hover label.sk-toggleable__label-arrow:before {color: black;}#sk-container-id-2 div.sk-toggleable__content {max-height: 0;max-width: 0;overflow: hidden;text-align: left;background-color: #f0f8ff;}#sk-container-id-2 div.sk-toggleable__content pre {margin: 0.2em;color: black;border-radius: 0.25em;background-color: #f0f8ff;}#sk-container-id-2 input.sk-toggleable__control:checked~div.sk-toggleable__content {max-height: 200px;max-width: 100%;overflow: auto;}#sk-container-id-2 input.sk-toggleable__control:checked~label.sk-toggleable__label-arrow:before {content: \"▾\";}#sk-container-id-2 div.sk-estimator input.sk-toggleable__control:checked~label.sk-toggleable__label {background-color: #d4ebff;}#sk-container-id-2 div.sk-label input.sk-toggleable__control:checked~label.sk-toggleable__label {background-color: #d4ebff;}#sk-container-id-2 input.sk-hidden--visually {border: 0;clip: rect(1px 1px 1px 1px);clip: rect(1px, 1px, 1px, 1px);height: 1px;margin: -1px;overflow: hidden;padding: 0;position: absolute;width: 1px;}#sk-container-id-2 div.sk-estimator {font-family: monospace;background-color: #f0f8ff;border: 1px dotted black;border-radius: 0.25em;box-sizing: border-box;margin-bottom: 0.5em;}#sk-container-id-2 div.sk-estimator:hover {background-color: #d4ebff;}#sk-container-id-2 div.sk-parallel-item::after {content: \"\";width: 100%;border-bottom: 1px solid gray;flex-grow: 1;}#sk-container-id-2 div.sk-label:hover label.sk-toggleable__label {background-color: #d4ebff;}#sk-container-id-2 div.sk-serial::before {content: \"\";position: absolute;border-left: 1px solid gray;box-sizing: border-box;top: 0;bottom: 0;left: 50%;z-index: 0;}#sk-container-id-2 div.sk-serial {display: flex;flex-direction: column;align-items: center;background-color: white;padding-right: 0.2em;padding-left: 0.2em;position: relative;}#sk-container-id-2 div.sk-item {position: relative;z-index: 1;}#sk-container-id-2 div.sk-parallel {display: flex;align-items: stretch;justify-content: center;background-color: white;position: relative;}#sk-container-id-2 div.sk-item::before, #sk-container-id-2 div.sk-parallel-item::before {content: \"\";position: absolute;border-left: 1px solid gray;box-sizing: border-box;top: 0;bottom: 0;left: 50%;z-index: -1;}#sk-container-id-2 div.sk-parallel-item {display: flex;flex-direction: column;z-index: 1;position: relative;background-color: white;}#sk-container-id-2 div.sk-parallel-item:first-child::after {align-self: flex-end;width: 50%;}#sk-container-id-2 div.sk-parallel-item:last-child::after {align-self: flex-start;width: 50%;}#sk-container-id-2 div.sk-parallel-item:only-child::after {width: 0;}#sk-container-id-2 div.sk-dashed-wrapped {border: 1px dashed gray;margin: 0 0.4em 0.5em 0.4em;box-sizing: border-box;padding-bottom: 0.4em;background-color: white;}#sk-container-id-2 div.sk-label label {font-family: monospace;font-weight: bold;display: inline-block;line-height: 1.2em;}#sk-container-id-2 div.sk-label-container {text-align: center;}#sk-container-id-2 div.sk-container {/* jupyter's `normalize.less` sets `[hidden] { display: none; }` but bootstrap.min.css set `[hidden] { display: none !important; }` so we also need the `!important` here to be able to override the default hidden behavior on the sphinx rendered scikit-learn.org. See: https://github.com/scikit-learn/scikit-learn/issues/21755 */display: inline-block !important;position: relative;}#sk-container-id-2 div.sk-text-repr-fallback {display: none;}</style><div id=\"sk-container-id-2\" class=\"sk-top-container\"><div class=\"sk-text-repr-fallback\"><pre>LogisticRegression(max_iter=3000)</pre><b>In a Jupyter environment, please rerun this cell to show the HTML representation or trust the notebook. <br />On GitHub, the HTML representation is unable to render, please try loading this page with nbviewer.org.</b></div><div class=\"sk-container\" hidden><div class=\"sk-item\"><div class=\"sk-estimator sk-toggleable\"><input class=\"sk-toggleable__control sk-hidden--visually\" id=\"sk-estimator-id-2\" type=\"checkbox\" checked><label for=\"sk-estimator-id-2\" class=\"sk-toggleable__label sk-toggleable__label-arrow\">LogisticRegression</label><div class=\"sk-toggleable__content\"><pre>LogisticRegression(max_iter=3000)</pre></div></div></div></div></div>"
      ],
      "text/plain": [
       "LogisticRegression(max_iter=3000)"
      ]
     },
     "execution_count": 23,
     "metadata": {},
     "output_type": "execute_result"
    }
   ],
   "source": [
    "model_LR = LogisticRegression(solver='lbfgs', max_iter=3000)\n",
    "model_LR.fit(X_train,y_train)"
   ]
  },
  {
   "cell_type": "code",
   "execution_count": 24,
   "id": "d9289a1c",
   "metadata": {},
   "outputs": [
    {
     "data": {
      "text/plain": [
       "0.5956514728015481"
      ]
     },
     "execution_count": 24,
     "metadata": {},
     "output_type": "execute_result"
    }
   ],
   "source": [
    "res = model_LR.predict(X_test)\n",
    "model_LR.score(X_test,y_test)"
   ]
  },
  {
   "cell_type": "code",
   "execution_count": 25,
   "id": "fceecb8e",
   "metadata": {},
   "outputs": [
    {
     "name": "stdout",
     "output_type": "stream",
     "text": [
      "              precision    recall  f1-score   support\n",
      "\n",
      "         0.0       0.60      0.58      0.59     74416\n",
      "         1.0       0.59      0.61      0.60     74416\n",
      "\n",
      "    accuracy                           0.60    148832\n",
      "   macro avg       0.60      0.60      0.60    148832\n",
      "weighted avg       0.60      0.60      0.60    148832\n",
      "\n"
     ]
    }
   ],
   "source": [
    "print(classification_report(y_test,res))"
   ]
  },
  {
   "cell_type": "markdown",
   "id": "79f03976",
   "metadata": {},
   "source": [
    "# DecisionTreeClassifier with undersampling"
   ]
  },
  {
   "cell_type": "code",
   "execution_count": 26,
   "id": "bda760c0",
   "metadata": {},
   "outputs": [
    {
     "data": {
      "text/html": [
       "<style>#sk-container-id-3 {color: black;background-color: white;}#sk-container-id-3 pre{padding: 0;}#sk-container-id-3 div.sk-toggleable {background-color: white;}#sk-container-id-3 label.sk-toggleable__label {cursor: pointer;display: block;width: 100%;margin-bottom: 0;padding: 0.3em;box-sizing: border-box;text-align: center;}#sk-container-id-3 label.sk-toggleable__label-arrow:before {content: \"▸\";float: left;margin-right: 0.25em;color: #696969;}#sk-container-id-3 label.sk-toggleable__label-arrow:hover:before {color: black;}#sk-container-id-3 div.sk-estimator:hover label.sk-toggleable__label-arrow:before {color: black;}#sk-container-id-3 div.sk-toggleable__content {max-height: 0;max-width: 0;overflow: hidden;text-align: left;background-color: #f0f8ff;}#sk-container-id-3 div.sk-toggleable__content pre {margin: 0.2em;color: black;border-radius: 0.25em;background-color: #f0f8ff;}#sk-container-id-3 input.sk-toggleable__control:checked~div.sk-toggleable__content {max-height: 200px;max-width: 100%;overflow: auto;}#sk-container-id-3 input.sk-toggleable__control:checked~label.sk-toggleable__label-arrow:before {content: \"▾\";}#sk-container-id-3 div.sk-estimator input.sk-toggleable__control:checked~label.sk-toggleable__label {background-color: #d4ebff;}#sk-container-id-3 div.sk-label input.sk-toggleable__control:checked~label.sk-toggleable__label {background-color: #d4ebff;}#sk-container-id-3 input.sk-hidden--visually {border: 0;clip: rect(1px 1px 1px 1px);clip: rect(1px, 1px, 1px, 1px);height: 1px;margin: -1px;overflow: hidden;padding: 0;position: absolute;width: 1px;}#sk-container-id-3 div.sk-estimator {font-family: monospace;background-color: #f0f8ff;border: 1px dotted black;border-radius: 0.25em;box-sizing: border-box;margin-bottom: 0.5em;}#sk-container-id-3 div.sk-estimator:hover {background-color: #d4ebff;}#sk-container-id-3 div.sk-parallel-item::after {content: \"\";width: 100%;border-bottom: 1px solid gray;flex-grow: 1;}#sk-container-id-3 div.sk-label:hover label.sk-toggleable__label {background-color: #d4ebff;}#sk-container-id-3 div.sk-serial::before {content: \"\";position: absolute;border-left: 1px solid gray;box-sizing: border-box;top: 0;bottom: 0;left: 50%;z-index: 0;}#sk-container-id-3 div.sk-serial {display: flex;flex-direction: column;align-items: center;background-color: white;padding-right: 0.2em;padding-left: 0.2em;position: relative;}#sk-container-id-3 div.sk-item {position: relative;z-index: 1;}#sk-container-id-3 div.sk-parallel {display: flex;align-items: stretch;justify-content: center;background-color: white;position: relative;}#sk-container-id-3 div.sk-item::before, #sk-container-id-3 div.sk-parallel-item::before {content: \"\";position: absolute;border-left: 1px solid gray;box-sizing: border-box;top: 0;bottom: 0;left: 50%;z-index: -1;}#sk-container-id-3 div.sk-parallel-item {display: flex;flex-direction: column;z-index: 1;position: relative;background-color: white;}#sk-container-id-3 div.sk-parallel-item:first-child::after {align-self: flex-end;width: 50%;}#sk-container-id-3 div.sk-parallel-item:last-child::after {align-self: flex-start;width: 50%;}#sk-container-id-3 div.sk-parallel-item:only-child::after {width: 0;}#sk-container-id-3 div.sk-dashed-wrapped {border: 1px dashed gray;margin: 0 0.4em 0.5em 0.4em;box-sizing: border-box;padding-bottom: 0.4em;background-color: white;}#sk-container-id-3 div.sk-label label {font-family: monospace;font-weight: bold;display: inline-block;line-height: 1.2em;}#sk-container-id-3 div.sk-label-container {text-align: center;}#sk-container-id-3 div.sk-container {/* jupyter's `normalize.less` sets `[hidden] { display: none; }` but bootstrap.min.css set `[hidden] { display: none !important; }` so we also need the `!important` here to be able to override the default hidden behavior on the sphinx rendered scikit-learn.org. See: https://github.com/scikit-learn/scikit-learn/issues/21755 */display: inline-block !important;position: relative;}#sk-container-id-3 div.sk-text-repr-fallback {display: none;}</style><div id=\"sk-container-id-3\" class=\"sk-top-container\"><div class=\"sk-text-repr-fallback\"><pre>DecisionTreeClassifier()</pre><b>In a Jupyter environment, please rerun this cell to show the HTML representation or trust the notebook. <br />On GitHub, the HTML representation is unable to render, please try loading this page with nbviewer.org.</b></div><div class=\"sk-container\" hidden><div class=\"sk-item\"><div class=\"sk-estimator sk-toggleable\"><input class=\"sk-toggleable__control sk-hidden--visually\" id=\"sk-estimator-id-3\" type=\"checkbox\" checked><label for=\"sk-estimator-id-3\" class=\"sk-toggleable__label sk-toggleable__label-arrow\">DecisionTreeClassifier</label><div class=\"sk-toggleable__content\"><pre>DecisionTreeClassifier()</pre></div></div></div></div></div>"
      ],
      "text/plain": [
       "DecisionTreeClassifier()"
      ]
     },
     "execution_count": 26,
     "metadata": {},
     "output_type": "execute_result"
    }
   ],
   "source": [
    "model_DTC = DecisionTreeClassifier()\n",
    "model_DTC.fit(X_train,y_train)"
   ]
  },
  {
   "cell_type": "code",
   "execution_count": 27,
   "id": "b2dafdc3",
   "metadata": {},
   "outputs": [
    {
     "data": {
      "text/plain": [
       "0.5879112018920662"
      ]
     },
     "execution_count": 27,
     "metadata": {},
     "output_type": "execute_result"
    }
   ],
   "source": [
    "res = model_DTC.predict(X_test)\n",
    "model_DTC.score(X_test,y_test)"
   ]
  },
  {
   "cell_type": "code",
   "execution_count": 28,
   "id": "9171ff08",
   "metadata": {
    "scrolled": true
   },
   "outputs": [
    {
     "name": "stdout",
     "output_type": "stream",
     "text": [
      "              precision    recall  f1-score   support\n",
      "\n",
      "         0.0       0.59      0.59      0.59     74416\n",
      "         1.0       0.59      0.59      0.59     74416\n",
      "\n",
      "    accuracy                           0.59    148832\n",
      "   macro avg       0.59      0.59      0.59    148832\n",
      "weighted avg       0.59      0.59      0.59    148832\n",
      "\n"
     ]
    }
   ],
   "source": [
    "print(classification_report(y_test,res))"
   ]
  },
  {
   "cell_type": "markdown",
   "id": "bb4246e7",
   "metadata": {},
   "source": [
    "# XGBOOST with undersampling"
   ]
  },
  {
   "cell_type": "code",
   "execution_count": 29,
   "id": "65d2e01d",
   "metadata": {},
   "outputs": [
    {
     "data": {
      "text/html": [
       "<style>#sk-container-id-4 {color: black;background-color: white;}#sk-container-id-4 pre{padding: 0;}#sk-container-id-4 div.sk-toggleable {background-color: white;}#sk-container-id-4 label.sk-toggleable__label {cursor: pointer;display: block;width: 100%;margin-bottom: 0;padding: 0.3em;box-sizing: border-box;text-align: center;}#sk-container-id-4 label.sk-toggleable__label-arrow:before {content: \"▸\";float: left;margin-right: 0.25em;color: #696969;}#sk-container-id-4 label.sk-toggleable__label-arrow:hover:before {color: black;}#sk-container-id-4 div.sk-estimator:hover label.sk-toggleable__label-arrow:before {color: black;}#sk-container-id-4 div.sk-toggleable__content {max-height: 0;max-width: 0;overflow: hidden;text-align: left;background-color: #f0f8ff;}#sk-container-id-4 div.sk-toggleable__content pre {margin: 0.2em;color: black;border-radius: 0.25em;background-color: #f0f8ff;}#sk-container-id-4 input.sk-toggleable__control:checked~div.sk-toggleable__content {max-height: 200px;max-width: 100%;overflow: auto;}#sk-container-id-4 input.sk-toggleable__control:checked~label.sk-toggleable__label-arrow:before {content: \"▾\";}#sk-container-id-4 div.sk-estimator input.sk-toggleable__control:checked~label.sk-toggleable__label {background-color: #d4ebff;}#sk-container-id-4 div.sk-label input.sk-toggleable__control:checked~label.sk-toggleable__label {background-color: #d4ebff;}#sk-container-id-4 input.sk-hidden--visually {border: 0;clip: rect(1px 1px 1px 1px);clip: rect(1px, 1px, 1px, 1px);height: 1px;margin: -1px;overflow: hidden;padding: 0;position: absolute;width: 1px;}#sk-container-id-4 div.sk-estimator {font-family: monospace;background-color: #f0f8ff;border: 1px dotted black;border-radius: 0.25em;box-sizing: border-box;margin-bottom: 0.5em;}#sk-container-id-4 div.sk-estimator:hover {background-color: #d4ebff;}#sk-container-id-4 div.sk-parallel-item::after {content: \"\";width: 100%;border-bottom: 1px solid gray;flex-grow: 1;}#sk-container-id-4 div.sk-label:hover label.sk-toggleable__label {background-color: #d4ebff;}#sk-container-id-4 div.sk-serial::before {content: \"\";position: absolute;border-left: 1px solid gray;box-sizing: border-box;top: 0;bottom: 0;left: 50%;z-index: 0;}#sk-container-id-4 div.sk-serial {display: flex;flex-direction: column;align-items: center;background-color: white;padding-right: 0.2em;padding-left: 0.2em;position: relative;}#sk-container-id-4 div.sk-item {position: relative;z-index: 1;}#sk-container-id-4 div.sk-parallel {display: flex;align-items: stretch;justify-content: center;background-color: white;position: relative;}#sk-container-id-4 div.sk-item::before, #sk-container-id-4 div.sk-parallel-item::before {content: \"\";position: absolute;border-left: 1px solid gray;box-sizing: border-box;top: 0;bottom: 0;left: 50%;z-index: -1;}#sk-container-id-4 div.sk-parallel-item {display: flex;flex-direction: column;z-index: 1;position: relative;background-color: white;}#sk-container-id-4 div.sk-parallel-item:first-child::after {align-self: flex-end;width: 50%;}#sk-container-id-4 div.sk-parallel-item:last-child::after {align-self: flex-start;width: 50%;}#sk-container-id-4 div.sk-parallel-item:only-child::after {width: 0;}#sk-container-id-4 div.sk-dashed-wrapped {border: 1px dashed gray;margin: 0 0.4em 0.5em 0.4em;box-sizing: border-box;padding-bottom: 0.4em;background-color: white;}#sk-container-id-4 div.sk-label label {font-family: monospace;font-weight: bold;display: inline-block;line-height: 1.2em;}#sk-container-id-4 div.sk-label-container {text-align: center;}#sk-container-id-4 div.sk-container {/* jupyter's `normalize.less` sets `[hidden] { display: none; }` but bootstrap.min.css set `[hidden] { display: none !important; }` so we also need the `!important` here to be able to override the default hidden behavior on the sphinx rendered scikit-learn.org. See: https://github.com/scikit-learn/scikit-learn/issues/21755 */display: inline-block !important;position: relative;}#sk-container-id-4 div.sk-text-repr-fallback {display: none;}</style><div id=\"sk-container-id-4\" class=\"sk-top-container\"><div class=\"sk-text-repr-fallback\"><pre>XGBClassifier(base_score=None, booster=None, callbacks=None,\n",
       "              colsample_bylevel=None, colsample_bynode=None,\n",
       "              colsample_bytree=None, early_stopping_rounds=None,\n",
       "              enable_categorical=False, eval_metric=None, feature_types=None,\n",
       "              gamma=None, gpu_id=None, grow_policy=None, importance_type=None,\n",
       "              interaction_constraints=None, learning_rate=None, max_bin=None,\n",
       "              max_cat_threshold=None, max_cat_to_onehot=None,\n",
       "              max_delta_step=None, max_depth=None, max_leaves=None,\n",
       "              min_child_weight=None, missing=nan, monotone_constraints=None,\n",
       "              n_estimators=150, n_jobs=None, num_parallel_tree=None,\n",
       "              predictor=None, random_state=None, ...)</pre><b>In a Jupyter environment, please rerun this cell to show the HTML representation or trust the notebook. <br />On GitHub, the HTML representation is unable to render, please try loading this page with nbviewer.org.</b></div><div class=\"sk-container\" hidden><div class=\"sk-item\"><div class=\"sk-estimator sk-toggleable\"><input class=\"sk-toggleable__control sk-hidden--visually\" id=\"sk-estimator-id-4\" type=\"checkbox\" checked><label for=\"sk-estimator-id-4\" class=\"sk-toggleable__label sk-toggleable__label-arrow\">XGBClassifier</label><div class=\"sk-toggleable__content\"><pre>XGBClassifier(base_score=None, booster=None, callbacks=None,\n",
       "              colsample_bylevel=None, colsample_bynode=None,\n",
       "              colsample_bytree=None, early_stopping_rounds=None,\n",
       "              enable_categorical=False, eval_metric=None, feature_types=None,\n",
       "              gamma=None, gpu_id=None, grow_policy=None, importance_type=None,\n",
       "              interaction_constraints=None, learning_rate=None, max_bin=None,\n",
       "              max_cat_threshold=None, max_cat_to_onehot=None,\n",
       "              max_delta_step=None, max_depth=None, max_leaves=None,\n",
       "              min_child_weight=None, missing=nan, monotone_constraints=None,\n",
       "              n_estimators=150, n_jobs=None, num_parallel_tree=None,\n",
       "              predictor=None, random_state=None, ...)</pre></div></div></div></div></div>"
      ],
      "text/plain": [
       "XGBClassifier(base_score=None, booster=None, callbacks=None,\n",
       "              colsample_bylevel=None, colsample_bynode=None,\n",
       "              colsample_bytree=None, early_stopping_rounds=None,\n",
       "              enable_categorical=False, eval_metric=None, feature_types=None,\n",
       "              gamma=None, gpu_id=None, grow_policy=None, importance_type=None,\n",
       "              interaction_constraints=None, learning_rate=None, max_bin=None,\n",
       "              max_cat_threshold=None, max_cat_to_onehot=None,\n",
       "              max_delta_step=None, max_depth=None, max_leaves=None,\n",
       "              min_child_weight=None, missing=nan, monotone_constraints=None,\n",
       "              n_estimators=150, n_jobs=None, num_parallel_tree=None,\n",
       "              predictor=None, random_state=None, ...)"
      ]
     },
     "execution_count": 29,
     "metadata": {},
     "output_type": "execute_result"
    }
   ],
   "source": [
    "model_XG = XGBClassifier(n_estimators=150)\n",
    "model_XG.fit(X_train,y_train)"
   ]
  },
  {
   "cell_type": "code",
   "execution_count": 30,
   "id": "a1f28a50",
   "metadata": {},
   "outputs": [
    {
     "name": "stdout",
     "output_type": "stream",
     "text": [
      "              precision    recall  f1-score   support\n",
      "\n",
      "         0.0       0.66      0.66      0.66     74416\n",
      "         1.0       0.66      0.66      0.66     74416\n",
      "\n",
      "    accuracy                           0.66    148832\n",
      "   macro avg       0.66      0.66      0.66    148832\n",
      "weighted avg       0.66      0.66      0.66    148832\n",
      "\n"
     ]
    }
   ],
   "source": [
    "res = model_XG.predict(X_test)\n",
    "print(classification_report(y_test,res))"
   ]
  },
  {
   "cell_type": "code",
   "execution_count": 31,
   "id": "13610dae",
   "metadata": {},
   "outputs": [
    {
     "data": {
      "text/plain": [
       "0.6582791335196732"
      ]
     },
     "execution_count": 31,
     "metadata": {},
     "output_type": "execute_result"
    }
   ],
   "source": [
    "model_XG.score(X_test,y_test)"
   ]
  },
  {
   "cell_type": "markdown",
   "id": "face02e1",
   "metadata": {},
   "source": [
    "# ExtraTreesClassifier with undersampling"
   ]
  },
  {
   "cell_type": "code",
   "execution_count": 32,
   "id": "cc61098d",
   "metadata": {},
   "outputs": [
    {
     "data": {
      "text/html": [
       "<style>#sk-container-id-5 {color: black;background-color: white;}#sk-container-id-5 pre{padding: 0;}#sk-container-id-5 div.sk-toggleable {background-color: white;}#sk-container-id-5 label.sk-toggleable__label {cursor: pointer;display: block;width: 100%;margin-bottom: 0;padding: 0.3em;box-sizing: border-box;text-align: center;}#sk-container-id-5 label.sk-toggleable__label-arrow:before {content: \"▸\";float: left;margin-right: 0.25em;color: #696969;}#sk-container-id-5 label.sk-toggleable__label-arrow:hover:before {color: black;}#sk-container-id-5 div.sk-estimator:hover label.sk-toggleable__label-arrow:before {color: black;}#sk-container-id-5 div.sk-toggleable__content {max-height: 0;max-width: 0;overflow: hidden;text-align: left;background-color: #f0f8ff;}#sk-container-id-5 div.sk-toggleable__content pre {margin: 0.2em;color: black;border-radius: 0.25em;background-color: #f0f8ff;}#sk-container-id-5 input.sk-toggleable__control:checked~div.sk-toggleable__content {max-height: 200px;max-width: 100%;overflow: auto;}#sk-container-id-5 input.sk-toggleable__control:checked~label.sk-toggleable__label-arrow:before {content: \"▾\";}#sk-container-id-5 div.sk-estimator input.sk-toggleable__control:checked~label.sk-toggleable__label {background-color: #d4ebff;}#sk-container-id-5 div.sk-label input.sk-toggleable__control:checked~label.sk-toggleable__label {background-color: #d4ebff;}#sk-container-id-5 input.sk-hidden--visually {border: 0;clip: rect(1px 1px 1px 1px);clip: rect(1px, 1px, 1px, 1px);height: 1px;margin: -1px;overflow: hidden;padding: 0;position: absolute;width: 1px;}#sk-container-id-5 div.sk-estimator {font-family: monospace;background-color: #f0f8ff;border: 1px dotted black;border-radius: 0.25em;box-sizing: border-box;margin-bottom: 0.5em;}#sk-container-id-5 div.sk-estimator:hover {background-color: #d4ebff;}#sk-container-id-5 div.sk-parallel-item::after {content: \"\";width: 100%;border-bottom: 1px solid gray;flex-grow: 1;}#sk-container-id-5 div.sk-label:hover label.sk-toggleable__label {background-color: #d4ebff;}#sk-container-id-5 div.sk-serial::before {content: \"\";position: absolute;border-left: 1px solid gray;box-sizing: border-box;top: 0;bottom: 0;left: 50%;z-index: 0;}#sk-container-id-5 div.sk-serial {display: flex;flex-direction: column;align-items: center;background-color: white;padding-right: 0.2em;padding-left: 0.2em;position: relative;}#sk-container-id-5 div.sk-item {position: relative;z-index: 1;}#sk-container-id-5 div.sk-parallel {display: flex;align-items: stretch;justify-content: center;background-color: white;position: relative;}#sk-container-id-5 div.sk-item::before, #sk-container-id-5 div.sk-parallel-item::before {content: \"\";position: absolute;border-left: 1px solid gray;box-sizing: border-box;top: 0;bottom: 0;left: 50%;z-index: -1;}#sk-container-id-5 div.sk-parallel-item {display: flex;flex-direction: column;z-index: 1;position: relative;background-color: white;}#sk-container-id-5 div.sk-parallel-item:first-child::after {align-self: flex-end;width: 50%;}#sk-container-id-5 div.sk-parallel-item:last-child::after {align-self: flex-start;width: 50%;}#sk-container-id-5 div.sk-parallel-item:only-child::after {width: 0;}#sk-container-id-5 div.sk-dashed-wrapped {border: 1px dashed gray;margin: 0 0.4em 0.5em 0.4em;box-sizing: border-box;padding-bottom: 0.4em;background-color: white;}#sk-container-id-5 div.sk-label label {font-family: monospace;font-weight: bold;display: inline-block;line-height: 1.2em;}#sk-container-id-5 div.sk-label-container {text-align: center;}#sk-container-id-5 div.sk-container {/* jupyter's `normalize.less` sets `[hidden] { display: none; }` but bootstrap.min.css set `[hidden] { display: none !important; }` so we also need the `!important` here to be able to override the default hidden behavior on the sphinx rendered scikit-learn.org. See: https://github.com/scikit-learn/scikit-learn/issues/21755 */display: inline-block !important;position: relative;}#sk-container-id-5 div.sk-text-repr-fallback {display: none;}</style><div id=\"sk-container-id-5\" class=\"sk-top-container\"><div class=\"sk-text-repr-fallback\"><pre>ExtraTreesClassifier()</pre><b>In a Jupyter environment, please rerun this cell to show the HTML representation or trust the notebook. <br />On GitHub, the HTML representation is unable to render, please try loading this page with nbviewer.org.</b></div><div class=\"sk-container\" hidden><div class=\"sk-item\"><div class=\"sk-estimator sk-toggleable\"><input class=\"sk-toggleable__control sk-hidden--visually\" id=\"sk-estimator-id-5\" type=\"checkbox\" checked><label for=\"sk-estimator-id-5\" class=\"sk-toggleable__label sk-toggleable__label-arrow\">ExtraTreesClassifier</label><div class=\"sk-toggleable__content\"><pre>ExtraTreesClassifier()</pre></div></div></div></div></div>"
      ],
      "text/plain": [
       "ExtraTreesClassifier()"
      ]
     },
     "execution_count": 32,
     "metadata": {},
     "output_type": "execute_result"
    }
   ],
   "source": [
    "model_ETC = ExtraTreesClassifier()\n",
    "model_ETC.fit(X_train,y_train)"
   ]
  },
  {
   "cell_type": "code",
   "execution_count": 33,
   "id": "2e231712",
   "metadata": {},
   "outputs": [
    {
     "name": "stdout",
     "output_type": "stream",
     "text": [
      "              precision    recall  f1-score   support\n",
      "\n",
      "         0.0       0.62      0.65      0.64     74416\n",
      "         1.0       0.63      0.61      0.62     74416\n",
      "\n",
      "    accuracy                           0.63    148832\n",
      "   macro avg       0.63      0.63      0.63    148832\n",
      "weighted avg       0.63      0.63      0.63    148832\n",
      "\n"
     ]
    }
   ],
   "source": [
    "res = model_ETC.predict(X_test)\n",
    "print(classification_report(y_test,res))"
   ]
  },
  {
   "cell_type": "code",
   "execution_count": 34,
   "id": "66548610",
   "metadata": {},
   "outputs": [
    {
     "data": {
      "text/plain": [
       "0.627627123199312"
      ]
     },
     "execution_count": 34,
     "metadata": {},
     "output_type": "execute_result"
    }
   ],
   "source": [
    "model_ETC.score(X_test,y_test)"
   ]
  },
  {
   "cell_type": "markdown",
   "id": "f8c4db0f",
   "metadata": {},
   "source": [
    "# Best model - RandomForest with SMOTE"
   ]
  },
  {
   "cell_type": "code",
   "execution_count": 27,
   "id": "9409e554",
   "metadata": {},
   "outputs": [
    {
     "data": {
      "text/html": [
       "<div>\n",
       "<style scoped>\n",
       "    .dataframe tbody tr th:only-of-type {\n",
       "        vertical-align: middle;\n",
       "    }\n",
       "\n",
       "    .dataframe tbody tr th {\n",
       "        vertical-align: top;\n",
       "    }\n",
       "\n",
       "    .dataframe thead th {\n",
       "        text-align: right;\n",
       "    }\n",
       "</style>\n",
       "<table border=\"1\" class=\"dataframe\">\n",
       "  <thead>\n",
       "    <tr style=\"text-align: right;\">\n",
       "      <th></th>\n",
       "      <th>Year</th>\n",
       "      <th>Quarter</th>\n",
       "      <th>Month</th>\n",
       "      <th>DayofMonth</th>\n",
       "      <th>FlightDate</th>\n",
       "      <th>OriginAirportID</th>\n",
       "      <th>Origin</th>\n",
       "      <th>DestAirportID</th>\n",
       "      <th>Dest</th>\n",
       "      <th>CRSDepTime</th>\n",
       "      <th>...</th>\n",
       "      <th>pressure</th>\n",
       "      <th>WindGustKmph</th>\n",
       "      <th>visibility</th>\n",
       "      <th>weatherCode</th>\n",
       "      <th>tempF</th>\n",
       "      <th>WindChillF</th>\n",
       "      <th>winddirDegree</th>\n",
       "      <th>humidity</th>\n",
       "      <th>date</th>\n",
       "      <th>airport</th>\n",
       "    </tr>\n",
       "  </thead>\n",
       "  <tbody>\n",
       "    <tr>\n",
       "      <th>0</th>\n",
       "      <td>2017</td>\n",
       "      <td>3</td>\n",
       "      <td>9</td>\n",
       "      <td>25</td>\n",
       "      <td>2017-09-25</td>\n",
       "      <td>12478</td>\n",
       "      <td>JFK</td>\n",
       "      <td>13204</td>\n",
       "      <td>MCO</td>\n",
       "      <td>1346</td>\n",
       "      <td>...</td>\n",
       "      <td>1017</td>\n",
       "      <td>14</td>\n",
       "      <td>10</td>\n",
       "      <td>116</td>\n",
       "      <td>76</td>\n",
       "      <td>76</td>\n",
       "      <td>117</td>\n",
       "      <td>74</td>\n",
       "      <td>2017-09-25</td>\n",
       "      <td>JFK</td>\n",
       "    </tr>\n",
       "    <tr>\n",
       "      <th>1</th>\n",
       "      <td>2017</td>\n",
       "      <td>3</td>\n",
       "      <td>9</td>\n",
       "      <td>25</td>\n",
       "      <td>2017-09-25</td>\n",
       "      <td>12478</td>\n",
       "      <td>JFK</td>\n",
       "      <td>13930</td>\n",
       "      <td>ORD</td>\n",
       "      <td>902</td>\n",
       "      <td>...</td>\n",
       "      <td>1018</td>\n",
       "      <td>8</td>\n",
       "      <td>10</td>\n",
       "      <td>116</td>\n",
       "      <td>70</td>\n",
       "      <td>70</td>\n",
       "      <td>145</td>\n",
       "      <td>90</td>\n",
       "      <td>2017-09-25</td>\n",
       "      <td>JFK</td>\n",
       "    </tr>\n",
       "    <tr>\n",
       "      <th>2</th>\n",
       "      <td>2017</td>\n",
       "      <td>3</td>\n",
       "      <td>9</td>\n",
       "      <td>25</td>\n",
       "      <td>2017-09-25</td>\n",
       "      <td>13930</td>\n",
       "      <td>ORD</td>\n",
       "      <td>12478</td>\n",
       "      <td>JFK</td>\n",
       "      <td>2044</td>\n",
       "      <td>...</td>\n",
       "      <td>1013</td>\n",
       "      <td>12</td>\n",
       "      <td>10</td>\n",
       "      <td>113</td>\n",
       "      <td>85</td>\n",
       "      <td>85</td>\n",
       "      <td>151</td>\n",
       "      <td>48</td>\n",
       "      <td>2017-09-25</td>\n",
       "      <td>ORD</td>\n",
       "    </tr>\n",
       "    <tr>\n",
       "      <th>3</th>\n",
       "      <td>2017</td>\n",
       "      <td>3</td>\n",
       "      <td>9</td>\n",
       "      <td>25</td>\n",
       "      <td>2017-09-25</td>\n",
       "      <td>11057</td>\n",
       "      <td>CLT</td>\n",
       "      <td>12478</td>\n",
       "      <td>JFK</td>\n",
       "      <td>1952</td>\n",
       "      <td>...</td>\n",
       "      <td>1013</td>\n",
       "      <td>18</td>\n",
       "      <td>10</td>\n",
       "      <td>116</td>\n",
       "      <td>80</td>\n",
       "      <td>80</td>\n",
       "      <td>41</td>\n",
       "      <td>59</td>\n",
       "      <td>2017-09-25</td>\n",
       "      <td>CLT</td>\n",
       "    </tr>\n",
       "    <tr>\n",
       "      <th>4</th>\n",
       "      <td>2017</td>\n",
       "      <td>3</td>\n",
       "      <td>9</td>\n",
       "      <td>25</td>\n",
       "      <td>2017-09-25</td>\n",
       "      <td>12478</td>\n",
       "      <td>JFK</td>\n",
       "      <td>11057</td>\n",
       "      <td>CLT</td>\n",
       "      <td>1658</td>\n",
       "      <td>...</td>\n",
       "      <td>1017</td>\n",
       "      <td>17</td>\n",
       "      <td>10</td>\n",
       "      <td>143</td>\n",
       "      <td>72</td>\n",
       "      <td>72</td>\n",
       "      <td>134</td>\n",
       "      <td>82</td>\n",
       "      <td>2017-09-25</td>\n",
       "      <td>JFK</td>\n",
       "    </tr>\n",
       "    <tr>\n",
       "      <th>...</th>\n",
       "      <td>...</td>\n",
       "      <td>...</td>\n",
       "      <td>...</td>\n",
       "      <td>...</td>\n",
       "      <td>...</td>\n",
       "      <td>...</td>\n",
       "      <td>...</td>\n",
       "      <td>...</td>\n",
       "      <td>...</td>\n",
       "      <td>...</td>\n",
       "      <td>...</td>\n",
       "      <td>...</td>\n",
       "      <td>...</td>\n",
       "      <td>...</td>\n",
       "      <td>...</td>\n",
       "      <td>...</td>\n",
       "      <td>...</td>\n",
       "      <td>...</td>\n",
       "      <td>...</td>\n",
       "      <td>...</td>\n",
       "      <td>...</td>\n",
       "    </tr>\n",
       "    <tr>\n",
       "      <th>1877291</th>\n",
       "      <td>2016</td>\n",
       "      <td>1</td>\n",
       "      <td>1</td>\n",
       "      <td>3</td>\n",
       "      <td>2016-01-03</td>\n",
       "      <td>13204</td>\n",
       "      <td>MCO</td>\n",
       "      <td>13930</td>\n",
       "      <td>ORD</td>\n",
       "      <td>1130</td>\n",
       "      <td>...</td>\n",
       "      <td>1017</td>\n",
       "      <td>20</td>\n",
       "      <td>6</td>\n",
       "      <td>302</td>\n",
       "      <td>61</td>\n",
       "      <td>60</td>\n",
       "      <td>331</td>\n",
       "      <td>87</td>\n",
       "      <td>2016-01-03</td>\n",
       "      <td>MCO</td>\n",
       "    </tr>\n",
       "    <tr>\n",
       "      <th>1877292</th>\n",
       "      <td>2016</td>\n",
       "      <td>1</td>\n",
       "      <td>1</td>\n",
       "      <td>3</td>\n",
       "      <td>2016-01-03</td>\n",
       "      <td>14107</td>\n",
       "      <td>PHX</td>\n",
       "      <td>11292</td>\n",
       "      <td>DEN</td>\n",
       "      <td>2110</td>\n",
       "      <td>...</td>\n",
       "      <td>1013</td>\n",
       "      <td>27</td>\n",
       "      <td>10</td>\n",
       "      <td>122</td>\n",
       "      <td>62</td>\n",
       "      <td>62</td>\n",
       "      <td>76</td>\n",
       "      <td>42</td>\n",
       "      <td>2016-01-03</td>\n",
       "      <td>PHX</td>\n",
       "    </tr>\n",
       "    <tr>\n",
       "      <th>1877293</th>\n",
       "      <td>2016</td>\n",
       "      <td>1</td>\n",
       "      <td>1</td>\n",
       "      <td>3</td>\n",
       "      <td>2016-01-03</td>\n",
       "      <td>11292</td>\n",
       "      <td>DEN</td>\n",
       "      <td>14107</td>\n",
       "      <td>PHX</td>\n",
       "      <td>1830</td>\n",
       "      <td>...</td>\n",
       "      <td>1029</td>\n",
       "      <td>8</td>\n",
       "      <td>0</td>\n",
       "      <td>260</td>\n",
       "      <td>26</td>\n",
       "      <td>24</td>\n",
       "      <td>158</td>\n",
       "      <td>100</td>\n",
       "      <td>2016-01-03</td>\n",
       "      <td>DEN</td>\n",
       "    </tr>\n",
       "    <tr>\n",
       "      <th>1877294</th>\n",
       "      <td>2016</td>\n",
       "      <td>1</td>\n",
       "      <td>1</td>\n",
       "      <td>3</td>\n",
       "      <td>2016-01-03</td>\n",
       "      <td>13930</td>\n",
       "      <td>ORD</td>\n",
       "      <td>13204</td>\n",
       "      <td>MCO</td>\n",
       "      <td>925</td>\n",
       "      <td>...</td>\n",
       "      <td>1022</td>\n",
       "      <td>28</td>\n",
       "      <td>10</td>\n",
       "      <td>122</td>\n",
       "      <td>24</td>\n",
       "      <td>12</td>\n",
       "      <td>333</td>\n",
       "      <td>89</td>\n",
       "      <td>2016-01-03</td>\n",
       "      <td>ORD</td>\n",
       "    </tr>\n",
       "    <tr>\n",
       "      <th>1877295</th>\n",
       "      <td>2016</td>\n",
       "      <td>1</td>\n",
       "      <td>1</td>\n",
       "      <td>3</td>\n",
       "      <td>2016-01-03</td>\n",
       "      <td>13204</td>\n",
       "      <td>MCO</td>\n",
       "      <td>13930</td>\n",
       "      <td>ORD</td>\n",
       "      <td>630</td>\n",
       "      <td>...</td>\n",
       "      <td>1016</td>\n",
       "      <td>23</td>\n",
       "      <td>7</td>\n",
       "      <td>122</td>\n",
       "      <td>64</td>\n",
       "      <td>64</td>\n",
       "      <td>344</td>\n",
       "      <td>82</td>\n",
       "      <td>2016-01-03</td>\n",
       "      <td>MCO</td>\n",
       "    </tr>\n",
       "  </tbody>\n",
       "</table>\n",
       "<p>1851436 rows × 32 columns</p>\n",
       "</div>"
      ],
      "text/plain": [
       "         Year  Quarter  Month  DayofMonth  FlightDate  OriginAirportID Origin  \\\n",
       "0        2017        3      9          25  2017-09-25            12478    JFK   \n",
       "1        2017        3      9          25  2017-09-25            12478    JFK   \n",
       "2        2017        3      9          25  2017-09-25            13930    ORD   \n",
       "3        2017        3      9          25  2017-09-25            11057    CLT   \n",
       "4        2017        3      9          25  2017-09-25            12478    JFK   \n",
       "...       ...      ...    ...         ...         ...              ...    ...   \n",
       "1877291  2016        1      1           3  2016-01-03            13204    MCO   \n",
       "1877292  2016        1      1           3  2016-01-03            14107    PHX   \n",
       "1877293  2016        1      1           3  2016-01-03            11292    DEN   \n",
       "1877294  2016        1      1           3  2016-01-03            13930    ORD   \n",
       "1877295  2016        1      1           3  2016-01-03            13204    MCO   \n",
       "\n",
       "         DestAirportID Dest  CRSDepTime  ...  pressure  WindGustKmph  \\\n",
       "0                13204  MCO        1346  ...      1017            14   \n",
       "1                13930  ORD         902  ...      1018             8   \n",
       "2                12478  JFK        2044  ...      1013            12   \n",
       "3                12478  JFK        1952  ...      1013            18   \n",
       "4                11057  CLT        1658  ...      1017            17   \n",
       "...                ...  ...         ...  ...       ...           ...   \n",
       "1877291          13930  ORD        1130  ...      1017            20   \n",
       "1877292          11292  DEN        2110  ...      1013            27   \n",
       "1877293          14107  PHX        1830  ...      1029             8   \n",
       "1877294          13204  MCO         925  ...      1022            28   \n",
       "1877295          13930  ORD         630  ...      1016            23   \n",
       "\n",
       "         visibility  weatherCode  tempF  WindChillF  winddirDegree  humidity  \\\n",
       "0                10          116     76          76            117        74   \n",
       "1                10          116     70          70            145        90   \n",
       "2                10          113     85          85            151        48   \n",
       "3                10          116     80          80             41        59   \n",
       "4                10          143     72          72            134        82   \n",
       "...             ...          ...    ...         ...            ...       ...   \n",
       "1877291           6          302     61          60            331        87   \n",
       "1877292          10          122     62          62             76        42   \n",
       "1877293           0          260     26          24            158       100   \n",
       "1877294          10          122     24          12            333        89   \n",
       "1877295           7          122     64          64            344        82   \n",
       "\n",
       "               date  airport  \n",
       "0        2017-09-25      JFK  \n",
       "1        2017-09-25      JFK  \n",
       "2        2017-09-25      ORD  \n",
       "3        2017-09-25      CLT  \n",
       "4        2017-09-25      JFK  \n",
       "...             ...      ...  \n",
       "1877291  2016-01-03      MCO  \n",
       "1877292  2016-01-03      PHX  \n",
       "1877293  2016-01-03      DEN  \n",
       "1877294  2016-01-03      ORD  \n",
       "1877295  2016-01-03      MCO  \n",
       "\n",
       "[1851436 rows x 32 columns]"
      ]
     },
     "execution_count": 27,
     "metadata": {},
     "output_type": "execute_result"
    }
   ],
   "source": [
    "df2 = pd.read_csv('./Weather dataset/final_merged.csv')\n",
    "df2 = df2.drop(['Unnamed: 0'] , axis=1)\n",
    "df2=df2.dropna()\n",
    "df2"
   ]
  },
  {
   "cell_type": "code",
   "execution_count": 28,
   "id": "5f1b3c3b",
   "metadata": {},
   "outputs": [],
   "source": [
    "df2 = df2.drop(['FlightDate','Origin','Dest','time','date','airport','ArrTime','ArrDel15','ArrDelayMinutes',\n",
    "       'DepTime'],axis=1)"
   ]
  },
  {
   "cell_type": "code",
   "execution_count": 29,
   "id": "d642cd59",
   "metadata": {},
   "outputs": [],
   "source": [
    "df2 = df2.drop(['Quarter','WindGustKmph','WindChillF','DepDelayMinutes'],axis=1)"
   ]
  },
  {
   "cell_type": "code",
   "execution_count": 30,
   "id": "2b11fd3c",
   "metadata": {},
   "outputs": [],
   "source": [
    "X_c = df2.drop('DepDel15',axis=1)\n",
    "y_c = df2['DepDel15']"
   ]
  },
  {
   "cell_type": "code",
   "execution_count": 25,
   "id": "509efb1c",
   "metadata": {
    "collapsed": true
   },
   "outputs": [
    {
     "ename": "KeyboardInterrupt",
     "evalue": "",
     "output_type": "error",
     "traceback": [
      "\u001b[1;31m---------------------------------------------------------------------------\u001b[0m",
      "\u001b[1;31mKeyboardInterrupt\u001b[0m                         Traceback (most recent call last)",
      "\u001b[1;32m~\\AppData\\Local\\Temp\\ipykernel_16124\\4029031163.py\u001b[0m in \u001b[0;36m<module>\u001b[1;34m\u001b[0m\n\u001b[0;32m      1\u001b[0m \u001b[0mmodel_RFC\u001b[0m \u001b[1;33m=\u001b[0m \u001b[0mRandomForestClassifier\u001b[0m\u001b[1;33m(\u001b[0m\u001b[1;33m)\u001b[0m\u001b[1;33m\u001b[0m\u001b[1;33m\u001b[0m\u001b[0m\n\u001b[1;32m----> 2\u001b[1;33m \u001b[0mmodel_RFC\u001b[0m\u001b[1;33m.\u001b[0m\u001b[0mfit\u001b[0m\u001b[1;33m(\u001b[0m\u001b[0mX_train\u001b[0m\u001b[1;33m,\u001b[0m\u001b[0my_train\u001b[0m\u001b[1;33m)\u001b[0m\u001b[1;33m\u001b[0m\u001b[1;33m\u001b[0m\u001b[0m\n\u001b[0m",
      "\u001b[1;32m~\\anaconda3\\envs\\ML\\lib\\site-packages\\sklearn\\ensemble\\_forest.py\u001b[0m in \u001b[0;36mfit\u001b[1;34m(self, X, y, sample_weight)\u001b[0m\n\u001b[0;32m    471\u001b[0m             \u001b[1;31m# parallel_backend contexts set at a higher level,\u001b[0m\u001b[1;33m\u001b[0m\u001b[1;33m\u001b[0m\u001b[0m\n\u001b[0;32m    472\u001b[0m             \u001b[1;31m# since correctness does not rely on using threads.\u001b[0m\u001b[1;33m\u001b[0m\u001b[1;33m\u001b[0m\u001b[0m\n\u001b[1;32m--> 473\u001b[1;33m             trees = Parallel(\n\u001b[0m\u001b[0;32m    474\u001b[0m                 \u001b[0mn_jobs\u001b[0m\u001b[1;33m=\u001b[0m\u001b[0mself\u001b[0m\u001b[1;33m.\u001b[0m\u001b[0mn_jobs\u001b[0m\u001b[1;33m,\u001b[0m\u001b[1;33m\u001b[0m\u001b[1;33m\u001b[0m\u001b[0m\n\u001b[0;32m    475\u001b[0m                 \u001b[0mverbose\u001b[0m\u001b[1;33m=\u001b[0m\u001b[0mself\u001b[0m\u001b[1;33m.\u001b[0m\u001b[0mverbose\u001b[0m\u001b[1;33m,\u001b[0m\u001b[1;33m\u001b[0m\u001b[1;33m\u001b[0m\u001b[0m\n",
      "\u001b[1;32m~\\anaconda3\\envs\\ML\\lib\\site-packages\\sklearn\\utils\\parallel.py\u001b[0m in \u001b[0;36m__call__\u001b[1;34m(self, iterable)\u001b[0m\n\u001b[0;32m     61\u001b[0m             \u001b[1;32mfor\u001b[0m \u001b[0mdelayed_func\u001b[0m\u001b[1;33m,\u001b[0m \u001b[0margs\u001b[0m\u001b[1;33m,\u001b[0m \u001b[0mkwargs\u001b[0m \u001b[1;32min\u001b[0m \u001b[0miterable\u001b[0m\u001b[1;33m\u001b[0m\u001b[1;33m\u001b[0m\u001b[0m\n\u001b[0;32m     62\u001b[0m         )\n\u001b[1;32m---> 63\u001b[1;33m         \u001b[1;32mreturn\u001b[0m \u001b[0msuper\u001b[0m\u001b[1;33m(\u001b[0m\u001b[1;33m)\u001b[0m\u001b[1;33m.\u001b[0m\u001b[0m__call__\u001b[0m\u001b[1;33m(\u001b[0m\u001b[0miterable_with_config\u001b[0m\u001b[1;33m)\u001b[0m\u001b[1;33m\u001b[0m\u001b[1;33m\u001b[0m\u001b[0m\n\u001b[0m\u001b[0;32m     64\u001b[0m \u001b[1;33m\u001b[0m\u001b[0m\n\u001b[0;32m     65\u001b[0m \u001b[1;33m\u001b[0m\u001b[0m\n",
      "\u001b[1;32m~\\anaconda3\\envs\\ML\\lib\\site-packages\\joblib\\parallel.py\u001b[0m in \u001b[0;36m__call__\u001b[1;34m(self, iterable)\u001b[0m\n\u001b[0;32m   1086\u001b[0m                 \u001b[0mself\u001b[0m\u001b[1;33m.\u001b[0m\u001b[0m_iterating\u001b[0m \u001b[1;33m=\u001b[0m \u001b[0mself\u001b[0m\u001b[1;33m.\u001b[0m\u001b[0m_original_iterator\u001b[0m \u001b[1;32mis\u001b[0m \u001b[1;32mnot\u001b[0m \u001b[1;32mNone\u001b[0m\u001b[1;33m\u001b[0m\u001b[1;33m\u001b[0m\u001b[0m\n\u001b[0;32m   1087\u001b[0m \u001b[1;33m\u001b[0m\u001b[0m\n\u001b[1;32m-> 1088\u001b[1;33m             \u001b[1;32mwhile\u001b[0m \u001b[0mself\u001b[0m\u001b[1;33m.\u001b[0m\u001b[0mdispatch_one_batch\u001b[0m\u001b[1;33m(\u001b[0m\u001b[0miterator\u001b[0m\u001b[1;33m)\u001b[0m\u001b[1;33m:\u001b[0m\u001b[1;33m\u001b[0m\u001b[1;33m\u001b[0m\u001b[0m\n\u001b[0m\u001b[0;32m   1089\u001b[0m                 \u001b[1;32mpass\u001b[0m\u001b[1;33m\u001b[0m\u001b[1;33m\u001b[0m\u001b[0m\n\u001b[0;32m   1090\u001b[0m \u001b[1;33m\u001b[0m\u001b[0m\n",
      "\u001b[1;32m~\\anaconda3\\envs\\ML\\lib\\site-packages\\joblib\\parallel.py\u001b[0m in \u001b[0;36mdispatch_one_batch\u001b[1;34m(self, iterator)\u001b[0m\n\u001b[0;32m    899\u001b[0m                 \u001b[1;32mreturn\u001b[0m \u001b[1;32mFalse\u001b[0m\u001b[1;33m\u001b[0m\u001b[1;33m\u001b[0m\u001b[0m\n\u001b[0;32m    900\u001b[0m             \u001b[1;32melse\u001b[0m\u001b[1;33m:\u001b[0m\u001b[1;33m\u001b[0m\u001b[1;33m\u001b[0m\u001b[0m\n\u001b[1;32m--> 901\u001b[1;33m                 \u001b[0mself\u001b[0m\u001b[1;33m.\u001b[0m\u001b[0m_dispatch\u001b[0m\u001b[1;33m(\u001b[0m\u001b[0mtasks\u001b[0m\u001b[1;33m)\u001b[0m\u001b[1;33m\u001b[0m\u001b[1;33m\u001b[0m\u001b[0m\n\u001b[0m\u001b[0;32m    902\u001b[0m                 \u001b[1;32mreturn\u001b[0m \u001b[1;32mTrue\u001b[0m\u001b[1;33m\u001b[0m\u001b[1;33m\u001b[0m\u001b[0m\n\u001b[0;32m    903\u001b[0m \u001b[1;33m\u001b[0m\u001b[0m\n",
      "\u001b[1;32m~\\anaconda3\\envs\\ML\\lib\\site-packages\\joblib\\parallel.py\u001b[0m in \u001b[0;36m_dispatch\u001b[1;34m(self, batch)\u001b[0m\n\u001b[0;32m    817\u001b[0m         \u001b[1;32mwith\u001b[0m \u001b[0mself\u001b[0m\u001b[1;33m.\u001b[0m\u001b[0m_lock\u001b[0m\u001b[1;33m:\u001b[0m\u001b[1;33m\u001b[0m\u001b[1;33m\u001b[0m\u001b[0m\n\u001b[0;32m    818\u001b[0m             \u001b[0mjob_idx\u001b[0m \u001b[1;33m=\u001b[0m \u001b[0mlen\u001b[0m\u001b[1;33m(\u001b[0m\u001b[0mself\u001b[0m\u001b[1;33m.\u001b[0m\u001b[0m_jobs\u001b[0m\u001b[1;33m)\u001b[0m\u001b[1;33m\u001b[0m\u001b[1;33m\u001b[0m\u001b[0m\n\u001b[1;32m--> 819\u001b[1;33m             \u001b[0mjob\u001b[0m \u001b[1;33m=\u001b[0m \u001b[0mself\u001b[0m\u001b[1;33m.\u001b[0m\u001b[0m_backend\u001b[0m\u001b[1;33m.\u001b[0m\u001b[0mapply_async\u001b[0m\u001b[1;33m(\u001b[0m\u001b[0mbatch\u001b[0m\u001b[1;33m,\u001b[0m \u001b[0mcallback\u001b[0m\u001b[1;33m=\u001b[0m\u001b[0mcb\u001b[0m\u001b[1;33m)\u001b[0m\u001b[1;33m\u001b[0m\u001b[1;33m\u001b[0m\u001b[0m\n\u001b[0m\u001b[0;32m    820\u001b[0m             \u001b[1;31m# A job can complete so quickly than its callback is\u001b[0m\u001b[1;33m\u001b[0m\u001b[1;33m\u001b[0m\u001b[0m\n\u001b[0;32m    821\u001b[0m             \u001b[1;31m# called before we get here, causing self._jobs to\u001b[0m\u001b[1;33m\u001b[0m\u001b[1;33m\u001b[0m\u001b[0m\n",
      "\u001b[1;32m~\\anaconda3\\envs\\ML\\lib\\site-packages\\joblib\\_parallel_backends.py\u001b[0m in \u001b[0;36mapply_async\u001b[1;34m(self, func, callback)\u001b[0m\n\u001b[0;32m    206\u001b[0m     \u001b[1;32mdef\u001b[0m \u001b[0mapply_async\u001b[0m\u001b[1;33m(\u001b[0m\u001b[0mself\u001b[0m\u001b[1;33m,\u001b[0m \u001b[0mfunc\u001b[0m\u001b[1;33m,\u001b[0m \u001b[0mcallback\u001b[0m\u001b[1;33m=\u001b[0m\u001b[1;32mNone\u001b[0m\u001b[1;33m)\u001b[0m\u001b[1;33m:\u001b[0m\u001b[1;33m\u001b[0m\u001b[1;33m\u001b[0m\u001b[0m\n\u001b[0;32m    207\u001b[0m         \u001b[1;34m\"\"\"Schedule a func to be run\"\"\"\u001b[0m\u001b[1;33m\u001b[0m\u001b[1;33m\u001b[0m\u001b[0m\n\u001b[1;32m--> 208\u001b[1;33m         \u001b[0mresult\u001b[0m \u001b[1;33m=\u001b[0m \u001b[0mImmediateResult\u001b[0m\u001b[1;33m(\u001b[0m\u001b[0mfunc\u001b[0m\u001b[1;33m)\u001b[0m\u001b[1;33m\u001b[0m\u001b[1;33m\u001b[0m\u001b[0m\n\u001b[0m\u001b[0;32m    209\u001b[0m         \u001b[1;32mif\u001b[0m \u001b[0mcallback\u001b[0m\u001b[1;33m:\u001b[0m\u001b[1;33m\u001b[0m\u001b[1;33m\u001b[0m\u001b[0m\n\u001b[0;32m    210\u001b[0m             \u001b[0mcallback\u001b[0m\u001b[1;33m(\u001b[0m\u001b[0mresult\u001b[0m\u001b[1;33m)\u001b[0m\u001b[1;33m\u001b[0m\u001b[1;33m\u001b[0m\u001b[0m\n",
      "\u001b[1;32m~\\anaconda3\\envs\\ML\\lib\\site-packages\\joblib\\_parallel_backends.py\u001b[0m in \u001b[0;36m__init__\u001b[1;34m(self, batch)\u001b[0m\n\u001b[0;32m    595\u001b[0m         \u001b[1;31m# Don't delay the application, to avoid keeping the input\u001b[0m\u001b[1;33m\u001b[0m\u001b[1;33m\u001b[0m\u001b[0m\n\u001b[0;32m    596\u001b[0m         \u001b[1;31m# arguments in memory\u001b[0m\u001b[1;33m\u001b[0m\u001b[1;33m\u001b[0m\u001b[0m\n\u001b[1;32m--> 597\u001b[1;33m         \u001b[0mself\u001b[0m\u001b[1;33m.\u001b[0m\u001b[0mresults\u001b[0m \u001b[1;33m=\u001b[0m \u001b[0mbatch\u001b[0m\u001b[1;33m(\u001b[0m\u001b[1;33m)\u001b[0m\u001b[1;33m\u001b[0m\u001b[1;33m\u001b[0m\u001b[0m\n\u001b[0m\u001b[0;32m    598\u001b[0m \u001b[1;33m\u001b[0m\u001b[0m\n\u001b[0;32m    599\u001b[0m     \u001b[1;32mdef\u001b[0m \u001b[0mget\u001b[0m\u001b[1;33m(\u001b[0m\u001b[0mself\u001b[0m\u001b[1;33m)\u001b[0m\u001b[1;33m:\u001b[0m\u001b[1;33m\u001b[0m\u001b[1;33m\u001b[0m\u001b[0m\n",
      "\u001b[1;32m~\\anaconda3\\envs\\ML\\lib\\site-packages\\joblib\\parallel.py\u001b[0m in \u001b[0;36m__call__\u001b[1;34m(self)\u001b[0m\n\u001b[0;32m    286\u001b[0m         \u001b[1;31m# change the default number of processes to -1\u001b[0m\u001b[1;33m\u001b[0m\u001b[1;33m\u001b[0m\u001b[0m\n\u001b[0;32m    287\u001b[0m         \u001b[1;32mwith\u001b[0m \u001b[0mparallel_backend\u001b[0m\u001b[1;33m(\u001b[0m\u001b[0mself\u001b[0m\u001b[1;33m.\u001b[0m\u001b[0m_backend\u001b[0m\u001b[1;33m,\u001b[0m \u001b[0mn_jobs\u001b[0m\u001b[1;33m=\u001b[0m\u001b[0mself\u001b[0m\u001b[1;33m.\u001b[0m\u001b[0m_n_jobs\u001b[0m\u001b[1;33m)\u001b[0m\u001b[1;33m:\u001b[0m\u001b[1;33m\u001b[0m\u001b[1;33m\u001b[0m\u001b[0m\n\u001b[1;32m--> 288\u001b[1;33m             return [func(*args, **kwargs)\n\u001b[0m\u001b[0;32m    289\u001b[0m                     for func, args, kwargs in self.items]\n\u001b[0;32m    290\u001b[0m \u001b[1;33m\u001b[0m\u001b[0m\n",
      "\u001b[1;32m~\\anaconda3\\envs\\ML\\lib\\site-packages\\joblib\\parallel.py\u001b[0m in \u001b[0;36m<listcomp>\u001b[1;34m(.0)\u001b[0m\n\u001b[0;32m    286\u001b[0m         \u001b[1;31m# change the default number of processes to -1\u001b[0m\u001b[1;33m\u001b[0m\u001b[1;33m\u001b[0m\u001b[0m\n\u001b[0;32m    287\u001b[0m         \u001b[1;32mwith\u001b[0m \u001b[0mparallel_backend\u001b[0m\u001b[1;33m(\u001b[0m\u001b[0mself\u001b[0m\u001b[1;33m.\u001b[0m\u001b[0m_backend\u001b[0m\u001b[1;33m,\u001b[0m \u001b[0mn_jobs\u001b[0m\u001b[1;33m=\u001b[0m\u001b[0mself\u001b[0m\u001b[1;33m.\u001b[0m\u001b[0m_n_jobs\u001b[0m\u001b[1;33m)\u001b[0m\u001b[1;33m:\u001b[0m\u001b[1;33m\u001b[0m\u001b[1;33m\u001b[0m\u001b[0m\n\u001b[1;32m--> 288\u001b[1;33m             return [func(*args, **kwargs)\n\u001b[0m\u001b[0;32m    289\u001b[0m                     for func, args, kwargs in self.items]\n\u001b[0;32m    290\u001b[0m \u001b[1;33m\u001b[0m\u001b[0m\n",
      "\u001b[1;32m~\\anaconda3\\envs\\ML\\lib\\site-packages\\sklearn\\utils\\parallel.py\u001b[0m in \u001b[0;36m__call__\u001b[1;34m(self, *args, **kwargs)\u001b[0m\n\u001b[0;32m    121\u001b[0m             \u001b[0mconfig\u001b[0m \u001b[1;33m=\u001b[0m \u001b[1;33m{\u001b[0m\u001b[1;33m}\u001b[0m\u001b[1;33m\u001b[0m\u001b[1;33m\u001b[0m\u001b[0m\n\u001b[0;32m    122\u001b[0m         \u001b[1;32mwith\u001b[0m \u001b[0mconfig_context\u001b[0m\u001b[1;33m(\u001b[0m\u001b[1;33m**\u001b[0m\u001b[0mconfig\u001b[0m\u001b[1;33m)\u001b[0m\u001b[1;33m:\u001b[0m\u001b[1;33m\u001b[0m\u001b[1;33m\u001b[0m\u001b[0m\n\u001b[1;32m--> 123\u001b[1;33m             \u001b[1;32mreturn\u001b[0m \u001b[0mself\u001b[0m\u001b[1;33m.\u001b[0m\u001b[0mfunction\u001b[0m\u001b[1;33m(\u001b[0m\u001b[1;33m*\u001b[0m\u001b[0margs\u001b[0m\u001b[1;33m,\u001b[0m \u001b[1;33m**\u001b[0m\u001b[0mkwargs\u001b[0m\u001b[1;33m)\u001b[0m\u001b[1;33m\u001b[0m\u001b[1;33m\u001b[0m\u001b[0m\n\u001b[0m",
      "\u001b[1;32m~\\anaconda3\\envs\\ML\\lib\\site-packages\\sklearn\\ensemble\\_forest.py\u001b[0m in \u001b[0;36m_parallel_build_trees\u001b[1;34m(tree, bootstrap, X, y, sample_weight, tree_idx, n_trees, verbose, class_weight, n_samples_bootstrap)\u001b[0m\n\u001b[0;32m    182\u001b[0m             \u001b[0mcurr_sample_weight\u001b[0m \u001b[1;33m*=\u001b[0m \u001b[0mcompute_sample_weight\u001b[0m\u001b[1;33m(\u001b[0m\u001b[1;34m\"balanced\"\u001b[0m\u001b[1;33m,\u001b[0m \u001b[0my\u001b[0m\u001b[1;33m,\u001b[0m \u001b[0mindices\u001b[0m\u001b[1;33m=\u001b[0m\u001b[0mindices\u001b[0m\u001b[1;33m)\u001b[0m\u001b[1;33m\u001b[0m\u001b[1;33m\u001b[0m\u001b[0m\n\u001b[0;32m    183\u001b[0m \u001b[1;33m\u001b[0m\u001b[0m\n\u001b[1;32m--> 184\u001b[1;33m         \u001b[0mtree\u001b[0m\u001b[1;33m.\u001b[0m\u001b[0mfit\u001b[0m\u001b[1;33m(\u001b[0m\u001b[0mX\u001b[0m\u001b[1;33m,\u001b[0m \u001b[0my\u001b[0m\u001b[1;33m,\u001b[0m \u001b[0msample_weight\u001b[0m\u001b[1;33m=\u001b[0m\u001b[0mcurr_sample_weight\u001b[0m\u001b[1;33m,\u001b[0m \u001b[0mcheck_input\u001b[0m\u001b[1;33m=\u001b[0m\u001b[1;32mFalse\u001b[0m\u001b[1;33m)\u001b[0m\u001b[1;33m\u001b[0m\u001b[1;33m\u001b[0m\u001b[0m\n\u001b[0m\u001b[0;32m    185\u001b[0m     \u001b[1;32melse\u001b[0m\u001b[1;33m:\u001b[0m\u001b[1;33m\u001b[0m\u001b[1;33m\u001b[0m\u001b[0m\n\u001b[0;32m    186\u001b[0m         \u001b[0mtree\u001b[0m\u001b[1;33m.\u001b[0m\u001b[0mfit\u001b[0m\u001b[1;33m(\u001b[0m\u001b[0mX\u001b[0m\u001b[1;33m,\u001b[0m \u001b[0my\u001b[0m\u001b[1;33m,\u001b[0m \u001b[0msample_weight\u001b[0m\u001b[1;33m=\u001b[0m\u001b[0msample_weight\u001b[0m\u001b[1;33m,\u001b[0m \u001b[0mcheck_input\u001b[0m\u001b[1;33m=\u001b[0m\u001b[1;32mFalse\u001b[0m\u001b[1;33m)\u001b[0m\u001b[1;33m\u001b[0m\u001b[1;33m\u001b[0m\u001b[0m\n",
      "\u001b[1;32m~\\anaconda3\\envs\\ML\\lib\\site-packages\\sklearn\\tree\\_classes.py\u001b[0m in \u001b[0;36mfit\u001b[1;34m(self, X, y, sample_weight, check_input)\u001b[0m\n\u001b[0;32m    887\u001b[0m         \"\"\"\n\u001b[0;32m    888\u001b[0m \u001b[1;33m\u001b[0m\u001b[0m\n\u001b[1;32m--> 889\u001b[1;33m         super().fit(\n\u001b[0m\u001b[0;32m    890\u001b[0m             \u001b[0mX\u001b[0m\u001b[1;33m,\u001b[0m\u001b[1;33m\u001b[0m\u001b[1;33m\u001b[0m\u001b[0m\n\u001b[0;32m    891\u001b[0m             \u001b[0my\u001b[0m\u001b[1;33m,\u001b[0m\u001b[1;33m\u001b[0m\u001b[1;33m\u001b[0m\u001b[0m\n",
      "\u001b[1;32m~\\anaconda3\\envs\\ML\\lib\\site-packages\\sklearn\\tree\\_classes.py\u001b[0m in \u001b[0;36mfit\u001b[1;34m(self, X, y, sample_weight, check_input)\u001b[0m\n\u001b[0;32m    377\u001b[0m             )\n\u001b[0;32m    378\u001b[0m \u001b[1;33m\u001b[0m\u001b[0m\n\u001b[1;32m--> 379\u001b[1;33m         \u001b[0mbuilder\u001b[0m\u001b[1;33m.\u001b[0m\u001b[0mbuild\u001b[0m\u001b[1;33m(\u001b[0m\u001b[0mself\u001b[0m\u001b[1;33m.\u001b[0m\u001b[0mtree_\u001b[0m\u001b[1;33m,\u001b[0m \u001b[0mX\u001b[0m\u001b[1;33m,\u001b[0m \u001b[0my\u001b[0m\u001b[1;33m,\u001b[0m \u001b[0msample_weight\u001b[0m\u001b[1;33m)\u001b[0m\u001b[1;33m\u001b[0m\u001b[1;33m\u001b[0m\u001b[0m\n\u001b[0m\u001b[0;32m    380\u001b[0m \u001b[1;33m\u001b[0m\u001b[0m\n\u001b[0;32m    381\u001b[0m         \u001b[1;32mif\u001b[0m \u001b[0mself\u001b[0m\u001b[1;33m.\u001b[0m\u001b[0mn_outputs_\u001b[0m \u001b[1;33m==\u001b[0m \u001b[1;36m1\u001b[0m \u001b[1;32mand\u001b[0m \u001b[0mis_classifier\u001b[0m\u001b[1;33m(\u001b[0m\u001b[0mself\u001b[0m\u001b[1;33m)\u001b[0m\u001b[1;33m:\u001b[0m\u001b[1;33m\u001b[0m\u001b[1;33m\u001b[0m\u001b[0m\n",
      "\u001b[1;31mKeyboardInterrupt\u001b[0m: "
     ]
    }
   ],
   "source": [
    "model_RFC = RandomForestClassifier()\n",
    "model_RFC.fit(X_train,y_train)"
   ]
  },
  {
   "cell_type": "code",
   "execution_count": 31,
   "id": "aec4aec8",
   "metadata": {},
   "outputs": [],
   "source": [
    "with open('RFCWS.sav','rb') as f:\n",
    "    model_RFC = pickle.load(f)"
   ]
  },
  {
   "cell_type": "code",
   "execution_count": 32,
   "id": "55ed9fea",
   "metadata": {},
   "outputs": [
    {
     "name": "stdout",
     "output_type": "stream",
     "text": [
      "              precision    recall  f1-score   support\n",
      "\n",
      "         0.0       0.97      0.98      0.97   1479357\n",
      "         1.0       0.91      0.88      0.89    372079\n",
      "\n",
      "    accuracy                           0.96   1851436\n",
      "   macro avg       0.94      0.93      0.93   1851436\n",
      "weighted avg       0.96      0.96      0.96   1851436\n",
      "\n"
     ]
    }
   ],
   "source": [
    "res = model_RFC.predict(X_c)\n",
    "print(classification_report(y_c,res))"
   ]
  },
  {
   "cell_type": "code",
   "execution_count": 33,
   "id": "cf15bb2f",
   "metadata": {},
   "outputs": [],
   "source": [
    "X_c['dep_class'] = res"
   ]
  },
  {
   "cell_type": "code",
   "execution_count": 34,
   "id": "460cee2c",
   "metadata": {},
   "outputs": [],
   "source": [
    "df3 = X_c[X_c['dep_class']==1]"
   ]
  },
  {
   "cell_type": "code",
   "execution_count": 35,
   "id": "97cf4a08",
   "metadata": {},
   "outputs": [
    {
     "data": {
      "text/html": [
       "<div>\n",
       "<style scoped>\n",
       "    .dataframe tbody tr th:only-of-type {\n",
       "        vertical-align: middle;\n",
       "    }\n",
       "\n",
       "    .dataframe tbody tr th {\n",
       "        vertical-align: top;\n",
       "    }\n",
       "\n",
       "    .dataframe thead th {\n",
       "        text-align: right;\n",
       "    }\n",
       "</style>\n",
       "<table border=\"1\" class=\"dataframe\">\n",
       "  <thead>\n",
       "    <tr style=\"text-align: right;\">\n",
       "      <th></th>\n",
       "      <th>Year</th>\n",
       "      <th>Month</th>\n",
       "      <th>DayofMonth</th>\n",
       "      <th>OriginAirportID</th>\n",
       "      <th>DestAirportID</th>\n",
       "      <th>CRSDepTime</th>\n",
       "      <th>CRSArrTime</th>\n",
       "      <th>windspeedKmph</th>\n",
       "      <th>DewPointF</th>\n",
       "      <th>cloudcover</th>\n",
       "      <th>precipMM</th>\n",
       "      <th>pressure</th>\n",
       "      <th>visibility</th>\n",
       "      <th>weatherCode</th>\n",
       "      <th>tempF</th>\n",
       "      <th>winddirDegree</th>\n",
       "      <th>humidity</th>\n",
       "      <th>dep_class</th>\n",
       "    </tr>\n",
       "  </thead>\n",
       "  <tbody>\n",
       "    <tr>\n",
       "      <th>5</th>\n",
       "      <td>2017</td>\n",
       "      <td>9</td>\n",
       "      <td>25</td>\n",
       "      <td>12478</td>\n",
       "      <td>12892</td>\n",
       "      <td>1945</td>\n",
       "      <td>2312</td>\n",
       "      <td>9</td>\n",
       "      <td>65</td>\n",
       "      <td>51</td>\n",
       "      <td>0.0</td>\n",
       "      <td>1017</td>\n",
       "      <td>10</td>\n",
       "      <td>113</td>\n",
       "      <td>68</td>\n",
       "      <td>138</td>\n",
       "      <td>90</td>\n",
       "      <td>1.0</td>\n",
       "    </tr>\n",
       "    <tr>\n",
       "      <th>8</th>\n",
       "      <td>2017</td>\n",
       "      <td>9</td>\n",
       "      <td>25</td>\n",
       "      <td>13204</td>\n",
       "      <td>12478</td>\n",
       "      <td>1954</td>\n",
       "      <td>2236</td>\n",
       "      <td>11</td>\n",
       "      <td>71</td>\n",
       "      <td>31</td>\n",
       "      <td>0.0</td>\n",
       "      <td>1010</td>\n",
       "      <td>10</td>\n",
       "      <td>116</td>\n",
       "      <td>85</td>\n",
       "      <td>113</td>\n",
       "      <td>63</td>\n",
       "      <td>1.0</td>\n",
       "    </tr>\n",
       "    <tr>\n",
       "      <th>10</th>\n",
       "      <td>2017</td>\n",
       "      <td>9</td>\n",
       "      <td>25</td>\n",
       "      <td>12889</td>\n",
       "      <td>12478</td>\n",
       "      <td>2359</td>\n",
       "      <td>757</td>\n",
       "      <td>10</td>\n",
       "      <td>23</td>\n",
       "      <td>0</td>\n",
       "      <td>0.0</td>\n",
       "      <td>1014</td>\n",
       "      <td>10</td>\n",
       "      <td>113</td>\n",
       "      <td>57</td>\n",
       "      <td>328</td>\n",
       "      <td>26</td>\n",
       "      <td>1.0</td>\n",
       "    </tr>\n",
       "    <tr>\n",
       "      <th>11</th>\n",
       "      <td>2017</td>\n",
       "      <td>9</td>\n",
       "      <td>25</td>\n",
       "      <td>12478</td>\n",
       "      <td>12892</td>\n",
       "      <td>2143</td>\n",
       "      <td>59</td>\n",
       "      <td>6</td>\n",
       "      <td>66</td>\n",
       "      <td>44</td>\n",
       "      <td>0.0</td>\n",
       "      <td>1017</td>\n",
       "      <td>10</td>\n",
       "      <td>113</td>\n",
       "      <td>68</td>\n",
       "      <td>127</td>\n",
       "      <td>91</td>\n",
       "      <td>1.0</td>\n",
       "    </tr>\n",
       "    <tr>\n",
       "      <th>32</th>\n",
       "      <td>2017</td>\n",
       "      <td>9</td>\n",
       "      <td>26</td>\n",
       "      <td>11292</td>\n",
       "      <td>12478</td>\n",
       "      <td>2359</td>\n",
       "      <td>549</td>\n",
       "      <td>11</td>\n",
       "      <td>40</td>\n",
       "      <td>0</td>\n",
       "      <td>0.0</td>\n",
       "      <td>1018</td>\n",
       "      <td>10</td>\n",
       "      <td>113</td>\n",
       "      <td>43</td>\n",
       "      <td>118</td>\n",
       "      <td>90</td>\n",
       "      <td>1.0</td>\n",
       "    </tr>\n",
       "    <tr>\n",
       "      <th>...</th>\n",
       "      <td>...</td>\n",
       "      <td>...</td>\n",
       "      <td>...</td>\n",
       "      <td>...</td>\n",
       "      <td>...</td>\n",
       "      <td>...</td>\n",
       "      <td>...</td>\n",
       "      <td>...</td>\n",
       "      <td>...</td>\n",
       "      <td>...</td>\n",
       "      <td>...</td>\n",
       "      <td>...</td>\n",
       "      <td>...</td>\n",
       "      <td>...</td>\n",
       "      <td>...</td>\n",
       "      <td>...</td>\n",
       "      <td>...</td>\n",
       "      <td>...</td>\n",
       "    </tr>\n",
       "    <tr>\n",
       "      <th>1877289</th>\n",
       "      <td>2016</td>\n",
       "      <td>1</td>\n",
       "      <td>3</td>\n",
       "      <td>13303</td>\n",
       "      <td>10397</td>\n",
       "      <td>1925</td>\n",
       "      <td>2132</td>\n",
       "      <td>9</td>\n",
       "      <td>71</td>\n",
       "      <td>69</td>\n",
       "      <td>0.0</td>\n",
       "      <td>1012</td>\n",
       "      <td>10</td>\n",
       "      <td>176</td>\n",
       "      <td>79</td>\n",
       "      <td>211</td>\n",
       "      <td>77</td>\n",
       "      <td>1.0</td>\n",
       "    </tr>\n",
       "    <tr>\n",
       "      <th>1877290</th>\n",
       "      <td>2016</td>\n",
       "      <td>1</td>\n",
       "      <td>3</td>\n",
       "      <td>13930</td>\n",
       "      <td>12889</td>\n",
       "      <td>2150</td>\n",
       "      <td>2359</td>\n",
       "      <td>16</td>\n",
       "      <td>22</td>\n",
       "      <td>39</td>\n",
       "      <td>0.0</td>\n",
       "      <td>1027</td>\n",
       "      <td>10</td>\n",
       "      <td>113</td>\n",
       "      <td>24</td>\n",
       "      <td>308</td>\n",
       "      <td>90</td>\n",
       "      <td>1.0</td>\n",
       "    </tr>\n",
       "    <tr>\n",
       "      <th>1877292</th>\n",
       "      <td>2016</td>\n",
       "      <td>1</td>\n",
       "      <td>3</td>\n",
       "      <td>14107</td>\n",
       "      <td>11292</td>\n",
       "      <td>2110</td>\n",
       "      <td>2259</td>\n",
       "      <td>17</td>\n",
       "      <td>38</td>\n",
       "      <td>99</td>\n",
       "      <td>0.0</td>\n",
       "      <td>1013</td>\n",
       "      <td>10</td>\n",
       "      <td>122</td>\n",
       "      <td>62</td>\n",
       "      <td>76</td>\n",
       "      <td>42</td>\n",
       "      <td>1.0</td>\n",
       "    </tr>\n",
       "    <tr>\n",
       "      <th>1877293</th>\n",
       "      <td>2016</td>\n",
       "      <td>1</td>\n",
       "      <td>3</td>\n",
       "      <td>11292</td>\n",
       "      <td>14107</td>\n",
       "      <td>1830</td>\n",
       "      <td>2024</td>\n",
       "      <td>4</td>\n",
       "      <td>26</td>\n",
       "      <td>100</td>\n",
       "      <td>0.0</td>\n",
       "      <td>1029</td>\n",
       "      <td>0</td>\n",
       "      <td>260</td>\n",
       "      <td>26</td>\n",
       "      <td>158</td>\n",
       "      <td>100</td>\n",
       "      <td>1.0</td>\n",
       "    </tr>\n",
       "    <tr>\n",
       "      <th>1877294</th>\n",
       "      <td>2016</td>\n",
       "      <td>1</td>\n",
       "      <td>3</td>\n",
       "      <td>13930</td>\n",
       "      <td>13204</td>\n",
       "      <td>925</td>\n",
       "      <td>1312</td>\n",
       "      <td>19</td>\n",
       "      <td>21</td>\n",
       "      <td>100</td>\n",
       "      <td>0.0</td>\n",
       "      <td>1022</td>\n",
       "      <td>10</td>\n",
       "      <td>122</td>\n",
       "      <td>24</td>\n",
       "      <td>333</td>\n",
       "      <td>89</td>\n",
       "      <td>1.0</td>\n",
       "    </tr>\n",
       "  </tbody>\n",
       "</table>\n",
       "<p>360218 rows × 18 columns</p>\n",
       "</div>"
      ],
      "text/plain": [
       "         Year  Month  DayofMonth  OriginAirportID  DestAirportID  CRSDepTime  \\\n",
       "5        2017      9          25            12478          12892        1945   \n",
       "8        2017      9          25            13204          12478        1954   \n",
       "10       2017      9          25            12889          12478        2359   \n",
       "11       2017      9          25            12478          12892        2143   \n",
       "32       2017      9          26            11292          12478        2359   \n",
       "...       ...    ...         ...              ...            ...         ...   \n",
       "1877289  2016      1           3            13303          10397        1925   \n",
       "1877290  2016      1           3            13930          12889        2150   \n",
       "1877292  2016      1           3            14107          11292        2110   \n",
       "1877293  2016      1           3            11292          14107        1830   \n",
       "1877294  2016      1           3            13930          13204         925   \n",
       "\n",
       "         CRSArrTime  windspeedKmph  DewPointF  cloudcover  precipMM  pressure  \\\n",
       "5              2312              9         65          51       0.0      1017   \n",
       "8              2236             11         71          31       0.0      1010   \n",
       "10              757             10         23           0       0.0      1014   \n",
       "11               59              6         66          44       0.0      1017   \n",
       "32              549             11         40           0       0.0      1018   \n",
       "...             ...            ...        ...         ...       ...       ...   \n",
       "1877289        2132              9         71          69       0.0      1012   \n",
       "1877290        2359             16         22          39       0.0      1027   \n",
       "1877292        2259             17         38          99       0.0      1013   \n",
       "1877293        2024              4         26         100       0.0      1029   \n",
       "1877294        1312             19         21         100       0.0      1022   \n",
       "\n",
       "         visibility  weatherCode  tempF  winddirDegree  humidity  dep_class  \n",
       "5                10          113     68            138        90        1.0  \n",
       "8                10          116     85            113        63        1.0  \n",
       "10               10          113     57            328        26        1.0  \n",
       "11               10          113     68            127        91        1.0  \n",
       "32               10          113     43            118        90        1.0  \n",
       "...             ...          ...    ...            ...       ...        ...  \n",
       "1877289          10          176     79            211        77        1.0  \n",
       "1877290          10          113     24            308        90        1.0  \n",
       "1877292          10          122     62             76        42        1.0  \n",
       "1877293           0          260     26            158       100        1.0  \n",
       "1877294          10          122     24            333        89        1.0  \n",
       "\n",
       "[360218 rows x 18 columns]"
      ]
     },
     "execution_count": 35,
     "metadata": {},
     "output_type": "execute_result"
    }
   ],
   "source": [
    "df3"
   ]
  },
  {
   "cell_type": "code",
   "execution_count": 36,
   "id": "c0f324e5",
   "metadata": {},
   "outputs": [
    {
     "data": {
      "text/html": [
       "<div>\n",
       "<style scoped>\n",
       "    .dataframe tbody tr th:only-of-type {\n",
       "        vertical-align: middle;\n",
       "    }\n",
       "\n",
       "    .dataframe tbody tr th {\n",
       "        vertical-align: top;\n",
       "    }\n",
       "\n",
       "    .dataframe thead th {\n",
       "        text-align: right;\n",
       "    }\n",
       "</style>\n",
       "<table border=\"1\" class=\"dataframe\">\n",
       "  <thead>\n",
       "    <tr style=\"text-align: right;\">\n",
       "      <th></th>\n",
       "      <th>Year</th>\n",
       "      <th>Month</th>\n",
       "      <th>DayofMonth</th>\n",
       "      <th>OriginAirportID</th>\n",
       "      <th>DestAirportID</th>\n",
       "      <th>CRSDepTime</th>\n",
       "      <th>DepDelayMinutes</th>\n",
       "      <th>DepDel15</th>\n",
       "      <th>CRSArrTime</th>\n",
       "      <th>ArrTime</th>\n",
       "      <th>...</th>\n",
       "      <th>windspeedKmph</th>\n",
       "      <th>DewPointF</th>\n",
       "      <th>cloudcover</th>\n",
       "      <th>precipMM</th>\n",
       "      <th>pressure</th>\n",
       "      <th>visibility</th>\n",
       "      <th>weatherCode</th>\n",
       "      <th>tempF</th>\n",
       "      <th>winddirDegree</th>\n",
       "      <th>humidity</th>\n",
       "    </tr>\n",
       "  </thead>\n",
       "  <tbody>\n",
       "    <tr>\n",
       "      <th>0</th>\n",
       "      <td>2017</td>\n",
       "      <td>9</td>\n",
       "      <td>25</td>\n",
       "      <td>12478</td>\n",
       "      <td>13204</td>\n",
       "      <td>1346</td>\n",
       "      <td>0.0</td>\n",
       "      <td>0.0</td>\n",
       "      <td>1642</td>\n",
       "      <td>1615.0</td>\n",
       "      <td>...</td>\n",
       "      <td>12</td>\n",
       "      <td>67</td>\n",
       "      <td>39</td>\n",
       "      <td>0.0</td>\n",
       "      <td>1017</td>\n",
       "      <td>10</td>\n",
       "      <td>116</td>\n",
       "      <td>76</td>\n",
       "      <td>117</td>\n",
       "      <td>74</td>\n",
       "    </tr>\n",
       "    <tr>\n",
       "      <th>1</th>\n",
       "      <td>2017</td>\n",
       "      <td>9</td>\n",
       "      <td>25</td>\n",
       "      <td>12478</td>\n",
       "      <td>13930</td>\n",
       "      <td>902</td>\n",
       "      <td>0.0</td>\n",
       "      <td>0.0</td>\n",
       "      <td>1045</td>\n",
       "      <td>1008.0</td>\n",
       "      <td>...</td>\n",
       "      <td>6</td>\n",
       "      <td>66</td>\n",
       "      <td>55</td>\n",
       "      <td>0.0</td>\n",
       "      <td>1018</td>\n",
       "      <td>10</td>\n",
       "      <td>116</td>\n",
       "      <td>70</td>\n",
       "      <td>145</td>\n",
       "      <td>90</td>\n",
       "    </tr>\n",
       "    <tr>\n",
       "      <th>2</th>\n",
       "      <td>2017</td>\n",
       "      <td>9</td>\n",
       "      <td>25</td>\n",
       "      <td>13930</td>\n",
       "      <td>12478</td>\n",
       "      <td>2044</td>\n",
       "      <td>1.0</td>\n",
       "      <td>0.0</td>\n",
       "      <td>2359</td>\n",
       "      <td>2345.0</td>\n",
       "      <td>...</td>\n",
       "      <td>10</td>\n",
       "      <td>63</td>\n",
       "      <td>5</td>\n",
       "      <td>0.0</td>\n",
       "      <td>1013</td>\n",
       "      <td>10</td>\n",
       "      <td>113</td>\n",
       "      <td>85</td>\n",
       "      <td>151</td>\n",
       "      <td>48</td>\n",
       "    </tr>\n",
       "    <tr>\n",
       "      <th>3</th>\n",
       "      <td>2017</td>\n",
       "      <td>9</td>\n",
       "      <td>25</td>\n",
       "      <td>11057</td>\n",
       "      <td>12478</td>\n",
       "      <td>1952</td>\n",
       "      <td>0.0</td>\n",
       "      <td>0.0</td>\n",
       "      <td>2157</td>\n",
       "      <td>2127.0</td>\n",
       "      <td>...</td>\n",
       "      <td>11</td>\n",
       "      <td>64</td>\n",
       "      <td>32</td>\n",
       "      <td>0.0</td>\n",
       "      <td>1013</td>\n",
       "      <td>10</td>\n",
       "      <td>116</td>\n",
       "      <td>80</td>\n",
       "      <td>41</td>\n",
       "      <td>59</td>\n",
       "    </tr>\n",
       "    <tr>\n",
       "      <th>4</th>\n",
       "      <td>2017</td>\n",
       "      <td>9</td>\n",
       "      <td>25</td>\n",
       "      <td>12478</td>\n",
       "      <td>11057</td>\n",
       "      <td>1658</td>\n",
       "      <td>0.0</td>\n",
       "      <td>0.0</td>\n",
       "      <td>1914</td>\n",
       "      <td>1849.0</td>\n",
       "      <td>...</td>\n",
       "      <td>14</td>\n",
       "      <td>66</td>\n",
       "      <td>47</td>\n",
       "      <td>0.0</td>\n",
       "      <td>1017</td>\n",
       "      <td>10</td>\n",
       "      <td>143</td>\n",
       "      <td>72</td>\n",
       "      <td>134</td>\n",
       "      <td>82</td>\n",
       "    </tr>\n",
       "    <tr>\n",
       "      <th>...</th>\n",
       "      <td>...</td>\n",
       "      <td>...</td>\n",
       "      <td>...</td>\n",
       "      <td>...</td>\n",
       "      <td>...</td>\n",
       "      <td>...</td>\n",
       "      <td>...</td>\n",
       "      <td>...</td>\n",
       "      <td>...</td>\n",
       "      <td>...</td>\n",
       "      <td>...</td>\n",
       "      <td>...</td>\n",
       "      <td>...</td>\n",
       "      <td>...</td>\n",
       "      <td>...</td>\n",
       "      <td>...</td>\n",
       "      <td>...</td>\n",
       "      <td>...</td>\n",
       "      <td>...</td>\n",
       "      <td>...</td>\n",
       "      <td>...</td>\n",
       "    </tr>\n",
       "    <tr>\n",
       "      <th>1877291</th>\n",
       "      <td>2016</td>\n",
       "      <td>1</td>\n",
       "      <td>3</td>\n",
       "      <td>13204</td>\n",
       "      <td>13930</td>\n",
       "      <td>1130</td>\n",
       "      <td>0.0</td>\n",
       "      <td>0.0</td>\n",
       "      <td>1330</td>\n",
       "      <td>1317.0</td>\n",
       "      <td>...</td>\n",
       "      <td>16</td>\n",
       "      <td>56</td>\n",
       "      <td>100</td>\n",
       "      <td>1.9</td>\n",
       "      <td>1017</td>\n",
       "      <td>6</td>\n",
       "      <td>302</td>\n",
       "      <td>61</td>\n",
       "      <td>331</td>\n",
       "      <td>87</td>\n",
       "    </tr>\n",
       "    <tr>\n",
       "      <th>1877292</th>\n",
       "      <td>2016</td>\n",
       "      <td>1</td>\n",
       "      <td>3</td>\n",
       "      <td>14107</td>\n",
       "      <td>11292</td>\n",
       "      <td>2110</td>\n",
       "      <td>42.0</td>\n",
       "      <td>1.0</td>\n",
       "      <td>2259</td>\n",
       "      <td>2338.0</td>\n",
       "      <td>...</td>\n",
       "      <td>17</td>\n",
       "      <td>38</td>\n",
       "      <td>99</td>\n",
       "      <td>0.0</td>\n",
       "      <td>1013</td>\n",
       "      <td>10</td>\n",
       "      <td>122</td>\n",
       "      <td>62</td>\n",
       "      <td>76</td>\n",
       "      <td>42</td>\n",
       "    </tr>\n",
       "    <tr>\n",
       "      <th>1877293</th>\n",
       "      <td>2016</td>\n",
       "      <td>1</td>\n",
       "      <td>3</td>\n",
       "      <td>11292</td>\n",
       "      <td>14107</td>\n",
       "      <td>1830</td>\n",
       "      <td>58.0</td>\n",
       "      <td>1.0</td>\n",
       "      <td>2024</td>\n",
       "      <td>2117.0</td>\n",
       "      <td>...</td>\n",
       "      <td>4</td>\n",
       "      <td>26</td>\n",
       "      <td>100</td>\n",
       "      <td>0.0</td>\n",
       "      <td>1029</td>\n",
       "      <td>0</td>\n",
       "      <td>260</td>\n",
       "      <td>26</td>\n",
       "      <td>158</td>\n",
       "      <td>100</td>\n",
       "    </tr>\n",
       "    <tr>\n",
       "      <th>1877294</th>\n",
       "      <td>2016</td>\n",
       "      <td>1</td>\n",
       "      <td>3</td>\n",
       "      <td>13930</td>\n",
       "      <td>13204</td>\n",
       "      <td>925</td>\n",
       "      <td>74.0</td>\n",
       "      <td>1.0</td>\n",
       "      <td>1312</td>\n",
       "      <td>1419.0</td>\n",
       "      <td>...</td>\n",
       "      <td>19</td>\n",
       "      <td>21</td>\n",
       "      <td>100</td>\n",
       "      <td>0.0</td>\n",
       "      <td>1022</td>\n",
       "      <td>10</td>\n",
       "      <td>122</td>\n",
       "      <td>24</td>\n",
       "      <td>333</td>\n",
       "      <td>89</td>\n",
       "    </tr>\n",
       "    <tr>\n",
       "      <th>1877295</th>\n",
       "      <td>2016</td>\n",
       "      <td>1</td>\n",
       "      <td>3</td>\n",
       "      <td>13204</td>\n",
       "      <td>13930</td>\n",
       "      <td>630</td>\n",
       "      <td>0.0</td>\n",
       "      <td>0.0</td>\n",
       "      <td>835</td>\n",
       "      <td>950.0</td>\n",
       "      <td>...</td>\n",
       "      <td>17</td>\n",
       "      <td>58</td>\n",
       "      <td>100</td>\n",
       "      <td>0.1</td>\n",
       "      <td>1016</td>\n",
       "      <td>7</td>\n",
       "      <td>122</td>\n",
       "      <td>64</td>\n",
       "      <td>344</td>\n",
       "      <td>82</td>\n",
       "    </tr>\n",
       "  </tbody>\n",
       "</table>\n",
       "<p>1851436 rows × 22 columns</p>\n",
       "</div>"
      ],
      "text/plain": [
       "         Year  Month  DayofMonth  OriginAirportID  DestAirportID  CRSDepTime  \\\n",
       "0        2017      9          25            12478          13204        1346   \n",
       "1        2017      9          25            12478          13930         902   \n",
       "2        2017      9          25            13930          12478        2044   \n",
       "3        2017      9          25            11057          12478        1952   \n",
       "4        2017      9          25            12478          11057        1658   \n",
       "...       ...    ...         ...              ...            ...         ...   \n",
       "1877291  2016      1           3            13204          13930        1130   \n",
       "1877292  2016      1           3            14107          11292        2110   \n",
       "1877293  2016      1           3            11292          14107        1830   \n",
       "1877294  2016      1           3            13930          13204         925   \n",
       "1877295  2016      1           3            13204          13930         630   \n",
       "\n",
       "         DepDelayMinutes  DepDel15  CRSArrTime  ArrTime  ...  windspeedKmph  \\\n",
       "0                    0.0       0.0        1642   1615.0  ...             12   \n",
       "1                    0.0       0.0        1045   1008.0  ...              6   \n",
       "2                    1.0       0.0        2359   2345.0  ...             10   \n",
       "3                    0.0       0.0        2157   2127.0  ...             11   \n",
       "4                    0.0       0.0        1914   1849.0  ...             14   \n",
       "...                  ...       ...         ...      ...  ...            ...   \n",
       "1877291              0.0       0.0        1330   1317.0  ...             16   \n",
       "1877292             42.0       1.0        2259   2338.0  ...             17   \n",
       "1877293             58.0       1.0        2024   2117.0  ...              4   \n",
       "1877294             74.0       1.0        1312   1419.0  ...             19   \n",
       "1877295              0.0       0.0         835    950.0  ...             17   \n",
       "\n",
       "         DewPointF  cloudcover  precipMM  pressure  visibility  weatherCode  \\\n",
       "0               67          39       0.0      1017          10          116   \n",
       "1               66          55       0.0      1018          10          116   \n",
       "2               63           5       0.0      1013          10          113   \n",
       "3               64          32       0.0      1013          10          116   \n",
       "4               66          47       0.0      1017          10          143   \n",
       "...            ...         ...       ...       ...         ...          ...   \n",
       "1877291         56         100       1.9      1017           6          302   \n",
       "1877292         38          99       0.0      1013          10          122   \n",
       "1877293         26         100       0.0      1029           0          260   \n",
       "1877294         21         100       0.0      1022          10          122   \n",
       "1877295         58         100       0.1      1016           7          122   \n",
       "\n",
       "         tempF  winddirDegree  humidity  \n",
       "0           76            117        74  \n",
       "1           70            145        90  \n",
       "2           85            151        48  \n",
       "3           80             41        59  \n",
       "4           72            134        82  \n",
       "...        ...            ...       ...  \n",
       "1877291     61            331        87  \n",
       "1877292     62             76        42  \n",
       "1877293     26            158       100  \n",
       "1877294     24            333        89  \n",
       "1877295     64            344        82  \n",
       "\n",
       "[1851436 rows x 22 columns]"
      ]
     },
     "execution_count": 36,
     "metadata": {},
     "output_type": "execute_result"
    }
   ],
   "source": [
    "df4 = pd.read_csv('./Weather dataset/final_merged.csv')\n",
    "df4 = df4.drop(['Unnamed: 0'] , axis=1)\n",
    "df4=df4.dropna()\n",
    "df4 = df4.drop(['FlightDate','Origin','Dest','time','date','airport',\n",
    "       'DepTime'],axis=1)\n",
    "df4 = df4.drop(['Quarter','WindGustKmph','WindChillF'],axis=1)\n",
    "df4"
   ]
  },
  {
   "cell_type": "code",
   "execution_count": 37,
   "id": "a49fdf25",
   "metadata": {},
   "outputs": [
    {
     "data": {
      "text/html": [
       "<div>\n",
       "<style scoped>\n",
       "    .dataframe tbody tr th:only-of-type {\n",
       "        vertical-align: middle;\n",
       "    }\n",
       "\n",
       "    .dataframe tbody tr th {\n",
       "        vertical-align: top;\n",
       "    }\n",
       "\n",
       "    .dataframe thead th {\n",
       "        text-align: right;\n",
       "    }\n",
       "</style>\n",
       "<table border=\"1\" class=\"dataframe\">\n",
       "  <thead>\n",
       "    <tr style=\"text-align: right;\">\n",
       "      <th></th>\n",
       "      <th>Year</th>\n",
       "      <th>Month</th>\n",
       "      <th>DayofMonth</th>\n",
       "      <th>OriginAirportID</th>\n",
       "      <th>DestAirportID</th>\n",
       "      <th>CRSDepTime</th>\n",
       "      <th>CRSArrTime</th>\n",
       "      <th>windspeedKmph</th>\n",
       "      <th>DewPointF</th>\n",
       "      <th>cloudcover</th>\n",
       "      <th>...</th>\n",
       "      <th>weatherCode</th>\n",
       "      <th>tempF</th>\n",
       "      <th>winddirDegree</th>\n",
       "      <th>humidity</th>\n",
       "      <th>dep_class</th>\n",
       "      <th>DepDelayMinutes</th>\n",
       "      <th>DepDel15</th>\n",
       "      <th>ArrTime</th>\n",
       "      <th>ArrDelayMinutes</th>\n",
       "      <th>ArrDel15</th>\n",
       "    </tr>\n",
       "  </thead>\n",
       "  <tbody>\n",
       "    <tr>\n",
       "      <th>0</th>\n",
       "      <td>2017</td>\n",
       "      <td>9</td>\n",
       "      <td>25</td>\n",
       "      <td>12478</td>\n",
       "      <td>12892</td>\n",
       "      <td>1945</td>\n",
       "      <td>2312</td>\n",
       "      <td>9</td>\n",
       "      <td>65</td>\n",
       "      <td>51</td>\n",
       "      <td>...</td>\n",
       "      <td>113</td>\n",
       "      <td>68</td>\n",
       "      <td>138</td>\n",
       "      <td>90</td>\n",
       "      <td>1.0</td>\n",
       "      <td>104.0</td>\n",
       "      <td>1.0</td>\n",
       "      <td>28.0</td>\n",
       "      <td>76.0</td>\n",
       "      <td>1.0</td>\n",
       "    </tr>\n",
       "    <tr>\n",
       "      <th>1</th>\n",
       "      <td>2017</td>\n",
       "      <td>9</td>\n",
       "      <td>25</td>\n",
       "      <td>13204</td>\n",
       "      <td>12478</td>\n",
       "      <td>1954</td>\n",
       "      <td>2236</td>\n",
       "      <td>11</td>\n",
       "      <td>71</td>\n",
       "      <td>31</td>\n",
       "      <td>...</td>\n",
       "      <td>116</td>\n",
       "      <td>85</td>\n",
       "      <td>113</td>\n",
       "      <td>63</td>\n",
       "      <td>1.0</td>\n",
       "      <td>20.0</td>\n",
       "      <td>1.0</td>\n",
       "      <td>2238.0</td>\n",
       "      <td>2.0</td>\n",
       "      <td>0.0</td>\n",
       "    </tr>\n",
       "    <tr>\n",
       "      <th>2</th>\n",
       "      <td>2017</td>\n",
       "      <td>9</td>\n",
       "      <td>25</td>\n",
       "      <td>12889</td>\n",
       "      <td>12478</td>\n",
       "      <td>2359</td>\n",
       "      <td>757</td>\n",
       "      <td>10</td>\n",
       "      <td>23</td>\n",
       "      <td>0</td>\n",
       "      <td>...</td>\n",
       "      <td>113</td>\n",
       "      <td>57</td>\n",
       "      <td>328</td>\n",
       "      <td>26</td>\n",
       "      <td>1.0</td>\n",
       "      <td>25.0</td>\n",
       "      <td>1.0</td>\n",
       "      <td>809.0</td>\n",
       "      <td>12.0</td>\n",
       "      <td>0.0</td>\n",
       "    </tr>\n",
       "    <tr>\n",
       "      <th>3</th>\n",
       "      <td>2017</td>\n",
       "      <td>9</td>\n",
       "      <td>25</td>\n",
       "      <td>12478</td>\n",
       "      <td>12892</td>\n",
       "      <td>2143</td>\n",
       "      <td>59</td>\n",
       "      <td>6</td>\n",
       "      <td>66</td>\n",
       "      <td>44</td>\n",
       "      <td>...</td>\n",
       "      <td>113</td>\n",
       "      <td>68</td>\n",
       "      <td>127</td>\n",
       "      <td>91</td>\n",
       "      <td>1.0</td>\n",
       "      <td>98.0</td>\n",
       "      <td>1.0</td>\n",
       "      <td>213.0</td>\n",
       "      <td>74.0</td>\n",
       "      <td>1.0</td>\n",
       "    </tr>\n",
       "    <tr>\n",
       "      <th>4</th>\n",
       "      <td>2017</td>\n",
       "      <td>9</td>\n",
       "      <td>26</td>\n",
       "      <td>11292</td>\n",
       "      <td>12478</td>\n",
       "      <td>2359</td>\n",
       "      <td>549</td>\n",
       "      <td>11</td>\n",
       "      <td>40</td>\n",
       "      <td>0</td>\n",
       "      <td>...</td>\n",
       "      <td>113</td>\n",
       "      <td>43</td>\n",
       "      <td>118</td>\n",
       "      <td>90</td>\n",
       "      <td>1.0</td>\n",
       "      <td>17.0</td>\n",
       "      <td>1.0</td>\n",
       "      <td>534.0</td>\n",
       "      <td>0.0</td>\n",
       "      <td>0.0</td>\n",
       "    </tr>\n",
       "    <tr>\n",
       "      <th>...</th>\n",
       "      <td>...</td>\n",
       "      <td>...</td>\n",
       "      <td>...</td>\n",
       "      <td>...</td>\n",
       "      <td>...</td>\n",
       "      <td>...</td>\n",
       "      <td>...</td>\n",
       "      <td>...</td>\n",
       "      <td>...</td>\n",
       "      <td>...</td>\n",
       "      <td>...</td>\n",
       "      <td>...</td>\n",
       "      <td>...</td>\n",
       "      <td>...</td>\n",
       "      <td>...</td>\n",
       "      <td>...</td>\n",
       "      <td>...</td>\n",
       "      <td>...</td>\n",
       "      <td>...</td>\n",
       "      <td>...</td>\n",
       "      <td>...</td>\n",
       "    </tr>\n",
       "    <tr>\n",
       "      <th>361093</th>\n",
       "      <td>2016</td>\n",
       "      <td>1</td>\n",
       "      <td>3</td>\n",
       "      <td>13303</td>\n",
       "      <td>10397</td>\n",
       "      <td>1925</td>\n",
       "      <td>2132</td>\n",
       "      <td>9</td>\n",
       "      <td>71</td>\n",
       "      <td>69</td>\n",
       "      <td>...</td>\n",
       "      <td>176</td>\n",
       "      <td>79</td>\n",
       "      <td>211</td>\n",
       "      <td>77</td>\n",
       "      <td>1.0</td>\n",
       "      <td>26.0</td>\n",
       "      <td>1.0</td>\n",
       "      <td>2202.0</td>\n",
       "      <td>30.0</td>\n",
       "      <td>1.0</td>\n",
       "    </tr>\n",
       "    <tr>\n",
       "      <th>361094</th>\n",
       "      <td>2016</td>\n",
       "      <td>1</td>\n",
       "      <td>3</td>\n",
       "      <td>13930</td>\n",
       "      <td>12889</td>\n",
       "      <td>2150</td>\n",
       "      <td>2359</td>\n",
       "      <td>16</td>\n",
       "      <td>22</td>\n",
       "      <td>39</td>\n",
       "      <td>...</td>\n",
       "      <td>113</td>\n",
       "      <td>24</td>\n",
       "      <td>308</td>\n",
       "      <td>90</td>\n",
       "      <td>1.0</td>\n",
       "      <td>21.0</td>\n",
       "      <td>1.0</td>\n",
       "      <td>16.0</td>\n",
       "      <td>17.0</td>\n",
       "      <td>1.0</td>\n",
       "    </tr>\n",
       "    <tr>\n",
       "      <th>361095</th>\n",
       "      <td>2016</td>\n",
       "      <td>1</td>\n",
       "      <td>3</td>\n",
       "      <td>14107</td>\n",
       "      <td>11292</td>\n",
       "      <td>2110</td>\n",
       "      <td>2259</td>\n",
       "      <td>17</td>\n",
       "      <td>38</td>\n",
       "      <td>99</td>\n",
       "      <td>...</td>\n",
       "      <td>122</td>\n",
       "      <td>62</td>\n",
       "      <td>76</td>\n",
       "      <td>42</td>\n",
       "      <td>1.0</td>\n",
       "      <td>42.0</td>\n",
       "      <td>1.0</td>\n",
       "      <td>2338.0</td>\n",
       "      <td>39.0</td>\n",
       "      <td>1.0</td>\n",
       "    </tr>\n",
       "    <tr>\n",
       "      <th>361096</th>\n",
       "      <td>2016</td>\n",
       "      <td>1</td>\n",
       "      <td>3</td>\n",
       "      <td>11292</td>\n",
       "      <td>14107</td>\n",
       "      <td>1830</td>\n",
       "      <td>2024</td>\n",
       "      <td>4</td>\n",
       "      <td>26</td>\n",
       "      <td>100</td>\n",
       "      <td>...</td>\n",
       "      <td>260</td>\n",
       "      <td>26</td>\n",
       "      <td>158</td>\n",
       "      <td>100</td>\n",
       "      <td>1.0</td>\n",
       "      <td>58.0</td>\n",
       "      <td>1.0</td>\n",
       "      <td>2117.0</td>\n",
       "      <td>53.0</td>\n",
       "      <td>1.0</td>\n",
       "    </tr>\n",
       "    <tr>\n",
       "      <th>361097</th>\n",
       "      <td>2016</td>\n",
       "      <td>1</td>\n",
       "      <td>3</td>\n",
       "      <td>13930</td>\n",
       "      <td>13204</td>\n",
       "      <td>925</td>\n",
       "      <td>1312</td>\n",
       "      <td>19</td>\n",
       "      <td>21</td>\n",
       "      <td>100</td>\n",
       "      <td>...</td>\n",
       "      <td>122</td>\n",
       "      <td>24</td>\n",
       "      <td>333</td>\n",
       "      <td>89</td>\n",
       "      <td>1.0</td>\n",
       "      <td>74.0</td>\n",
       "      <td>1.0</td>\n",
       "      <td>1419.0</td>\n",
       "      <td>67.0</td>\n",
       "      <td>1.0</td>\n",
       "    </tr>\n",
       "  </tbody>\n",
       "</table>\n",
       "<p>361098 rows × 23 columns</p>\n",
       "</div>"
      ],
      "text/plain": [
       "        Year  Month  DayofMonth  OriginAirportID  DestAirportID  CRSDepTime  \\\n",
       "0       2017      9          25            12478          12892        1945   \n",
       "1       2017      9          25            13204          12478        1954   \n",
       "2       2017      9          25            12889          12478        2359   \n",
       "3       2017      9          25            12478          12892        2143   \n",
       "4       2017      9          26            11292          12478        2359   \n",
       "...      ...    ...         ...              ...            ...         ...   \n",
       "361093  2016      1           3            13303          10397        1925   \n",
       "361094  2016      1           3            13930          12889        2150   \n",
       "361095  2016      1           3            14107          11292        2110   \n",
       "361096  2016      1           3            11292          14107        1830   \n",
       "361097  2016      1           3            13930          13204         925   \n",
       "\n",
       "        CRSArrTime  windspeedKmph  DewPointF  cloudcover  ...  weatherCode  \\\n",
       "0             2312              9         65          51  ...          113   \n",
       "1             2236             11         71          31  ...          116   \n",
       "2              757             10         23           0  ...          113   \n",
       "3               59              6         66          44  ...          113   \n",
       "4              549             11         40           0  ...          113   \n",
       "...            ...            ...        ...         ...  ...          ...   \n",
       "361093        2132              9         71          69  ...          176   \n",
       "361094        2359             16         22          39  ...          113   \n",
       "361095        2259             17         38          99  ...          122   \n",
       "361096        2024              4         26         100  ...          260   \n",
       "361097        1312             19         21         100  ...          122   \n",
       "\n",
       "        tempF  winddirDegree  humidity  dep_class  DepDelayMinutes  DepDel15  \\\n",
       "0          68            138        90        1.0            104.0       1.0   \n",
       "1          85            113        63        1.0             20.0       1.0   \n",
       "2          57            328        26        1.0             25.0       1.0   \n",
       "3          68            127        91        1.0             98.0       1.0   \n",
       "4          43            118        90        1.0             17.0       1.0   \n",
       "...       ...            ...       ...        ...              ...       ...   \n",
       "361093     79            211        77        1.0             26.0       1.0   \n",
       "361094     24            308        90        1.0             21.0       1.0   \n",
       "361095     62             76        42        1.0             42.0       1.0   \n",
       "361096     26            158       100        1.0             58.0       1.0   \n",
       "361097     24            333        89        1.0             74.0       1.0   \n",
       "\n",
       "        ArrTime  ArrDelayMinutes  ArrDel15  \n",
       "0          28.0             76.0       1.0  \n",
       "1        2238.0              2.0       0.0  \n",
       "2         809.0             12.0       0.0  \n",
       "3         213.0             74.0       1.0  \n",
       "4         534.0              0.0       0.0  \n",
       "...         ...              ...       ...  \n",
       "361093   2202.0             30.0       1.0  \n",
       "361094     16.0             17.0       1.0  \n",
       "361095   2338.0             39.0       1.0  \n",
       "361096   2117.0             53.0       1.0  \n",
       "361097   1419.0             67.0       1.0  \n",
       "\n",
       "[361098 rows x 23 columns]"
      ]
     },
     "execution_count": 37,
     "metadata": {},
     "output_type": "execute_result"
    }
   ],
   "source": [
    "df5 = pd.merge(df3,df4 , how='left')\n",
    "df5"
   ]
  },
  {
   "cell_type": "code",
   "execution_count": 38,
   "id": "5cfb6a18",
   "metadata": {},
   "outputs": [],
   "source": [
    "X_r = df5.drop(['DepDelayMinutes','DepDel15','dep_class','ArrDelayMinutes'],axis=1)\n",
    "y_r = df5['DepDelayMinutes']"
   ]
  },
  {
   "cell_type": "code",
   "execution_count": 39,
   "id": "9b98fe4c",
   "metadata": {},
   "outputs": [],
   "source": [
    "X_train , X_test , y_train , y_test = train_test_split(X_r,y_r,test_size=0.2,random_state=10)"
   ]
  },
  {
   "cell_type": "code",
   "execution_count": null,
   "id": "d00d1d99",
   "metadata": {},
   "outputs": [],
   "source": []
  },
  {
   "cell_type": "markdown",
   "id": "264c180c",
   "metadata": {},
   "source": [
    "# Linear regression"
   ]
  },
  {
   "cell_type": "code",
   "execution_count": 58,
   "id": "15021656",
   "metadata": {},
   "outputs": [
    {
     "data": {
      "text/html": [
       "<style>#sk-container-id-1 {color: black;background-color: white;}#sk-container-id-1 pre{padding: 0;}#sk-container-id-1 div.sk-toggleable {background-color: white;}#sk-container-id-1 label.sk-toggleable__label {cursor: pointer;display: block;width: 100%;margin-bottom: 0;padding: 0.3em;box-sizing: border-box;text-align: center;}#sk-container-id-1 label.sk-toggleable__label-arrow:before {content: \"▸\";float: left;margin-right: 0.25em;color: #696969;}#sk-container-id-1 label.sk-toggleable__label-arrow:hover:before {color: black;}#sk-container-id-1 div.sk-estimator:hover label.sk-toggleable__label-arrow:before {color: black;}#sk-container-id-1 div.sk-toggleable__content {max-height: 0;max-width: 0;overflow: hidden;text-align: left;background-color: #f0f8ff;}#sk-container-id-1 div.sk-toggleable__content pre {margin: 0.2em;color: black;border-radius: 0.25em;background-color: #f0f8ff;}#sk-container-id-1 input.sk-toggleable__control:checked~div.sk-toggleable__content {max-height: 200px;max-width: 100%;overflow: auto;}#sk-container-id-1 input.sk-toggleable__control:checked~label.sk-toggleable__label-arrow:before {content: \"▾\";}#sk-container-id-1 div.sk-estimator input.sk-toggleable__control:checked~label.sk-toggleable__label {background-color: #d4ebff;}#sk-container-id-1 div.sk-label input.sk-toggleable__control:checked~label.sk-toggleable__label {background-color: #d4ebff;}#sk-container-id-1 input.sk-hidden--visually {border: 0;clip: rect(1px 1px 1px 1px);clip: rect(1px, 1px, 1px, 1px);height: 1px;margin: -1px;overflow: hidden;padding: 0;position: absolute;width: 1px;}#sk-container-id-1 div.sk-estimator {font-family: monospace;background-color: #f0f8ff;border: 1px dotted black;border-radius: 0.25em;box-sizing: border-box;margin-bottom: 0.5em;}#sk-container-id-1 div.sk-estimator:hover {background-color: #d4ebff;}#sk-container-id-1 div.sk-parallel-item::after {content: \"\";width: 100%;border-bottom: 1px solid gray;flex-grow: 1;}#sk-container-id-1 div.sk-label:hover label.sk-toggleable__label {background-color: #d4ebff;}#sk-container-id-1 div.sk-serial::before {content: \"\";position: absolute;border-left: 1px solid gray;box-sizing: border-box;top: 0;bottom: 0;left: 50%;z-index: 0;}#sk-container-id-1 div.sk-serial {display: flex;flex-direction: column;align-items: center;background-color: white;padding-right: 0.2em;padding-left: 0.2em;position: relative;}#sk-container-id-1 div.sk-item {position: relative;z-index: 1;}#sk-container-id-1 div.sk-parallel {display: flex;align-items: stretch;justify-content: center;background-color: white;position: relative;}#sk-container-id-1 div.sk-item::before, #sk-container-id-1 div.sk-parallel-item::before {content: \"\";position: absolute;border-left: 1px solid gray;box-sizing: border-box;top: 0;bottom: 0;left: 50%;z-index: -1;}#sk-container-id-1 div.sk-parallel-item {display: flex;flex-direction: column;z-index: 1;position: relative;background-color: white;}#sk-container-id-1 div.sk-parallel-item:first-child::after {align-self: flex-end;width: 50%;}#sk-container-id-1 div.sk-parallel-item:last-child::after {align-self: flex-start;width: 50%;}#sk-container-id-1 div.sk-parallel-item:only-child::after {width: 0;}#sk-container-id-1 div.sk-dashed-wrapped {border: 1px dashed gray;margin: 0 0.4em 0.5em 0.4em;box-sizing: border-box;padding-bottom: 0.4em;background-color: white;}#sk-container-id-1 div.sk-label label {font-family: monospace;font-weight: bold;display: inline-block;line-height: 1.2em;}#sk-container-id-1 div.sk-label-container {text-align: center;}#sk-container-id-1 div.sk-container {/* jupyter's `normalize.less` sets `[hidden] { display: none; }` but bootstrap.min.css set `[hidden] { display: none !important; }` so we also need the `!important` here to be able to override the default hidden behavior on the sphinx rendered scikit-learn.org. See: https://github.com/scikit-learn/scikit-learn/issues/21755 */display: inline-block !important;position: relative;}#sk-container-id-1 div.sk-text-repr-fallback {display: none;}</style><div id=\"sk-container-id-1\" class=\"sk-top-container\"><div class=\"sk-text-repr-fallback\"><pre>LinearRegression()</pre><b>In a Jupyter environment, please rerun this cell to show the HTML representation or trust the notebook. <br />On GitHub, the HTML representation is unable to render, please try loading this page with nbviewer.org.</b></div><div class=\"sk-container\" hidden><div class=\"sk-item\"><div class=\"sk-estimator sk-toggleable\"><input class=\"sk-toggleable__control sk-hidden--visually\" id=\"sk-estimator-id-1\" type=\"checkbox\" checked><label for=\"sk-estimator-id-1\" class=\"sk-toggleable__label sk-toggleable__label-arrow\">LinearRegression</label><div class=\"sk-toggleable__content\"><pre>LinearRegression()</pre></div></div></div></div></div>"
      ],
      "text/plain": [
       "LinearRegression()"
      ]
     },
     "execution_count": 58,
     "metadata": {},
     "output_type": "execute_result"
    }
   ],
   "source": [
    "model_LR = LinearRegression()\n",
    "model_LR.fit(X_train,y_train)"
   ]
  },
  {
   "cell_type": "code",
   "execution_count": 59,
   "id": "4f1058bb",
   "metadata": {},
   "outputs": [],
   "source": [
    "res = model_LR.predict(X_test)"
   ]
  },
  {
   "cell_type": "code",
   "execution_count": 60,
   "id": "14f7f689",
   "metadata": {},
   "outputs": [
    {
     "name": "stdout",
     "output_type": "stream",
     "text": [
      "MAE 36.940970774564235\n",
      "R2 0.1583311039754126\n",
      "The accuracy of our model is 16.0\n",
      "MSE 4375.457319128642\n"
     ]
    },
    {
     "data": {
      "text/plain": [
       "0.1583311039754126"
      ]
     },
     "execution_count": 60,
     "metadata": {},
     "output_type": "execute_result"
    }
   ],
   "source": [
    "print(\"MAE\",mean_absolute_error(y_test,res))\n",
    "print(\"R2\",r2_score(y_test,res))\n",
    "print(f\"The accuracy of our model is {round(r2_score(y_test,res), 2) *100}\")\n",
    "print(f\"MSE {mean_squared_error(y_test,res)}\")\n",
    "model_LR.score(X_test,y_test)"
   ]
  },
  {
   "cell_type": "markdown",
   "id": "d1087ce4",
   "metadata": {},
   "source": [
    "# XGBOOST Regressor "
   ]
  },
  {
   "cell_type": "code",
   "execution_count": 88,
   "id": "078e7b1b",
   "metadata": {},
   "outputs": [
    {
     "data": {
      "text/html": [
       "<style>#sk-container-id-9 {color: black;background-color: white;}#sk-container-id-9 pre{padding: 0;}#sk-container-id-9 div.sk-toggleable {background-color: white;}#sk-container-id-9 label.sk-toggleable__label {cursor: pointer;display: block;width: 100%;margin-bottom: 0;padding: 0.3em;box-sizing: border-box;text-align: center;}#sk-container-id-9 label.sk-toggleable__label-arrow:before {content: \"▸\";float: left;margin-right: 0.25em;color: #696969;}#sk-container-id-9 label.sk-toggleable__label-arrow:hover:before {color: black;}#sk-container-id-9 div.sk-estimator:hover label.sk-toggleable__label-arrow:before {color: black;}#sk-container-id-9 div.sk-toggleable__content {max-height: 0;max-width: 0;overflow: hidden;text-align: left;background-color: #f0f8ff;}#sk-container-id-9 div.sk-toggleable__content pre {margin: 0.2em;color: black;border-radius: 0.25em;background-color: #f0f8ff;}#sk-container-id-9 input.sk-toggleable__control:checked~div.sk-toggleable__content {max-height: 200px;max-width: 100%;overflow: auto;}#sk-container-id-9 input.sk-toggleable__control:checked~label.sk-toggleable__label-arrow:before {content: \"▾\";}#sk-container-id-9 div.sk-estimator input.sk-toggleable__control:checked~label.sk-toggleable__label {background-color: #d4ebff;}#sk-container-id-9 div.sk-label input.sk-toggleable__control:checked~label.sk-toggleable__label {background-color: #d4ebff;}#sk-container-id-9 input.sk-hidden--visually {border: 0;clip: rect(1px 1px 1px 1px);clip: rect(1px, 1px, 1px, 1px);height: 1px;margin: -1px;overflow: hidden;padding: 0;position: absolute;width: 1px;}#sk-container-id-9 div.sk-estimator {font-family: monospace;background-color: #f0f8ff;border: 1px dotted black;border-radius: 0.25em;box-sizing: border-box;margin-bottom: 0.5em;}#sk-container-id-9 div.sk-estimator:hover {background-color: #d4ebff;}#sk-container-id-9 div.sk-parallel-item::after {content: \"\";width: 100%;border-bottom: 1px solid gray;flex-grow: 1;}#sk-container-id-9 div.sk-label:hover label.sk-toggleable__label {background-color: #d4ebff;}#sk-container-id-9 div.sk-serial::before {content: \"\";position: absolute;border-left: 1px solid gray;box-sizing: border-box;top: 0;bottom: 0;left: 50%;z-index: 0;}#sk-container-id-9 div.sk-serial {display: flex;flex-direction: column;align-items: center;background-color: white;padding-right: 0.2em;padding-left: 0.2em;position: relative;}#sk-container-id-9 div.sk-item {position: relative;z-index: 1;}#sk-container-id-9 div.sk-parallel {display: flex;align-items: stretch;justify-content: center;background-color: white;position: relative;}#sk-container-id-9 div.sk-item::before, #sk-container-id-9 div.sk-parallel-item::before {content: \"\";position: absolute;border-left: 1px solid gray;box-sizing: border-box;top: 0;bottom: 0;left: 50%;z-index: -1;}#sk-container-id-9 div.sk-parallel-item {display: flex;flex-direction: column;z-index: 1;position: relative;background-color: white;}#sk-container-id-9 div.sk-parallel-item:first-child::after {align-self: flex-end;width: 50%;}#sk-container-id-9 div.sk-parallel-item:last-child::after {align-self: flex-start;width: 50%;}#sk-container-id-9 div.sk-parallel-item:only-child::after {width: 0;}#sk-container-id-9 div.sk-dashed-wrapped {border: 1px dashed gray;margin: 0 0.4em 0.5em 0.4em;box-sizing: border-box;padding-bottom: 0.4em;background-color: white;}#sk-container-id-9 div.sk-label label {font-family: monospace;font-weight: bold;display: inline-block;line-height: 1.2em;}#sk-container-id-9 div.sk-label-container {text-align: center;}#sk-container-id-9 div.sk-container {/* jupyter's `normalize.less` sets `[hidden] { display: none; }` but bootstrap.min.css set `[hidden] { display: none !important; }` so we also need the `!important` here to be able to override the default hidden behavior on the sphinx rendered scikit-learn.org. See: https://github.com/scikit-learn/scikit-learn/issues/21755 */display: inline-block !important;position: relative;}#sk-container-id-9 div.sk-text-repr-fallback {display: none;}</style><div id=\"sk-container-id-9\" class=\"sk-top-container\"><div class=\"sk-text-repr-fallback\"><pre>XGBRegressor(base_score=None, booster=None, callbacks=None,\n",
       "             colsample_bylevel=None, colsample_bynode=None,\n",
       "             colsample_bytree=None, early_stopping_rounds=None,\n",
       "             enable_categorical=False, eval_metric=None, feature_types=None,\n",
       "             gamma=None, gpu_id=None, grow_policy=None, importance_type=None,\n",
       "             interaction_constraints=None, learning_rate=None, max_bin=None,\n",
       "             max_cat_threshold=None, max_cat_to_onehot=None,\n",
       "             max_delta_step=None, max_depth=None, max_leaves=None,\n",
       "             min_child_weight=None, missing=nan, monotone_constraints=None,\n",
       "             n_estimators=200, n_jobs=None, num_parallel_tree=None,\n",
       "             predictor=None, random_state=None, ...)</pre><b>In a Jupyter environment, please rerun this cell to show the HTML representation or trust the notebook. <br />On GitHub, the HTML representation is unable to render, please try loading this page with nbviewer.org.</b></div><div class=\"sk-container\" hidden><div class=\"sk-item\"><div class=\"sk-estimator sk-toggleable\"><input class=\"sk-toggleable__control sk-hidden--visually\" id=\"sk-estimator-id-9\" type=\"checkbox\" checked><label for=\"sk-estimator-id-9\" class=\"sk-toggleable__label sk-toggleable__label-arrow\">XGBRegressor</label><div class=\"sk-toggleable__content\"><pre>XGBRegressor(base_score=None, booster=None, callbacks=None,\n",
       "             colsample_bylevel=None, colsample_bynode=None,\n",
       "             colsample_bytree=None, early_stopping_rounds=None,\n",
       "             enable_categorical=False, eval_metric=None, feature_types=None,\n",
       "             gamma=None, gpu_id=None, grow_policy=None, importance_type=None,\n",
       "             interaction_constraints=None, learning_rate=None, max_bin=None,\n",
       "             max_cat_threshold=None, max_cat_to_onehot=None,\n",
       "             max_delta_step=None, max_depth=None, max_leaves=None,\n",
       "             min_child_weight=None, missing=nan, monotone_constraints=None,\n",
       "             n_estimators=200, n_jobs=None, num_parallel_tree=None,\n",
       "             predictor=None, random_state=None, ...)</pre></div></div></div></div></div>"
      ],
      "text/plain": [
       "XGBRegressor(base_score=None, booster=None, callbacks=None,\n",
       "             colsample_bylevel=None, colsample_bynode=None,\n",
       "             colsample_bytree=None, early_stopping_rounds=None,\n",
       "             enable_categorical=False, eval_metric=None, feature_types=None,\n",
       "             gamma=None, gpu_id=None, grow_policy=None, importance_type=None,\n",
       "             interaction_constraints=None, learning_rate=None, max_bin=None,\n",
       "             max_cat_threshold=None, max_cat_to_onehot=None,\n",
       "             max_delta_step=None, max_depth=None, max_leaves=None,\n",
       "             min_child_weight=None, missing=nan, monotone_constraints=None,\n",
       "             n_estimators=200, n_jobs=None, num_parallel_tree=None,\n",
       "             predictor=None, random_state=None, ...)"
      ]
     },
     "execution_count": 88,
     "metadata": {},
     "output_type": "execute_result"
    }
   ],
   "source": [
    "model_XGR = xg.XGBRegressor(n_estimators = 200, seed = 10)\n",
    "model_XGR.fit(X_train,y_train)"
   ]
  },
  {
   "cell_type": "code",
   "execution_count": 89,
   "id": "cfda1f14",
   "metadata": {},
   "outputs": [],
   "source": [
    "res = model_XGR.predict(X_test)"
   ]
  },
  {
   "cell_type": "code",
   "execution_count": 91,
   "id": "a1a2772c",
   "metadata": {},
   "outputs": [
    {
     "name": "stdout",
     "output_type": "stream",
     "text": [
      "MAE 11.738766387309251\n",
      "R2 0.9238947819461806\n",
      "MSE 395.63673426722147\n",
      "The accuracy of our model is 92.0%\n"
     ]
    }
   ],
   "source": [
    "\n",
    "print(\"MAE\",mean_absolute_error(y_test,res))\n",
    "print(\"R2\",r2_score(y_test,res))\n",
    "print(f\"MSE {mean_squared_error(y_test,res)}\")\n",
    "print(\"The accuracy of our model is {}%\".format(round(r2_score(y_test,res), 2) *100))"
   ]
  },
  {
   "cell_type": "code",
   "execution_count": 92,
   "id": "a10620a6",
   "metadata": {},
   "outputs": [
    {
     "data": {
      "text/plain": [
       "0.9238947819461806"
      ]
     },
     "execution_count": 92,
     "metadata": {},
     "output_type": "execute_result"
    }
   ],
   "source": [
    "model_XGR.score(X_test,y_test)"
   ]
  },
  {
   "cell_type": "markdown",
   "id": "6f6f0c8d",
   "metadata": {},
   "source": [
    "# ExtraTree regressor"
   ]
  },
  {
   "cell_type": "code",
   "execution_count": 41,
   "id": "2f70fecd",
   "metadata": {},
   "outputs": [
    {
     "data": {
      "text/html": [
       "<style>#sk-container-id-1 {color: black;background-color: white;}#sk-container-id-1 pre{padding: 0;}#sk-container-id-1 div.sk-toggleable {background-color: white;}#sk-container-id-1 label.sk-toggleable__label {cursor: pointer;display: block;width: 100%;margin-bottom: 0;padding: 0.3em;box-sizing: border-box;text-align: center;}#sk-container-id-1 label.sk-toggleable__label-arrow:before {content: \"▸\";float: left;margin-right: 0.25em;color: #696969;}#sk-container-id-1 label.sk-toggleable__label-arrow:hover:before {color: black;}#sk-container-id-1 div.sk-estimator:hover label.sk-toggleable__label-arrow:before {color: black;}#sk-container-id-1 div.sk-toggleable__content {max-height: 0;max-width: 0;overflow: hidden;text-align: left;background-color: #f0f8ff;}#sk-container-id-1 div.sk-toggleable__content pre {margin: 0.2em;color: black;border-radius: 0.25em;background-color: #f0f8ff;}#sk-container-id-1 input.sk-toggleable__control:checked~div.sk-toggleable__content {max-height: 200px;max-width: 100%;overflow: auto;}#sk-container-id-1 input.sk-toggleable__control:checked~label.sk-toggleable__label-arrow:before {content: \"▾\";}#sk-container-id-1 div.sk-estimator input.sk-toggleable__control:checked~label.sk-toggleable__label {background-color: #d4ebff;}#sk-container-id-1 div.sk-label input.sk-toggleable__control:checked~label.sk-toggleable__label {background-color: #d4ebff;}#sk-container-id-1 input.sk-hidden--visually {border: 0;clip: rect(1px 1px 1px 1px);clip: rect(1px, 1px, 1px, 1px);height: 1px;margin: -1px;overflow: hidden;padding: 0;position: absolute;width: 1px;}#sk-container-id-1 div.sk-estimator {font-family: monospace;background-color: #f0f8ff;border: 1px dotted black;border-radius: 0.25em;box-sizing: border-box;margin-bottom: 0.5em;}#sk-container-id-1 div.sk-estimator:hover {background-color: #d4ebff;}#sk-container-id-1 div.sk-parallel-item::after {content: \"\";width: 100%;border-bottom: 1px solid gray;flex-grow: 1;}#sk-container-id-1 div.sk-label:hover label.sk-toggleable__label {background-color: #d4ebff;}#sk-container-id-1 div.sk-serial::before {content: \"\";position: absolute;border-left: 1px solid gray;box-sizing: border-box;top: 0;bottom: 0;left: 50%;z-index: 0;}#sk-container-id-1 div.sk-serial {display: flex;flex-direction: column;align-items: center;background-color: white;padding-right: 0.2em;padding-left: 0.2em;position: relative;}#sk-container-id-1 div.sk-item {position: relative;z-index: 1;}#sk-container-id-1 div.sk-parallel {display: flex;align-items: stretch;justify-content: center;background-color: white;position: relative;}#sk-container-id-1 div.sk-item::before, #sk-container-id-1 div.sk-parallel-item::before {content: \"\";position: absolute;border-left: 1px solid gray;box-sizing: border-box;top: 0;bottom: 0;left: 50%;z-index: -1;}#sk-container-id-1 div.sk-parallel-item {display: flex;flex-direction: column;z-index: 1;position: relative;background-color: white;}#sk-container-id-1 div.sk-parallel-item:first-child::after {align-self: flex-end;width: 50%;}#sk-container-id-1 div.sk-parallel-item:last-child::after {align-self: flex-start;width: 50%;}#sk-container-id-1 div.sk-parallel-item:only-child::after {width: 0;}#sk-container-id-1 div.sk-dashed-wrapped {border: 1px dashed gray;margin: 0 0.4em 0.5em 0.4em;box-sizing: border-box;padding-bottom: 0.4em;background-color: white;}#sk-container-id-1 div.sk-label label {font-family: monospace;font-weight: bold;display: inline-block;line-height: 1.2em;}#sk-container-id-1 div.sk-label-container {text-align: center;}#sk-container-id-1 div.sk-container {/* jupyter's `normalize.less` sets `[hidden] { display: none; }` but bootstrap.min.css set `[hidden] { display: none !important; }` so we also need the `!important` here to be able to override the default hidden behavior on the sphinx rendered scikit-learn.org. See: https://github.com/scikit-learn/scikit-learn/issues/21755 */display: inline-block !important;position: relative;}#sk-container-id-1 div.sk-text-repr-fallback {display: none;}</style><div id=\"sk-container-id-1\" class=\"sk-top-container\"><div class=\"sk-text-repr-fallback\"><pre>ExtraTreesRegressor()</pre><b>In a Jupyter environment, please rerun this cell to show the HTML representation or trust the notebook. <br />On GitHub, the HTML representation is unable to render, please try loading this page with nbviewer.org.</b></div><div class=\"sk-container\" hidden><div class=\"sk-item\"><div class=\"sk-estimator sk-toggleable\"><input class=\"sk-toggleable__control sk-hidden--visually\" id=\"sk-estimator-id-1\" type=\"checkbox\" checked><label for=\"sk-estimator-id-1\" class=\"sk-toggleable__label sk-toggleable__label-arrow\">ExtraTreesRegressor</label><div class=\"sk-toggleable__content\"><pre>ExtraTreesRegressor()</pre></div></div></div></div></div>"
      ],
      "text/plain": [
       "ExtraTreesRegressor()"
      ]
     },
     "execution_count": 41,
     "metadata": {},
     "output_type": "execute_result"
    }
   ],
   "source": [
    "# n_samples=1000, n_features=20, n_informative=15, noise=0.1, random_state=3\n",
    "model_ETR = ExtraTreesRegressor()\n",
    "model_ETR.fit(X_train,y_train)"
   ]
  },
  {
   "cell_type": "code",
   "execution_count": 42,
   "id": "6ca39311",
   "metadata": {},
   "outputs": [],
   "source": [
    "res = model_ETR.predict(X_test)"
   ]
  },
  {
   "cell_type": "code",
   "execution_count": 43,
   "id": "c68af7e7",
   "metadata": {},
   "outputs": [
    {
     "name": "stdout",
     "output_type": "stream",
     "text": [
      "MAE 12.230169135973414\n",
      "R2 0.9277696869304775\n",
      "MSE 375.4928493564802\n",
      "The accuracy of our model is 93.0%\n"
     ]
    }
   ],
   "source": [
    "print(\"MAE\",mean_absolute_error(y_test,res))\n",
    "print(\"R2\",r2_score(y_test,res))\n",
    "print(f\"MSE {mean_squared_error(y_test,res)}\")\n",
    "print(\"The accuracy of our model is {}%\".format(round(r2_score(y_test,res), 2) *100))"
   ]
  },
  {
   "cell_type": "code",
   "execution_count": 44,
   "id": "98fa77df",
   "metadata": {},
   "outputs": [
    {
     "data": {
      "text/plain": [
       "0.9277696869304775"
      ]
     },
     "execution_count": 44,
     "metadata": {},
     "output_type": "execute_result"
    }
   ],
   "source": [
    "model_ETR.score(X_test,y_test)"
   ]
  },
  {
   "cell_type": "markdown",
   "id": "ec65ab1a",
   "metadata": {},
   "source": [
    "# RandomForestRegressor"
   ]
  },
  {
   "cell_type": "code",
   "execution_count": 175,
   "id": "4e337dcc",
   "metadata": {},
   "outputs": [
    {
     "data": {
      "text/html": [
       "<style>#sk-container-id-5 {color: black;background-color: white;}#sk-container-id-5 pre{padding: 0;}#sk-container-id-5 div.sk-toggleable {background-color: white;}#sk-container-id-5 label.sk-toggleable__label {cursor: pointer;display: block;width: 100%;margin-bottom: 0;padding: 0.3em;box-sizing: border-box;text-align: center;}#sk-container-id-5 label.sk-toggleable__label-arrow:before {content: \"▸\";float: left;margin-right: 0.25em;color: #696969;}#sk-container-id-5 label.sk-toggleable__label-arrow:hover:before {color: black;}#sk-container-id-5 div.sk-estimator:hover label.sk-toggleable__label-arrow:before {color: black;}#sk-container-id-5 div.sk-toggleable__content {max-height: 0;max-width: 0;overflow: hidden;text-align: left;background-color: #f0f8ff;}#sk-container-id-5 div.sk-toggleable__content pre {margin: 0.2em;color: black;border-radius: 0.25em;background-color: #f0f8ff;}#sk-container-id-5 input.sk-toggleable__control:checked~div.sk-toggleable__content {max-height: 200px;max-width: 100%;overflow: auto;}#sk-container-id-5 input.sk-toggleable__control:checked~label.sk-toggleable__label-arrow:before {content: \"▾\";}#sk-container-id-5 div.sk-estimator input.sk-toggleable__control:checked~label.sk-toggleable__label {background-color: #d4ebff;}#sk-container-id-5 div.sk-label input.sk-toggleable__control:checked~label.sk-toggleable__label {background-color: #d4ebff;}#sk-container-id-5 input.sk-hidden--visually {border: 0;clip: rect(1px 1px 1px 1px);clip: rect(1px, 1px, 1px, 1px);height: 1px;margin: -1px;overflow: hidden;padding: 0;position: absolute;width: 1px;}#sk-container-id-5 div.sk-estimator {font-family: monospace;background-color: #f0f8ff;border: 1px dotted black;border-radius: 0.25em;box-sizing: border-box;margin-bottom: 0.5em;}#sk-container-id-5 div.sk-estimator:hover {background-color: #d4ebff;}#sk-container-id-5 div.sk-parallel-item::after {content: \"\";width: 100%;border-bottom: 1px solid gray;flex-grow: 1;}#sk-container-id-5 div.sk-label:hover label.sk-toggleable__label {background-color: #d4ebff;}#sk-container-id-5 div.sk-serial::before {content: \"\";position: absolute;border-left: 1px solid gray;box-sizing: border-box;top: 0;bottom: 0;left: 50%;z-index: 0;}#sk-container-id-5 div.sk-serial {display: flex;flex-direction: column;align-items: center;background-color: white;padding-right: 0.2em;padding-left: 0.2em;position: relative;}#sk-container-id-5 div.sk-item {position: relative;z-index: 1;}#sk-container-id-5 div.sk-parallel {display: flex;align-items: stretch;justify-content: center;background-color: white;position: relative;}#sk-container-id-5 div.sk-item::before, #sk-container-id-5 div.sk-parallel-item::before {content: \"\";position: absolute;border-left: 1px solid gray;box-sizing: border-box;top: 0;bottom: 0;left: 50%;z-index: -1;}#sk-container-id-5 div.sk-parallel-item {display: flex;flex-direction: column;z-index: 1;position: relative;background-color: white;}#sk-container-id-5 div.sk-parallel-item:first-child::after {align-self: flex-end;width: 50%;}#sk-container-id-5 div.sk-parallel-item:last-child::after {align-self: flex-start;width: 50%;}#sk-container-id-5 div.sk-parallel-item:only-child::after {width: 0;}#sk-container-id-5 div.sk-dashed-wrapped {border: 1px dashed gray;margin: 0 0.4em 0.5em 0.4em;box-sizing: border-box;padding-bottom: 0.4em;background-color: white;}#sk-container-id-5 div.sk-label label {font-family: monospace;font-weight: bold;display: inline-block;line-height: 1.2em;}#sk-container-id-5 div.sk-label-container {text-align: center;}#sk-container-id-5 div.sk-container {/* jupyter's `normalize.less` sets `[hidden] { display: none; }` but bootstrap.min.css set `[hidden] { display: none !important; }` so we also need the `!important` here to be able to override the default hidden behavior on the sphinx rendered scikit-learn.org. See: https://github.com/scikit-learn/scikit-learn/issues/21755 */display: inline-block !important;position: relative;}#sk-container-id-5 div.sk-text-repr-fallback {display: none;}</style><div id=\"sk-container-id-5\" class=\"sk-top-container\"><div class=\"sk-text-repr-fallback\"><pre>RandomForestRegressor(n_estimators=10, random_state=1)</pre><b>In a Jupyter environment, please rerun this cell to show the HTML representation or trust the notebook. <br />On GitHub, the HTML representation is unable to render, please try loading this page with nbviewer.org.</b></div><div class=\"sk-container\" hidden><div class=\"sk-item\"><div class=\"sk-estimator sk-toggleable\"><input class=\"sk-toggleable__control sk-hidden--visually\" id=\"sk-estimator-id-5\" type=\"checkbox\" checked><label for=\"sk-estimator-id-5\" class=\"sk-toggleable__label sk-toggleable__label-arrow\">RandomForestRegressor</label><div class=\"sk-toggleable__content\"><pre>RandomForestRegressor(n_estimators=10, random_state=1)</pre></div></div></div></div></div>"
      ],
      "text/plain": [
       "RandomForestRegressor(n_estimators=10, random_state=1)"
      ]
     },
     "execution_count": 175,
     "metadata": {},
     "output_type": "execute_result"
    }
   ],
   "source": [
    "model_ETR = RandomForestRegressor(random_state=1, n_estimators=10)\n",
    "model_ETR.fit(X_train,y_train)"
   ]
  },
  {
   "cell_type": "code",
   "execution_count": 176,
   "id": "adb90d1b",
   "metadata": {},
   "outputs": [],
   "source": [
    "res = model_ETR.predict(X_test)"
   ]
  },
  {
   "cell_type": "code",
   "execution_count": 177,
   "id": "b98c4b4d",
   "metadata": {},
   "outputs": [
    {
     "name": "stdout",
     "output_type": "stream",
     "text": [
      "MAE 12.66826686974984\n",
      "R2 0.9200811803116478\n",
      "MSE 415.46193068694294\n",
      "The accuracy of our model is 92.0%\n"
     ]
    }
   ],
   "source": [
    "print(\"MAE\",mean_absolute_error(y_test,res))\n",
    "print(\"R2\",r2_score(y_test,res))\n",
    "print(f\"MSE {mean_squared_error(y_test,res)}\")\n",
    "print(\"The accuracy of our model is {}%\".format(round(r2_score(y_test,res), 2) *100))"
   ]
  },
  {
   "cell_type": "code",
   "execution_count": 178,
   "id": "33e45e68",
   "metadata": {},
   "outputs": [
    {
     "data": {
      "text/plain": [
       "0.9200811803116478"
      ]
     },
     "execution_count": 178,
     "metadata": {},
     "output_type": "execute_result"
    }
   ],
   "source": [
    "model_ETR.score(X_test,y_test)"
   ]
  },
  {
   "cell_type": "markdown",
   "id": "0c1ae2c5",
   "metadata": {},
   "source": [
    "# Predicting using best model for full dataset"
   ]
  },
  {
   "cell_type": "code",
   "execution_count": 45,
   "id": "f2129c32",
   "metadata": {},
   "outputs": [],
   "source": [
    "pred_delay = model_ETR.predict(X_r)\n",
    "df_ra =X_r\n",
    "df_ra['predicted_delay'] = pred_delay"
   ]
  },
  {
   "cell_type": "code",
   "execution_count": 46,
   "id": "30de9212",
   "metadata": {},
   "outputs": [
    {
     "name": "stdout",
     "output_type": "stream",
     "text": [
      "MAE 2.4462107654985634\n",
      "R2 0.985506980624233\n",
      "MSE 75.10077342030418\n",
      "MSE 75.10077342030418\n",
      "The accuracy of our model is 99.0%\n"
     ]
    }
   ],
   "source": [
    "print(\"MAE\",mean_absolute_error(pred_delay,y_r))\n",
    "print(\"R2\",r2_score(pred_delay,y_r))\n",
    "print(f\"MSE {mean_squared_error(pred_delay,y_r)}\")\n",
    "print(f\"MSE {mean_squared_error(pred_delay,y_r)}\")\n",
    "print(\"The accuracy of our model is {}%\".format(round(r2_score(pred_delay,y_r), 2) *100))"
   ]
  },
  {
   "cell_type": "code",
   "execution_count": 47,
   "id": "13bb69fb",
   "metadata": {},
   "outputs": [
    {
     "data": {
      "text/html": [
       "<div>\n",
       "<style scoped>\n",
       "    .dataframe tbody tr th:only-of-type {\n",
       "        vertical-align: middle;\n",
       "    }\n",
       "\n",
       "    .dataframe tbody tr th {\n",
       "        vertical-align: top;\n",
       "    }\n",
       "\n",
       "    .dataframe thead th {\n",
       "        text-align: right;\n",
       "    }\n",
       "</style>\n",
       "<table border=\"1\" class=\"dataframe\">\n",
       "  <thead>\n",
       "    <tr style=\"text-align: right;\">\n",
       "      <th></th>\n",
       "      <th>Year</th>\n",
       "      <th>Month</th>\n",
       "      <th>DayofMonth</th>\n",
       "      <th>OriginAirportID</th>\n",
       "      <th>DestAirportID</th>\n",
       "      <th>CRSDepTime</th>\n",
       "      <th>CRSArrTime</th>\n",
       "      <th>windspeedKmph</th>\n",
       "      <th>DewPointF</th>\n",
       "      <th>cloudcover</th>\n",
       "      <th>precipMM</th>\n",
       "      <th>pressure</th>\n",
       "      <th>visibility</th>\n",
       "      <th>weatherCode</th>\n",
       "      <th>tempF</th>\n",
       "      <th>winddirDegree</th>\n",
       "      <th>humidity</th>\n",
       "      <th>ArrTime</th>\n",
       "      <th>ArrDel15</th>\n",
       "      <th>predicted_delay</th>\n",
       "    </tr>\n",
       "  </thead>\n",
       "  <tbody>\n",
       "    <tr>\n",
       "      <th>0</th>\n",
       "      <td>2017</td>\n",
       "      <td>9</td>\n",
       "      <td>25</td>\n",
       "      <td>12478</td>\n",
       "      <td>12892</td>\n",
       "      <td>1945</td>\n",
       "      <td>2312</td>\n",
       "      <td>9</td>\n",
       "      <td>65</td>\n",
       "      <td>51</td>\n",
       "      <td>0.0</td>\n",
       "      <td>1017</td>\n",
       "      <td>10</td>\n",
       "      <td>113</td>\n",
       "      <td>68</td>\n",
       "      <td>138</td>\n",
       "      <td>90</td>\n",
       "      <td>28.0</td>\n",
       "      <td>1.0</td>\n",
       "      <td>104.0</td>\n",
       "    </tr>\n",
       "    <tr>\n",
       "      <th>1</th>\n",
       "      <td>2017</td>\n",
       "      <td>9</td>\n",
       "      <td>25</td>\n",
       "      <td>13204</td>\n",
       "      <td>12478</td>\n",
       "      <td>1954</td>\n",
       "      <td>2236</td>\n",
       "      <td>11</td>\n",
       "      <td>71</td>\n",
       "      <td>31</td>\n",
       "      <td>0.0</td>\n",
       "      <td>1010</td>\n",
       "      <td>10</td>\n",
       "      <td>116</td>\n",
       "      <td>85</td>\n",
       "      <td>113</td>\n",
       "      <td>63</td>\n",
       "      <td>2238.0</td>\n",
       "      <td>0.0</td>\n",
       "      <td>20.0</td>\n",
       "    </tr>\n",
       "    <tr>\n",
       "      <th>2</th>\n",
       "      <td>2017</td>\n",
       "      <td>9</td>\n",
       "      <td>25</td>\n",
       "      <td>12889</td>\n",
       "      <td>12478</td>\n",
       "      <td>2359</td>\n",
       "      <td>757</td>\n",
       "      <td>10</td>\n",
       "      <td>23</td>\n",
       "      <td>0</td>\n",
       "      <td>0.0</td>\n",
       "      <td>1014</td>\n",
       "      <td>10</td>\n",
       "      <td>113</td>\n",
       "      <td>57</td>\n",
       "      <td>328</td>\n",
       "      <td>26</td>\n",
       "      <td>809.0</td>\n",
       "      <td>0.0</td>\n",
       "      <td>25.0</td>\n",
       "    </tr>\n",
       "    <tr>\n",
       "      <th>3</th>\n",
       "      <td>2017</td>\n",
       "      <td>9</td>\n",
       "      <td>25</td>\n",
       "      <td>12478</td>\n",
       "      <td>12892</td>\n",
       "      <td>2143</td>\n",
       "      <td>59</td>\n",
       "      <td>6</td>\n",
       "      <td>66</td>\n",
       "      <td>44</td>\n",
       "      <td>0.0</td>\n",
       "      <td>1017</td>\n",
       "      <td>10</td>\n",
       "      <td>113</td>\n",
       "      <td>68</td>\n",
       "      <td>127</td>\n",
       "      <td>91</td>\n",
       "      <td>213.0</td>\n",
       "      <td>1.0</td>\n",
       "      <td>98.0</td>\n",
       "    </tr>\n",
       "    <tr>\n",
       "      <th>4</th>\n",
       "      <td>2017</td>\n",
       "      <td>9</td>\n",
       "      <td>26</td>\n",
       "      <td>11292</td>\n",
       "      <td>12478</td>\n",
       "      <td>2359</td>\n",
       "      <td>549</td>\n",
       "      <td>11</td>\n",
       "      <td>40</td>\n",
       "      <td>0</td>\n",
       "      <td>0.0</td>\n",
       "      <td>1018</td>\n",
       "      <td>10</td>\n",
       "      <td>113</td>\n",
       "      <td>43</td>\n",
       "      <td>118</td>\n",
       "      <td>90</td>\n",
       "      <td>534.0</td>\n",
       "      <td>0.0</td>\n",
       "      <td>17.0</td>\n",
       "    </tr>\n",
       "    <tr>\n",
       "      <th>...</th>\n",
       "      <td>...</td>\n",
       "      <td>...</td>\n",
       "      <td>...</td>\n",
       "      <td>...</td>\n",
       "      <td>...</td>\n",
       "      <td>...</td>\n",
       "      <td>...</td>\n",
       "      <td>...</td>\n",
       "      <td>...</td>\n",
       "      <td>...</td>\n",
       "      <td>...</td>\n",
       "      <td>...</td>\n",
       "      <td>...</td>\n",
       "      <td>...</td>\n",
       "      <td>...</td>\n",
       "      <td>...</td>\n",
       "      <td>...</td>\n",
       "      <td>...</td>\n",
       "      <td>...</td>\n",
       "      <td>...</td>\n",
       "    </tr>\n",
       "    <tr>\n",
       "      <th>361093</th>\n",
       "      <td>2016</td>\n",
       "      <td>1</td>\n",
       "      <td>3</td>\n",
       "      <td>13303</td>\n",
       "      <td>10397</td>\n",
       "      <td>1925</td>\n",
       "      <td>2132</td>\n",
       "      <td>9</td>\n",
       "      <td>71</td>\n",
       "      <td>69</td>\n",
       "      <td>0.0</td>\n",
       "      <td>1012</td>\n",
       "      <td>10</td>\n",
       "      <td>176</td>\n",
       "      <td>79</td>\n",
       "      <td>211</td>\n",
       "      <td>77</td>\n",
       "      <td>2202.0</td>\n",
       "      <td>1.0</td>\n",
       "      <td>26.0</td>\n",
       "    </tr>\n",
       "    <tr>\n",
       "      <th>361094</th>\n",
       "      <td>2016</td>\n",
       "      <td>1</td>\n",
       "      <td>3</td>\n",
       "      <td>13930</td>\n",
       "      <td>12889</td>\n",
       "      <td>2150</td>\n",
       "      <td>2359</td>\n",
       "      <td>16</td>\n",
       "      <td>22</td>\n",
       "      <td>39</td>\n",
       "      <td>0.0</td>\n",
       "      <td>1027</td>\n",
       "      <td>10</td>\n",
       "      <td>113</td>\n",
       "      <td>24</td>\n",
       "      <td>308</td>\n",
       "      <td>90</td>\n",
       "      <td>16.0</td>\n",
       "      <td>1.0</td>\n",
       "      <td>21.0</td>\n",
       "    </tr>\n",
       "    <tr>\n",
       "      <th>361095</th>\n",
       "      <td>2016</td>\n",
       "      <td>1</td>\n",
       "      <td>3</td>\n",
       "      <td>14107</td>\n",
       "      <td>11292</td>\n",
       "      <td>2110</td>\n",
       "      <td>2259</td>\n",
       "      <td>17</td>\n",
       "      <td>38</td>\n",
       "      <td>99</td>\n",
       "      <td>0.0</td>\n",
       "      <td>1013</td>\n",
       "      <td>10</td>\n",
       "      <td>122</td>\n",
       "      <td>62</td>\n",
       "      <td>76</td>\n",
       "      <td>42</td>\n",
       "      <td>2338.0</td>\n",
       "      <td>1.0</td>\n",
       "      <td>42.0</td>\n",
       "    </tr>\n",
       "    <tr>\n",
       "      <th>361096</th>\n",
       "      <td>2016</td>\n",
       "      <td>1</td>\n",
       "      <td>3</td>\n",
       "      <td>11292</td>\n",
       "      <td>14107</td>\n",
       "      <td>1830</td>\n",
       "      <td>2024</td>\n",
       "      <td>4</td>\n",
       "      <td>26</td>\n",
       "      <td>100</td>\n",
       "      <td>0.0</td>\n",
       "      <td>1029</td>\n",
       "      <td>0</td>\n",
       "      <td>260</td>\n",
       "      <td>26</td>\n",
       "      <td>158</td>\n",
       "      <td>100</td>\n",
       "      <td>2117.0</td>\n",
       "      <td>1.0</td>\n",
       "      <td>58.0</td>\n",
       "    </tr>\n",
       "    <tr>\n",
       "      <th>361097</th>\n",
       "      <td>2016</td>\n",
       "      <td>1</td>\n",
       "      <td>3</td>\n",
       "      <td>13930</td>\n",
       "      <td>13204</td>\n",
       "      <td>925</td>\n",
       "      <td>1312</td>\n",
       "      <td>19</td>\n",
       "      <td>21</td>\n",
       "      <td>100</td>\n",
       "      <td>0.0</td>\n",
       "      <td>1022</td>\n",
       "      <td>10</td>\n",
       "      <td>122</td>\n",
       "      <td>24</td>\n",
       "      <td>333</td>\n",
       "      <td>89</td>\n",
       "      <td>1419.0</td>\n",
       "      <td>1.0</td>\n",
       "      <td>74.0</td>\n",
       "    </tr>\n",
       "  </tbody>\n",
       "</table>\n",
       "<p>361098 rows × 20 columns</p>\n",
       "</div>"
      ],
      "text/plain": [
       "        Year  Month  DayofMonth  OriginAirportID  DestAirportID  CRSDepTime  \\\n",
       "0       2017      9          25            12478          12892        1945   \n",
       "1       2017      9          25            13204          12478        1954   \n",
       "2       2017      9          25            12889          12478        2359   \n",
       "3       2017      9          25            12478          12892        2143   \n",
       "4       2017      9          26            11292          12478        2359   \n",
       "...      ...    ...         ...              ...            ...         ...   \n",
       "361093  2016      1           3            13303          10397        1925   \n",
       "361094  2016      1           3            13930          12889        2150   \n",
       "361095  2016      1           3            14107          11292        2110   \n",
       "361096  2016      1           3            11292          14107        1830   \n",
       "361097  2016      1           3            13930          13204         925   \n",
       "\n",
       "        CRSArrTime  windspeedKmph  DewPointF  cloudcover  precipMM  pressure  \\\n",
       "0             2312              9         65          51       0.0      1017   \n",
       "1             2236             11         71          31       0.0      1010   \n",
       "2              757             10         23           0       0.0      1014   \n",
       "3               59              6         66          44       0.0      1017   \n",
       "4              549             11         40           0       0.0      1018   \n",
       "...            ...            ...        ...         ...       ...       ...   \n",
       "361093        2132              9         71          69       0.0      1012   \n",
       "361094        2359             16         22          39       0.0      1027   \n",
       "361095        2259             17         38          99       0.0      1013   \n",
       "361096        2024              4         26         100       0.0      1029   \n",
       "361097        1312             19         21         100       0.0      1022   \n",
       "\n",
       "        visibility  weatherCode  tempF  winddirDegree  humidity  ArrTime  \\\n",
       "0               10          113     68            138        90     28.0   \n",
       "1               10          116     85            113        63   2238.0   \n",
       "2               10          113     57            328        26    809.0   \n",
       "3               10          113     68            127        91    213.0   \n",
       "4               10          113     43            118        90    534.0   \n",
       "...            ...          ...    ...            ...       ...      ...   \n",
       "361093          10          176     79            211        77   2202.0   \n",
       "361094          10          113     24            308        90     16.0   \n",
       "361095          10          122     62             76        42   2338.0   \n",
       "361096           0          260     26            158       100   2117.0   \n",
       "361097          10          122     24            333        89   1419.0   \n",
       "\n",
       "        ArrDel15  predicted_delay  \n",
       "0            1.0            104.0  \n",
       "1            0.0             20.0  \n",
       "2            0.0             25.0  \n",
       "3            1.0             98.0  \n",
       "4            0.0             17.0  \n",
       "...          ...              ...  \n",
       "361093       1.0             26.0  \n",
       "361094       1.0             21.0  \n",
       "361095       1.0             42.0  \n",
       "361096       1.0             58.0  \n",
       "361097       1.0             74.0  \n",
       "\n",
       "[361098 rows x 20 columns]"
      ]
     },
     "execution_count": 47,
     "metadata": {},
     "output_type": "execute_result"
    }
   ],
   "source": [
    "df_ra"
   ]
  },
  {
   "cell_type": "markdown",
   "id": "3ee90b7a",
   "metadata": {},
   "source": [
    "# Regression analysis"
   ]
  },
  {
   "cell_type": "code",
   "execution_count": 48,
   "id": "38efa279",
   "metadata": {},
   "outputs": [
    {
     "data": {
      "text/plain": [
       "2149.0"
      ]
     },
     "execution_count": 48,
     "metadata": {},
     "output_type": "execute_result"
    }
   ],
   "source": [
    "df_ra['predicted_delay'].max()"
   ]
  },
  {
   "cell_type": "code",
   "execution_count": 49,
   "id": "15cc0f0f",
   "metadata": {},
   "outputs": [
    {
     "data": {
      "text/plain": [
       "0.0"
      ]
     },
     "execution_count": 49,
     "metadata": {},
     "output_type": "execute_result"
    }
   ],
   "source": [
    "df_ra['predicted_delay'].min()"
   ]
  },
  {
   "cell_type": "code",
   "execution_count": 50,
   "id": "3902c70a",
   "metadata": {},
   "outputs": [],
   "source": [
    "df_ra['depDelay'] = y_r"
   ]
  },
  {
   "cell_type": "code",
   "execution_count": 51,
   "id": "fddb2acc",
   "metadata": {},
   "outputs": [],
   "source": [
    "final_dist = []"
   ]
  },
  {
   "cell_type": "code",
   "execution_count": 52,
   "id": "498e8aac",
   "metadata": {
    "scrolled": true
   },
   "outputs": [
    {
     "name": "stdout",
     "output_type": "stream",
     "text": [
      "----------------------------------------------------------------------\n",
      "MAE 2.1943557917439125\n",
      "R2 0.8982050938822558\n",
      "MSE 57.15459628095663\n",
      "----------------------------------------------------------------------\n",
      "\n"
     ]
    }
   ],
   "source": [
    "batch = df_ra[(df_ra['predicted_delay'] >= 15) & (df_ra['predicted_delay'] <= 100)] \n",
    "actual = batch['depDelay']\n",
    "batch = batch.drop(['depDelay'],axis=1)\n",
    "X_ra = batch.drop(['predicted_delay'],axis=1)\n",
    "y_ra = batch['predicted_delay']\n",
    "res = model_ETR.predict(X_ra)\n",
    "print('----------------------------------------------------------------------')\n",
    "print(\"MAE\",mean_absolute_error(actual,res))\n",
    "print(\"R2\",r2_score(actual,res))\n",
    "print(f\"MSE {mean_squared_error(actual,res)}\")\n",
    "print('----------------------------------------------------------------------')\n",
    "print()\n",
    "final_dist.extend(res)"
   ]
  },
  {
   "cell_type": "code",
   "execution_count": 53,
   "id": "07982c58",
   "metadata": {},
   "outputs": [
    {
     "data": {
      "text/plain": [
       "(270782, 20)"
      ]
     },
     "execution_count": 53,
     "metadata": {},
     "output_type": "execute_result"
    }
   ],
   "source": [
    "batch.shape"
   ]
  },
  {
   "cell_type": "code",
   "execution_count": 54,
   "id": "4ee10182",
   "metadata": {},
   "outputs": [
    {
     "name": "stdout",
     "output_type": "stream",
     "text": [
      "----------------------------------------------------------------------\n",
      "MAE 3.5667465222322523\n",
      "R2 0.8198872648343369\n",
      "MSE 162.62793144689024\n",
      "----------------------------------------------------------------------\n",
      "\n"
     ]
    }
   ],
   "source": [
    "batch = df_ra[(df_ra['predicted_delay'] >= 100) & (df_ra['predicted_delay'] <= 200)] \n",
    "actual = batch['depDelay']\n",
    "batch = batch.drop(['depDelay'],axis=1)\n",
    "X_ra = batch.drop(['predicted_delay'],axis=1)\n",
    "y_ra = batch['predicted_delay']\n",
    "res = model_ETR.predict(X_ra)\n",
    "print('----------------------------------------------------------------------')\n",
    "print(\"MAE\",mean_absolute_error(actual,res))\n",
    "print(\"R2\",r2_score(actual,res))\n",
    "print(f\"MSE {mean_squared_error(actual,res)}\")\n",
    "print('----------------------------------------------------------------------')\n",
    "print()\n",
    "final_dist.extend(res)"
   ]
  },
  {
   "cell_type": "code",
   "execution_count": 55,
   "id": "82690f7a",
   "metadata": {},
   "outputs": [
    {
     "data": {
      "text/plain": [
       "(43203, 20)"
      ]
     },
     "execution_count": 55,
     "metadata": {},
     "output_type": "execute_result"
    }
   ],
   "source": [
    "batch.shape"
   ]
  },
  {
   "cell_type": "code",
   "execution_count": 56,
   "id": "b9129e98",
   "metadata": {},
   "outputs": [
    {
     "name": "stdout",
     "output_type": "stream",
     "text": [
      "----------------------------------------------------------------------\n",
      "MAE 4.178472429796272\n",
      "R2 0.9583937926940839\n",
      "MSE 190.14273442932432\n",
      "----------------------------------------------------------------------\n",
      "\n"
     ]
    }
   ],
   "source": [
    "batch = df_ra[(df_ra['predicted_delay'] >= 200) & (df_ra['predicted_delay'] <= 500)] \n",
    "actual = batch['depDelay']\n",
    "batch = batch.drop(['depDelay'],axis=1)\n",
    "X_ra = batch.drop(['predicted_delay'],axis=1)\n",
    "y_ra = batch['predicted_delay']\n",
    "res = model_ETR.predict(X_ra)\n",
    "print('----------------------------------------------------------------------')\n",
    "print(\"MAE\",mean_absolute_error(actual,res))\n",
    "print(\"R2\",r2_score(actual,res))\n",
    "print(f\"MSE {mean_squared_error(actual,res)}\")\n",
    "print('----------------------------------------------------------------------')\n",
    "print()\n",
    "final_dist.extend(res)"
   ]
  },
  {
   "cell_type": "code",
   "execution_count": 57,
   "id": "46747d69",
   "metadata": {},
   "outputs": [
    {
     "data": {
      "text/plain": [
       "(12713, 20)"
      ]
     },
     "execution_count": 57,
     "metadata": {},
     "output_type": "execute_result"
    }
   ],
   "source": [
    "batch.shape"
   ]
  },
  {
   "cell_type": "code",
   "execution_count": 58,
   "id": "a730b624",
   "metadata": {},
   "outputs": [
    {
     "name": "stdout",
     "output_type": "stream",
     "text": [
      "----------------------------------------------------------------------\n",
      "MAE 6.554764649375601\n",
      "R2 0.9499008316888632\n",
      "MSE 1077.5283267050913\n",
      "----------------------------------------------------------------------\n",
      "\n"
     ]
    }
   ],
   "source": [
    "batch = df_ra[(df_ra['predicted_delay'] >= 500) & (df_ra['predicted_delay'] <= 1000)] \n",
    "actual = batch['depDelay']\n",
    "batch = batch.drop(['depDelay'],axis=1)\n",
    "X_ra = batch.drop(['predicted_delay'],axis=1)\n",
    "y_ra = batch['predicted_delay']\n",
    "res = model_ETR.predict(X_ra)\n",
    "print('----------------------------------------------------------------------')\n",
    "print(\"MAE\",mean_absolute_error(actual,res))\n",
    "print(\"R2\",r2_score(actual,res))\n",
    "print(f\"MSE {mean_squared_error(actual,res)}\")\n",
    "print('----------------------------------------------------------------------')\n",
    "print()\n",
    "final_dist.extend(res)"
   ]
  },
  {
   "cell_type": "code",
   "execution_count": 59,
   "id": "2a3f2ce2",
   "metadata": {},
   "outputs": [
    {
     "data": {
      "text/plain": [
       "(1041, 20)"
      ]
     },
     "execution_count": 59,
     "metadata": {},
     "output_type": "execute_result"
    }
   ],
   "source": [
    "batch.shape"
   ]
  },
  {
   "cell_type": "code",
   "execution_count": 60,
   "id": "8d572637",
   "metadata": {},
   "outputs": [
    {
     "name": "stdout",
     "output_type": "stream",
     "text": [
      "----------------------------------------------------------------------\n",
      "MAE 6.810616438356165\n",
      "R2 0.9771189559902609\n",
      "MSE 591.1023527397264\n",
      "----------------------------------------------------------------------\n",
      "\n"
     ]
    }
   ],
   "source": [
    "batch = df_ra[(df_ra['predicted_delay'] >= 1000)& (df_ra['predicted_delay'] <= 2000)] \n",
    "actual = batch['depDelay']\n",
    "batch = batch.drop(['depDelay'],axis=1)\n",
    "X_ra = batch.drop(['predicted_delay'],axis=1)\n",
    "y_ra = batch['predicted_delay']\n",
    "res = model_ETR.predict(X_ra)\n",
    "print('----------------------------------------------------------------------')\n",
    "print(\"MAE\",mean_absolute_error(actual,res))\n",
    "print(\"R2\",r2_score(actual,res))\n",
    "print(f\"MSE {mean_squared_error(actual,res)}\")\n",
    "print('----------------------------------------------------------------------')\n",
    "print()\n",
    "final_dist.extend(res)"
   ]
  },
  {
   "cell_type": "code",
   "execution_count": 61,
   "id": "e1fa2aa7",
   "metadata": {},
   "outputs": [
    {
     "data": {
      "text/plain": [
       "(146, 20)"
      ]
     },
     "execution_count": 61,
     "metadata": {},
     "output_type": "execute_result"
    }
   ],
   "source": [
    "batch.shape"
   ]
  },
  {
   "cell_type": "code",
   "execution_count": 62,
   "id": "bc57b400",
   "metadata": {},
   "outputs": [
    {
     "name": "stdout",
     "output_type": "stream",
     "text": [
      "----------------------------------------------------------------------\n",
      "MAE 0.0\n",
      "R2 1.0\n",
      "MSE 0.0\n",
      "----------------------------------------------------------------------\n",
      "\n"
     ]
    }
   ],
   "source": [
    "batch = df_ra[(df_ra['predicted_delay'] >= 2000)]\n",
    "actual = batch['depDelay']\n",
    "batch = batch.drop(['depDelay'],axis=1)\n",
    "X_ra = batch.drop(['predicted_delay'],axis=1)\n",
    "y_ra = batch['predicted_delay']\n",
    "res = model_ETR.predict(X_ra)\n",
    "print('----------------------------------------------------------------------')\n",
    "print(\"MAE\",mean_absolute_error(actual,res))\n",
    "print(\"R2\",r2_score(actual,res))\n",
    "print(f\"MSE {mean_squared_error(actual,res)}\")\n",
    "print('----------------------------------------------------------------------')\n",
    "print()\n",
    "final_dist.extend(res)"
   ]
  },
  {
   "cell_type": "code",
   "execution_count": 63,
   "id": "8dc61536",
   "metadata": {},
   "outputs": [
    {
     "data": {
      "text/plain": [
       "(2, 20)"
      ]
     },
     "execution_count": 63,
     "metadata": {},
     "output_type": "execute_result"
    }
   ],
   "source": [
    "batch.shape"
   ]
  },
  {
   "cell_type": "code",
   "execution_count": 64,
   "id": "325a80b4",
   "metadata": {},
   "outputs": [],
   "source": [
    "ranges = {\"15-100\":270764,\"100-200\":43231,\"200-500\":12711,\"500-1000\":1042,\"1000-2000\":144,\"2000+\":2}"
   ]
  },
  {
   "cell_type": "code",
   "execution_count": 65,
   "id": "af71570e",
   "metadata": {},
   "outputs": [],
   "source": [
    "x = list(ranges.values())\n",
    "y = list(ranges.keys())"
   ]
  },
  {
   "cell_type": "code",
   "execution_count": 66,
   "id": "3e33c2dc",
   "metadata": {},
   "outputs": [
    {
     "data": {
      "text/plain": [
       "327887"
      ]
     },
     "execution_count": 66,
     "metadata": {},
     "output_type": "execute_result"
    }
   ],
   "source": [
    "len(final_dist)"
   ]
  },
  {
   "cell_type": "code",
   "execution_count": 67,
   "id": "5cf91239",
   "metadata": {},
   "outputs": [
    {
     "data": {
      "image/png": "[encoded data removed]",
      "text/plain": [
       "<Figure size 504x864 with 1 Axes>"
      ]
     },
     "metadata": {
      "needs_background": "light"
     },
     "output_type": "display_data"
    }
   ],
   "source": [
    "plt.figure(figsize=(7,12))\n",
    "plt.boxplot(final_dist,)\n",
    "plt.ylabel('Delay in minutes')\n",
    "plt.show()"
   ]
  },
  {
   "cell_type": "code",
   "execution_count": null,
   "id": "33a4d0b6",
   "metadata": {},
   "outputs": [],
   "source": []
  }
 ],
 "metadata": {
  "kernelspec": {
   "display_name": "Python 3 (ipykernel)",
   "language": "python",
   "name": "python3"
  },
  "language_info": {
   "codemirror_mode": {
    "name": "ipython",
    "version": 3
   },
   "file_extension": ".py",
   "mimetype": "text/x-python",
   "name": "python",
   "nbconvert_exporter": "python",
   "pygments_lexer": "ipython3",
   "version": "3.9.12"
  }
 },
 "nbformat": 4,
 "nbformat_minor": 5
}
